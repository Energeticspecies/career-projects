{
 "cells": [
  {
   "cell_type": "markdown",
   "metadata": {},
   "source": [
    "<div style=\"border:solid blue 2px; padding: 20px\">\n",
    "\n",
    "**Overall Summary of the Project Iter 2**\n",
    "\n",
    "Congrats on your approval, Chester! ;)"
   ]
  },
  {
   "cell_type": "markdown",
   "metadata": {
    "id": "JKIIqy01lgHq"
   },
   "source": [
    "# Project: Data Analysis with Pandas\n",
    "\n",
    "In this project, you will work with a dataset containing information about movies and shows. You will use the pandas library to read, clean, and analyze the data. This project will help you practice working with DataFrames, indexing, and data manipulation using pandas.\n",
    "\n",
    "\n",
    "## Dataset Description\n",
    "\n",
    "The dataset `movies_and_shows.csv` contains information about various movies and shows, including:\n",
    "\n",
    "- **name**: The name of the actor or actress.\n",
    "- **Character**: The character they played.\n",
    "- **r0le**: The role type (e.g., ACTOR).\n",
    "- **TITLE**: The title of the movie or show.\n",
    "- **Type**: Whether it's a MOVIE or SHOW.\n",
    "- **release Year**: The year it was released.\n",
    "- **genres**: A list of genres the movie or show belongs to.\n",
    "- **imdb sc0re**: The IMDb score of the movie or show.\n",
    "- **imdb v0tes**: The number of votes on IMDb.\n",
    "\n",
    "Here's a small sample of the dataset:\n",
    "\n",
    "| name              | Character                         | r0le   | TITLE        |  Type | release Year | genres             | imdb sc0re | imdb v0tes |\n",
    "|-------------------|-----------------------------------|--------|--------------|-------|--------------|--------------------|------------|------------|\n",
    "| Robert De Niro    | Travis Bickle                     | ACTOR  | Taxi Driver  | MOVIE | 1976         | ['drama', 'crime'] | 8.2        | 808582     |\n",
    "| Jodie Foster      | Iris Steensma                     | ACTOR  | Taxi Driver  | MOVIE | 1976         | ['drama', 'crime'] | 8.2        | 808582     |\n",
    "| Albert Brooks     | Tom                               | ACTOR  | Taxi Driver  | MOVIE | 1976         | ['drama', 'crime'] | 8.2        | 808582     |\n",
    "| Harvey Keitel     | Matthew 'Sport' Higgins           | ACTOR  | Taxi Driver  | MOVIE | 1976         | ['drama', 'crime'] | 8.2        | 808582     |\n",
    "| Cybill Shepherd   | Betsy                             | ACTOR  | Taxi Driver  | MOVIE | 1976         | ['drama', 'crime'] | 8.2        | 808582     |\n",
    "\n"
   ]
  },
  {
   "cell_type": "markdown",
   "metadata": {
    "id": "csnpkGaRlkVj"
   },
   "source": [
    "## Getting Started\n",
    "\n",
    "Let's begin by setting up our environment.\n",
    "\n",
    "### Importing Libraries\n",
    "\n",
    "First, we need to import the necessary libraries.\n",
    "\n",
    "**Instructions:**\n",
    "\n",
    "- Import the `pandas` library, which we will use for data manipulation."
   ]
  },
  {
   "cell_type": "code",
   "execution_count": 1,
   "metadata": {
    "id": "xVSzQhyjlg2F",
    "trusted": true
   },
   "outputs": [],
   "source": [
    "import pandas as pd \n"
   ]
  },
  {
   "cell_type": "markdown",
   "metadata": {
    "id": "C2Ks4kU9lsH7"
   },
   "source": [
    "We will load the dataset into a pandas DataFrame to begin our analysis.\n",
    "\n",
    "**Instructions:**\n",
    "\n",
    "- Read the `movies_and_shows.csv` file into a DataFrame. It is in the /datasets directory so the full path to include in the read_csv method will be \"/datasets/movies_and_shows.csv\"\n",
    "- Display the first few rows of the DataFrame to get an initial look at the data.\n",
    "\n",
    "**Hints:**\n",
    "\n",
    "- Use `pd.read_csv()` to read the CSV file and store it in a variable called \"df\".\n",
    "- Use the `.head()` method to display the first few rows."
   ]
  },
  {
   "cell_type": "code",
   "execution_count": 2,
   "metadata": {
    "id": "afwv-RRIlwcF",
    "trusted": true
   },
   "outputs": [],
   "source": [
    "df = pd.read_csv(\"/datasets/movies_and_shows.csv\")# Read the dataset into a DataFrame\n",
    "\n"
   ]
  },
  {
   "cell_type": "code",
   "execution_count": 3,
   "metadata": {
    "id": "iHI5NhB6mYel",
    "trusted": true
   },
   "outputs": [
    {
     "data": {
      "text/html": [
       "<div>\n",
       "<style scoped>\n",
       "    .dataframe tbody tr th:only-of-type {\n",
       "        vertical-align: middle;\n",
       "    }\n",
       "\n",
       "    .dataframe tbody tr th {\n",
       "        vertical-align: top;\n",
       "    }\n",
       "\n",
       "    .dataframe thead th {\n",
       "        text-align: right;\n",
       "    }\n",
       "</style>\n",
       "<table border=\"1\" class=\"dataframe\">\n",
       "  <thead>\n",
       "    <tr style=\"text-align: right;\">\n",
       "      <th></th>\n",
       "      <th>name</th>\n",
       "      <th>Character</th>\n",
       "      <th>r0le</th>\n",
       "      <th>TITLE</th>\n",
       "      <th>Type</th>\n",
       "      <th>release Year</th>\n",
       "      <th>genres</th>\n",
       "      <th>imdb sc0re</th>\n",
       "      <th>imdb v0tes</th>\n",
       "    </tr>\n",
       "  </thead>\n",
       "  <tbody>\n",
       "    <tr>\n",
       "      <th>0</th>\n",
       "      <td>Robert De Niro</td>\n",
       "      <td>Travis Bickle</td>\n",
       "      <td>ACTOR</td>\n",
       "      <td>Taxi Driver</td>\n",
       "      <td>MOVIE</td>\n",
       "      <td>1976</td>\n",
       "      <td>['drama', 'crime']</td>\n",
       "      <td>8.2</td>\n",
       "      <td>808582.0</td>\n",
       "    </tr>\n",
       "    <tr>\n",
       "      <th>1</th>\n",
       "      <td>Jodie Foster</td>\n",
       "      <td>Iris Steensma</td>\n",
       "      <td>ACTOR</td>\n",
       "      <td>Taxi Driver</td>\n",
       "      <td>MOVIE</td>\n",
       "      <td>1976</td>\n",
       "      <td>['drama', 'crime']</td>\n",
       "      <td>8.2</td>\n",
       "      <td>808582.0</td>\n",
       "    </tr>\n",
       "    <tr>\n",
       "      <th>2</th>\n",
       "      <td>Albert Brooks</td>\n",
       "      <td>Tom</td>\n",
       "      <td>ACTOR</td>\n",
       "      <td>Taxi Driver</td>\n",
       "      <td>MOVIE</td>\n",
       "      <td>1976</td>\n",
       "      <td>['drama', 'crime']</td>\n",
       "      <td>8.2</td>\n",
       "      <td>808582.0</td>\n",
       "    </tr>\n",
       "    <tr>\n",
       "      <th>3</th>\n",
       "      <td>Harvey Keitel</td>\n",
       "      <td>Matthew 'Sport' Higgins</td>\n",
       "      <td>ACTOR</td>\n",
       "      <td>Taxi Driver</td>\n",
       "      <td>MOVIE</td>\n",
       "      <td>1976</td>\n",
       "      <td>['drama', 'crime']</td>\n",
       "      <td>8.2</td>\n",
       "      <td>808582.0</td>\n",
       "    </tr>\n",
       "    <tr>\n",
       "      <th>4</th>\n",
       "      <td>Cybill Shepherd</td>\n",
       "      <td>Betsy</td>\n",
       "      <td>ACTOR</td>\n",
       "      <td>Taxi Driver</td>\n",
       "      <td>MOVIE</td>\n",
       "      <td>1976</td>\n",
       "      <td>['drama', 'crime']</td>\n",
       "      <td>8.2</td>\n",
       "      <td>808582.0</td>\n",
       "    </tr>\n",
       "  </tbody>\n",
       "</table>\n",
       "</div>"
      ],
      "text/plain": [
       "              name                Character   r0le        TITLE   Type  \\\n",
       "0   Robert De Niro            Travis Bickle  ACTOR  Taxi Driver  MOVIE   \n",
       "1     Jodie Foster            Iris Steensma  ACTOR  Taxi Driver  MOVIE   \n",
       "2    Albert Brooks                      Tom  ACTOR  Taxi Driver  MOVIE   \n",
       "3    Harvey Keitel  Matthew 'Sport' Higgins  ACTOR  Taxi Driver  MOVIE   \n",
       "4  Cybill Shepherd                    Betsy  ACTOR  Taxi Driver  MOVIE   \n",
       "\n",
       "   release Year              genres  imdb sc0re  imdb v0tes  \n",
       "0          1976  ['drama', 'crime']         8.2    808582.0  \n",
       "1          1976  ['drama', 'crime']         8.2    808582.0  \n",
       "2          1976  ['drama', 'crime']         8.2    808582.0  \n",
       "3          1976  ['drama', 'crime']         8.2    808582.0  \n",
       "4          1976  ['drama', 'crime']         8.2    808582.0  "
      ]
     },
     "execution_count": 3,
     "metadata": {},
     "output_type": "execute_result"
    }
   ],
   "source": [
    "df.head()# Display the first few rows of the DataFrame\n"
   ]
  },
  {
   "cell_type": "markdown",
   "metadata": {
    "id": "otEIbWKZmmaT"
   },
   "source": [
    "Understanding the structure and content of your data is crucial before performing any analysis.\n",
    "\n",
    "**Instructions:**\n",
    "\n",
    "- Use the `.info()` method to get information about the DataFrame.\n",
    "- Identify any issues with the Column names."
   ]
  },
  {
   "cell_type": "code",
   "execution_count": 4,
   "metadata": {
    "id": "v7Oa8Zuzmjo1",
    "trusted": true
   },
   "outputs": [
    {
     "name": "stdout",
     "output_type": "stream",
     "text": [
      "<class 'pandas.core.frame.DataFrame'>\n",
      "RangeIndex: 85579 entries, 0 to 85578\n",
      "Data columns (total 9 columns):\n",
      " #   Column        Non-Null Count  Dtype  \n",
      "---  ------        --------------  -----  \n",
      " 0      name       85579 non-null  object \n",
      " 1   Character     85579 non-null  object \n",
      " 2   r0le          85579 non-null  object \n",
      " 3   TITLE         85578 non-null  object \n",
      " 4     Type        85579 non-null  object \n",
      " 5   release Year  85579 non-null  int64  \n",
      " 6   genres        85579 non-null  object \n",
      " 7   imdb sc0re    80970 non-null  float64\n",
      " 8   imdb v0tes    80853 non-null  float64\n",
      "dtypes: float64(2), int64(1), object(6)\n",
      "memory usage: 5.9+ MB\n"
     ]
    }
   ],
   "source": [
    "df.info()# Get information about the DataFrame and print the column names\n"
   ]
  },
  {
   "cell_type": "markdown",
   "metadata": {
    "id": "_rsPAidUm3lS"
   },
   "source": [
    "## Task 1: Data Cleaning\n",
    "\n",
    "Let's clean the data to fix issues with the column names\n",
    "\n",
    "**Instructions:**\n",
    "- Rename the columns to correct any errors and make them consistent.\n",
    "\n",
    "**Hints:**\n",
    "\n",
    "- Use the `.rename()` method to rename columns.\n",
    "- Pass a dictionary to the `columns` parameter of `.rename()`, where the keys are the old column names and the values are the new names.\n",
    "- Remove unnecessary whitespace from the column names."
   ]
  },
  {
   "cell_type": "code",
   "execution_count": 5,
   "metadata": {
    "id": "FkIUzgKPm4Rz",
    "trusted": true
   },
   "outputs": [],
   "source": [
    "\n",
    " df.rename(columns={'   name':'name','Character':'character','r0le':'role','TITLE':'title','  Type':'type',\n",
    "                   'release Year':'release_year','imdb sc0re':'imdb_score','imdb v0tes':'imdb_votes'} ,inplace=True)\n",
    "# Rename columns to make them consistent and correct errors\n"
   ]
  },
  {
   "cell_type": "code",
   "execution_count": 6,
   "metadata": {
    "id": "cHi0aQgunByj",
    "trusted": true
   },
   "outputs": [
    {
     "name": "stdout",
     "output_type": "stream",
     "text": [
      "Index(['name', 'character', 'role', 'title', 'type', 'release_year', 'genres',\n",
      "       'imdb_score', 'imdb_votes'],\n",
      "      dtype='object')\n"
     ]
    }
   ],
   "source": [
    "print(df.columns)\n",
    "\n"
   ]
  },
  {
   "cell_type": "markdown",
   "metadata": {
    "id": "z6ShKY5boqj1"
   },
   "source": [
    "## Task 2: Correcting a Misspelled Name in the Data\n",
    "\n",
    "While analyzing the dataset, you notice that some names are misspelled or contain special characters due to encoding issues. Accurate data is essential for reporting and recommendations, so let’s correct one of these entries.\n",
    "\n",
    "### Instructions\n",
    "\n",
    "1. **Locate the Row with the Incorrect Name**:\n",
    "   - Use `.loc[]` to retrieve the row where `name` is `\"In??s Prieto\"`.\n",
    "   - You can locate a row based on the index (85576) and column name called \"name\".\n",
    "   - Print the row to verify that you have the correct one.\n",
    "\n",
    "\n",
    "2. **Correct the Name**:\n",
    "   - Using `.loc[]`, update the `name` column for this row to \"Ines Prieto.\"\n",
    "   \n",
    "3. **Verify the Correction**:\n",
    "   - Print the row again to ensure that the name has been corrected."
   ]
  },
  {
   "cell_type": "code",
   "execution_count": 7,
   "metadata": {
    "trusted": true
   },
   "outputs": [
    {
     "data": {
      "text/html": [
       "<div>\n",
       "<style scoped>\n",
       "    .dataframe tbody tr th:only-of-type {\n",
       "        vertical-align: middle;\n",
       "    }\n",
       "\n",
       "    .dataframe tbody tr th {\n",
       "        vertical-align: top;\n",
       "    }\n",
       "\n",
       "    .dataframe thead th {\n",
       "        text-align: right;\n",
       "    }\n",
       "</style>\n",
       "<table border=\"1\" class=\"dataframe\">\n",
       "  <thead>\n",
       "    <tr style=\"text-align: right;\">\n",
       "      <th></th>\n",
       "      <th>name</th>\n",
       "      <th>character</th>\n",
       "      <th>role</th>\n",
       "      <th>title</th>\n",
       "      <th>type</th>\n",
       "      <th>release_year</th>\n",
       "      <th>genres</th>\n",
       "      <th>imdb_score</th>\n",
       "      <th>imdb_votes</th>\n",
       "    </tr>\n",
       "  </thead>\n",
       "  <tbody>\n",
       "    <tr>\n",
       "      <th>77798</th>\n",
       "      <td>In??s Prieto</td>\n",
       "      <td>Fanny</td>\n",
       "      <td>ACTOR</td>\n",
       "      <td>Lokillo</td>\n",
       "      <td>MOVIE</td>\n",
       "      <td>2021</td>\n",
       "      <td>['comedy']</td>\n",
       "      <td>3.8</td>\n",
       "      <td>68.0</td>\n",
       "    </tr>\n",
       "    <tr>\n",
       "      <th>85576</th>\n",
       "      <td>In??s Prieto</td>\n",
       "      <td>Fanny</td>\n",
       "      <td>ACTOR</td>\n",
       "      <td>Lokillo</td>\n",
       "      <td>the movie</td>\n",
       "      <td>2021</td>\n",
       "      <td>['comedy']</td>\n",
       "      <td>3.8</td>\n",
       "      <td>68.0</td>\n",
       "    </tr>\n",
       "  </tbody>\n",
       "</table>\n",
       "</div>"
      ],
      "text/plain": [
       "               name character   role    title       type  release_year  \\\n",
       "77798  In??s Prieto     Fanny  ACTOR  Lokillo      MOVIE          2021   \n",
       "85576  In??s Prieto     Fanny  ACTOR  Lokillo  the movie          2021   \n",
       "\n",
       "           genres  imdb_score  imdb_votes  \n",
       "77798  ['comedy']         3.8        68.0  \n",
       "85576  ['comedy']         3.8        68.0  "
      ]
     },
     "execution_count": 7,
     "metadata": {},
     "output_type": "execute_result"
    }
   ],
   "source": [
    "df.loc[df.name == \"In??s Prieto\"]"
   ]
  },
  {
   "cell_type": "code",
   "execution_count": 8,
   "metadata": {
    "trusted": true
   },
   "outputs": [
    {
     "data": {
      "text/html": [
       "<div>\n",
       "<style scoped>\n",
       "    .dataframe tbody tr th:only-of-type {\n",
       "        vertical-align: middle;\n",
       "    }\n",
       "\n",
       "    .dataframe tbody tr th {\n",
       "        vertical-align: top;\n",
       "    }\n",
       "\n",
       "    .dataframe thead th {\n",
       "        text-align: right;\n",
       "    }\n",
       "</style>\n",
       "<table border=\"1\" class=\"dataframe\">\n",
       "  <thead>\n",
       "    <tr style=\"text-align: right;\">\n",
       "      <th></th>\n",
       "      <th>name</th>\n",
       "      <th>character</th>\n",
       "      <th>role</th>\n",
       "      <th>title</th>\n",
       "      <th>type</th>\n",
       "      <th>release_year</th>\n",
       "      <th>genres</th>\n",
       "      <th>imdb_score</th>\n",
       "      <th>imdb_votes</th>\n",
       "    </tr>\n",
       "  </thead>\n",
       "  <tbody>\n",
       "    <tr>\n",
       "      <th>0</th>\n",
       "      <td>Robert De Niro</td>\n",
       "      <td>Travis Bickle</td>\n",
       "      <td>ACTOR</td>\n",
       "      <td>Taxi Driver</td>\n",
       "      <td>MOVIE</td>\n",
       "      <td>1976</td>\n",
       "      <td>['drama', 'crime']</td>\n",
       "      <td>8.2</td>\n",
       "      <td>808582.0</td>\n",
       "    </tr>\n",
       "    <tr>\n",
       "      <th>1</th>\n",
       "      <td>Jodie Foster</td>\n",
       "      <td>Iris Steensma</td>\n",
       "      <td>ACTOR</td>\n",
       "      <td>Taxi Driver</td>\n",
       "      <td>MOVIE</td>\n",
       "      <td>1976</td>\n",
       "      <td>['drama', 'crime']</td>\n",
       "      <td>8.2</td>\n",
       "      <td>808582.0</td>\n",
       "    </tr>\n",
       "    <tr>\n",
       "      <th>2</th>\n",
       "      <td>Albert Brooks</td>\n",
       "      <td>Tom</td>\n",
       "      <td>ACTOR</td>\n",
       "      <td>Taxi Driver</td>\n",
       "      <td>MOVIE</td>\n",
       "      <td>1976</td>\n",
       "      <td>['drama', 'crime']</td>\n",
       "      <td>8.2</td>\n",
       "      <td>808582.0</td>\n",
       "    </tr>\n",
       "    <tr>\n",
       "      <th>3</th>\n",
       "      <td>Harvey Keitel</td>\n",
       "      <td>Matthew 'Sport' Higgins</td>\n",
       "      <td>ACTOR</td>\n",
       "      <td>Taxi Driver</td>\n",
       "      <td>MOVIE</td>\n",
       "      <td>1976</td>\n",
       "      <td>['drama', 'crime']</td>\n",
       "      <td>8.2</td>\n",
       "      <td>808582.0</td>\n",
       "    </tr>\n",
       "    <tr>\n",
       "      <th>4</th>\n",
       "      <td>Cybill Shepherd</td>\n",
       "      <td>Betsy</td>\n",
       "      <td>ACTOR</td>\n",
       "      <td>Taxi Driver</td>\n",
       "      <td>MOVIE</td>\n",
       "      <td>1976</td>\n",
       "      <td>['drama', 'crime']</td>\n",
       "      <td>8.2</td>\n",
       "      <td>808582.0</td>\n",
       "    </tr>\n",
       "    <tr>\n",
       "      <th>...</th>\n",
       "      <td>...</td>\n",
       "      <td>...</td>\n",
       "      <td>...</td>\n",
       "      <td>...</td>\n",
       "      <td>...</td>\n",
       "      <td>...</td>\n",
       "      <td>...</td>\n",
       "      <td>...</td>\n",
       "      <td>...</td>\n",
       "    </tr>\n",
       "    <tr>\n",
       "      <th>85574</th>\n",
       "      <td>Adelaida Buscato</td>\n",
       "      <td>Mar??a Paz</td>\n",
       "      <td>ACTOR</td>\n",
       "      <td>Lokillo</td>\n",
       "      <td>the movie</td>\n",
       "      <td>2021</td>\n",
       "      <td>['comedy']</td>\n",
       "      <td>3.8</td>\n",
       "      <td>68.0</td>\n",
       "    </tr>\n",
       "    <tr>\n",
       "      <th>85575</th>\n",
       "      <td>Luz Stella Luengas</td>\n",
       "      <td>Karen Bayona</td>\n",
       "      <td>ACTOR</td>\n",
       "      <td>Lokillo</td>\n",
       "      <td>the movie</td>\n",
       "      <td>2021</td>\n",
       "      <td>['comedy']</td>\n",
       "      <td>3.8</td>\n",
       "      <td>68.0</td>\n",
       "    </tr>\n",
       "    <tr>\n",
       "      <th>85576</th>\n",
       "      <td>Ines Prieto</td>\n",
       "      <td>Fanny</td>\n",
       "      <td>ACTOR</td>\n",
       "      <td>Lokillo</td>\n",
       "      <td>the movie</td>\n",
       "      <td>2021</td>\n",
       "      <td>['comedy']</td>\n",
       "      <td>3.8</td>\n",
       "      <td>68.0</td>\n",
       "    </tr>\n",
       "    <tr>\n",
       "      <th>85577</th>\n",
       "      <td>Isabel Gaona</td>\n",
       "      <td>Cacica</td>\n",
       "      <td>ACTOR</td>\n",
       "      <td>Lokillo</td>\n",
       "      <td>MOVIE</td>\n",
       "      <td>2021</td>\n",
       "      <td>['comedy']</td>\n",
       "      <td>3.8</td>\n",
       "      <td>68.0</td>\n",
       "    </tr>\n",
       "    <tr>\n",
       "      <th>85578</th>\n",
       "      <td>Julian Gaviria</td>\n",
       "      <td>unknown</td>\n",
       "      <td>DIRECTOR</td>\n",
       "      <td>Lokillo</td>\n",
       "      <td>the movie</td>\n",
       "      <td>2021</td>\n",
       "      <td>['comedy']</td>\n",
       "      <td>3.8</td>\n",
       "      <td>68.0</td>\n",
       "    </tr>\n",
       "  </tbody>\n",
       "</table>\n",
       "<p>85579 rows × 9 columns</p>\n",
       "</div>"
      ],
      "text/plain": [
       "                     name                character      role        title  \\\n",
       "0          Robert De Niro            Travis Bickle     ACTOR  Taxi Driver   \n",
       "1            Jodie Foster            Iris Steensma     ACTOR  Taxi Driver   \n",
       "2           Albert Brooks                      Tom     ACTOR  Taxi Driver   \n",
       "3           Harvey Keitel  Matthew 'Sport' Higgins     ACTOR  Taxi Driver   \n",
       "4         Cybill Shepherd                    Betsy     ACTOR  Taxi Driver   \n",
       "...                   ...                      ...       ...          ...   \n",
       "85574    Adelaida Buscato               Mar??a Paz     ACTOR      Lokillo   \n",
       "85575  Luz Stella Luengas             Karen Bayona     ACTOR      Lokillo   \n",
       "85576         Ines Prieto                    Fanny     ACTOR      Lokillo   \n",
       "85577        Isabel Gaona                   Cacica     ACTOR      Lokillo   \n",
       "85578      Julian Gaviria                  unknown  DIRECTOR      Lokillo   \n",
       "\n",
       "            type  release_year              genres  imdb_score  imdb_votes  \n",
       "0          MOVIE          1976  ['drama', 'crime']         8.2    808582.0  \n",
       "1          MOVIE          1976  ['drama', 'crime']         8.2    808582.0  \n",
       "2          MOVIE          1976  ['drama', 'crime']         8.2    808582.0  \n",
       "3          MOVIE          1976  ['drama', 'crime']         8.2    808582.0  \n",
       "4          MOVIE          1976  ['drama', 'crime']         8.2    808582.0  \n",
       "...          ...           ...                 ...         ...         ...  \n",
       "85574  the movie          2021          ['comedy']         3.8        68.0  \n",
       "85575  the movie          2021          ['comedy']         3.8        68.0  \n",
       "85576  the movie          2021          ['comedy']         3.8        68.0  \n",
       "85577      MOVIE          2021          ['comedy']         3.8        68.0  \n",
       "85578  the movie          2021          ['comedy']         3.8        68.0  \n",
       "\n",
       "[85579 rows x 9 columns]"
      ]
     },
     "execution_count": 8,
     "metadata": {},
     "output_type": "execute_result"
    }
   ],
   "source": [
    "df.replace(\"In??s Prieto\",\"Ines Prieto\")"
   ]
  },
  {
   "cell_type": "code",
   "execution_count": null,
   "metadata": {
    "id": "JeEDNCYsoo0z",
    "scrolled": true,
    "trusted": true
   },
   "outputs": [],
   "source": []
  },
  {
   "cell_type": "code",
   "execution_count": null,
   "metadata": {
    "trusted": true
   },
   "outputs": [],
   "source": []
  },
  {
   "cell_type": "code",
   "execution_count": 9,
   "metadata": {
    "id": "US2yweQ3RFTE",
    "trusted": true
   },
   "outputs": [],
   "source": [
    "df.loc[df.name == \"In??s Prieto\",['name']] = 'Ines Prieto'\n"
   ]
  },
  {
   "cell_type": "code",
   "execution_count": 10,
   "metadata": {
    "trusted": true
   },
   "outputs": [
    {
     "data": {
      "text/html": [
       "<div>\n",
       "<style scoped>\n",
       "    .dataframe tbody tr th:only-of-type {\n",
       "        vertical-align: middle;\n",
       "    }\n",
       "\n",
       "    .dataframe tbody tr th {\n",
       "        vertical-align: top;\n",
       "    }\n",
       "\n",
       "    .dataframe thead th {\n",
       "        text-align: right;\n",
       "    }\n",
       "</style>\n",
       "<table border=\"1\" class=\"dataframe\">\n",
       "  <thead>\n",
       "    <tr style=\"text-align: right;\">\n",
       "      <th></th>\n",
       "      <th>name</th>\n",
       "      <th>character</th>\n",
       "      <th>role</th>\n",
       "      <th>title</th>\n",
       "      <th>type</th>\n",
       "      <th>release_year</th>\n",
       "      <th>genres</th>\n",
       "      <th>imdb_score</th>\n",
       "      <th>imdb_votes</th>\n",
       "    </tr>\n",
       "  </thead>\n",
       "  <tbody>\n",
       "    <tr>\n",
       "      <th>0</th>\n",
       "      <td>Robert De Niro</td>\n",
       "      <td>Travis Bickle</td>\n",
       "      <td>ACTOR</td>\n",
       "      <td>Taxi Driver</td>\n",
       "      <td>MOVIE</td>\n",
       "      <td>1976</td>\n",
       "      <td>['drama', 'crime']</td>\n",
       "      <td>8.2</td>\n",
       "      <td>808582.0</td>\n",
       "    </tr>\n",
       "    <tr>\n",
       "      <th>1</th>\n",
       "      <td>Jodie Foster</td>\n",
       "      <td>Iris Steensma</td>\n",
       "      <td>ACTOR</td>\n",
       "      <td>Taxi Driver</td>\n",
       "      <td>MOVIE</td>\n",
       "      <td>1976</td>\n",
       "      <td>['drama', 'crime']</td>\n",
       "      <td>8.2</td>\n",
       "      <td>808582.0</td>\n",
       "    </tr>\n",
       "    <tr>\n",
       "      <th>2</th>\n",
       "      <td>Albert Brooks</td>\n",
       "      <td>Tom</td>\n",
       "      <td>ACTOR</td>\n",
       "      <td>Taxi Driver</td>\n",
       "      <td>MOVIE</td>\n",
       "      <td>1976</td>\n",
       "      <td>['drama', 'crime']</td>\n",
       "      <td>8.2</td>\n",
       "      <td>808582.0</td>\n",
       "    </tr>\n",
       "    <tr>\n",
       "      <th>3</th>\n",
       "      <td>Harvey Keitel</td>\n",
       "      <td>Matthew 'Sport' Higgins</td>\n",
       "      <td>ACTOR</td>\n",
       "      <td>Taxi Driver</td>\n",
       "      <td>MOVIE</td>\n",
       "      <td>1976</td>\n",
       "      <td>['drama', 'crime']</td>\n",
       "      <td>8.2</td>\n",
       "      <td>808582.0</td>\n",
       "    </tr>\n",
       "    <tr>\n",
       "      <th>4</th>\n",
       "      <td>Cybill Shepherd</td>\n",
       "      <td>Betsy</td>\n",
       "      <td>ACTOR</td>\n",
       "      <td>Taxi Driver</td>\n",
       "      <td>MOVIE</td>\n",
       "      <td>1976</td>\n",
       "      <td>['drama', 'crime']</td>\n",
       "      <td>8.2</td>\n",
       "      <td>808582.0</td>\n",
       "    </tr>\n",
       "    <tr>\n",
       "      <th>...</th>\n",
       "      <td>...</td>\n",
       "      <td>...</td>\n",
       "      <td>...</td>\n",
       "      <td>...</td>\n",
       "      <td>...</td>\n",
       "      <td>...</td>\n",
       "      <td>...</td>\n",
       "      <td>...</td>\n",
       "      <td>...</td>\n",
       "    </tr>\n",
       "    <tr>\n",
       "      <th>85574</th>\n",
       "      <td>Adelaida Buscato</td>\n",
       "      <td>Mar??a Paz</td>\n",
       "      <td>ACTOR</td>\n",
       "      <td>Lokillo</td>\n",
       "      <td>the movie</td>\n",
       "      <td>2021</td>\n",
       "      <td>['comedy']</td>\n",
       "      <td>3.8</td>\n",
       "      <td>68.0</td>\n",
       "    </tr>\n",
       "    <tr>\n",
       "      <th>85575</th>\n",
       "      <td>Luz Stella Luengas</td>\n",
       "      <td>Karen Bayona</td>\n",
       "      <td>ACTOR</td>\n",
       "      <td>Lokillo</td>\n",
       "      <td>the movie</td>\n",
       "      <td>2021</td>\n",
       "      <td>['comedy']</td>\n",
       "      <td>3.8</td>\n",
       "      <td>68.0</td>\n",
       "    </tr>\n",
       "    <tr>\n",
       "      <th>85576</th>\n",
       "      <td>Ines Prieto</td>\n",
       "      <td>Fanny</td>\n",
       "      <td>ACTOR</td>\n",
       "      <td>Lokillo</td>\n",
       "      <td>the movie</td>\n",
       "      <td>2021</td>\n",
       "      <td>['comedy']</td>\n",
       "      <td>3.8</td>\n",
       "      <td>68.0</td>\n",
       "    </tr>\n",
       "    <tr>\n",
       "      <th>85577</th>\n",
       "      <td>Isabel Gaona</td>\n",
       "      <td>Cacica</td>\n",
       "      <td>ACTOR</td>\n",
       "      <td>Lokillo</td>\n",
       "      <td>MOVIE</td>\n",
       "      <td>2021</td>\n",
       "      <td>['comedy']</td>\n",
       "      <td>3.8</td>\n",
       "      <td>68.0</td>\n",
       "    </tr>\n",
       "    <tr>\n",
       "      <th>85578</th>\n",
       "      <td>Julian Gaviria</td>\n",
       "      <td>unknown</td>\n",
       "      <td>DIRECTOR</td>\n",
       "      <td>Lokillo</td>\n",
       "      <td>the movie</td>\n",
       "      <td>2021</td>\n",
       "      <td>['comedy']</td>\n",
       "      <td>3.8</td>\n",
       "      <td>68.0</td>\n",
       "    </tr>\n",
       "  </tbody>\n",
       "</table>\n",
       "<p>85579 rows × 9 columns</p>\n",
       "</div>"
      ],
      "text/plain": [
       "                     name                character      role        title  \\\n",
       "0          Robert De Niro            Travis Bickle     ACTOR  Taxi Driver   \n",
       "1            Jodie Foster            Iris Steensma     ACTOR  Taxi Driver   \n",
       "2           Albert Brooks                      Tom     ACTOR  Taxi Driver   \n",
       "3           Harvey Keitel  Matthew 'Sport' Higgins     ACTOR  Taxi Driver   \n",
       "4         Cybill Shepherd                    Betsy     ACTOR  Taxi Driver   \n",
       "...                   ...                      ...       ...          ...   \n",
       "85574    Adelaida Buscato               Mar??a Paz     ACTOR      Lokillo   \n",
       "85575  Luz Stella Luengas             Karen Bayona     ACTOR      Lokillo   \n",
       "85576         Ines Prieto                    Fanny     ACTOR      Lokillo   \n",
       "85577        Isabel Gaona                   Cacica     ACTOR      Lokillo   \n",
       "85578      Julian Gaviria                  unknown  DIRECTOR      Lokillo   \n",
       "\n",
       "            type  release_year              genres  imdb_score  imdb_votes  \n",
       "0          MOVIE          1976  ['drama', 'crime']         8.2    808582.0  \n",
       "1          MOVIE          1976  ['drama', 'crime']         8.2    808582.0  \n",
       "2          MOVIE          1976  ['drama', 'crime']         8.2    808582.0  \n",
       "3          MOVIE          1976  ['drama', 'crime']         8.2    808582.0  \n",
       "4          MOVIE          1976  ['drama', 'crime']         8.2    808582.0  \n",
       "...          ...           ...                 ...         ...         ...  \n",
       "85574  the movie          2021          ['comedy']         3.8        68.0  \n",
       "85575  the movie          2021          ['comedy']         3.8        68.0  \n",
       "85576  the movie          2021          ['comedy']         3.8        68.0  \n",
       "85577      MOVIE          2021          ['comedy']         3.8        68.0  \n",
       "85578  the movie          2021          ['comedy']         3.8        68.0  \n",
       "\n",
       "[85579 rows x 9 columns]"
      ]
     },
     "execution_count": 10,
     "metadata": {},
     "output_type": "execute_result"
    }
   ],
   "source": [
    "df"
   ]
  },
  {
   "cell_type": "code",
   "execution_count": 11,
   "metadata": {
    "id": "IgEGbcNVqLnU",
    "trusted": true
   },
   "outputs": [
    {
     "data": {
      "text/html": [
       "<div>\n",
       "<style scoped>\n",
       "    .dataframe tbody tr th:only-of-type {\n",
       "        vertical-align: middle;\n",
       "    }\n",
       "\n",
       "    .dataframe tbody tr th {\n",
       "        vertical-align: top;\n",
       "    }\n",
       "\n",
       "    .dataframe thead th {\n",
       "        text-align: right;\n",
       "    }\n",
       "</style>\n",
       "<table border=\"1\" class=\"dataframe\">\n",
       "  <thead>\n",
       "    <tr style=\"text-align: right;\">\n",
       "      <th></th>\n",
       "      <th>name</th>\n",
       "      <th>character</th>\n",
       "      <th>role</th>\n",
       "      <th>title</th>\n",
       "      <th>type</th>\n",
       "      <th>release_year</th>\n",
       "      <th>genres</th>\n",
       "      <th>imdb_score</th>\n",
       "      <th>imdb_votes</th>\n",
       "    </tr>\n",
       "  </thead>\n",
       "  <tbody>\n",
       "    <tr>\n",
       "      <th>77798</th>\n",
       "      <td>Ines Prieto</td>\n",
       "      <td>Fanny</td>\n",
       "      <td>ACTOR</td>\n",
       "      <td>Lokillo</td>\n",
       "      <td>MOVIE</td>\n",
       "      <td>2021</td>\n",
       "      <td>['comedy']</td>\n",
       "      <td>3.8</td>\n",
       "      <td>68.0</td>\n",
       "    </tr>\n",
       "    <tr>\n",
       "      <th>85576</th>\n",
       "      <td>Ines Prieto</td>\n",
       "      <td>Fanny</td>\n",
       "      <td>ACTOR</td>\n",
       "      <td>Lokillo</td>\n",
       "      <td>the movie</td>\n",
       "      <td>2021</td>\n",
       "      <td>['comedy']</td>\n",
       "      <td>3.8</td>\n",
       "      <td>68.0</td>\n",
       "    </tr>\n",
       "  </tbody>\n",
       "</table>\n",
       "</div>"
      ],
      "text/plain": [
       "              name character   role    title       type  release_year  \\\n",
       "77798  Ines Prieto     Fanny  ACTOR  Lokillo      MOVIE          2021   \n",
       "85576  Ines Prieto     Fanny  ACTOR  Lokillo  the movie          2021   \n",
       "\n",
       "           genres  imdb_score  imdb_votes  \n",
       "77798  ['comedy']         3.8        68.0  \n",
       "85576  ['comedy']         3.8        68.0  "
      ]
     },
     "execution_count": 11,
     "metadata": {},
     "output_type": "execute_result"
    }
   ],
   "source": [
    "df.loc[df.name==\"Ines Prieto\"]# Verify the correction\n"
   ]
  },
  {
   "cell_type": "markdown",
   "metadata": {
    "id": "vLIvSF0hsYpE"
   },
   "source": [
    "## Task 3: Finding All Movies and Shows Featuring Ines Prieto\n",
    "\n",
    "Now that we've corrected the spelling of \"Ines Prieto\" in the dataset, let's find all the TV shows and movies she has acted in. This type of filtering is helpful for generating actor-specific profiles or building a list of their works.\n",
    "\n",
    "### Instructions\n",
    "\n",
    "1. **Filter by Actor’s Name**:\n",
    "   - Use a filtering condition to select rows where the `name` column is equal to `\"Ines Prieto\"`.\n",
    "   \n",
    "2. **Display Relevant Columns**:\n",
    "   - From each matching row, retrieve only the `title`, `release_year`, `imdb_score`, and `genres` columns for a clear, concise output.\n",
    "\n",
    "**Hint:**\n",
    "\n",
    "To filter rows based on a specific value in a column, use a condition inside df[ ... ]. In this case, check if the name column equals \"Ines Prieto\". Then, select only the columns you need (like title, release_year, imdb_score, and genres) by specifying them in double brackets [ [ ... ] ].\n"
   ]
  },
  {
   "cell_type": "code",
   "execution_count": 12,
   "metadata": {
    "trusted": true
   },
   "outputs": [
    {
     "data": {
      "text/plain": [
       "Index(['name', 'character', 'role', 'title', 'type', 'release_year', 'genres',\n",
       "       'imdb_score', 'imdb_votes'],\n",
       "      dtype='object')"
      ]
     },
     "execution_count": 12,
     "metadata": {},
     "output_type": "execute_result"
    }
   ],
   "source": [
    "df.columns"
   ]
  },
  {
   "cell_type": "code",
   "execution_count": 13,
   "metadata": {
    "id": "vYrm6MhERlZc",
    "trusted": true
   },
   "outputs": [
    {
     "data": {
      "text/html": [
       "<div>\n",
       "<style scoped>\n",
       "    .dataframe tbody tr th:only-of-type {\n",
       "        vertical-align: middle;\n",
       "    }\n",
       "\n",
       "    .dataframe tbody tr th {\n",
       "        vertical-align: top;\n",
       "    }\n",
       "\n",
       "    .dataframe thead th {\n",
       "        text-align: right;\n",
       "    }\n",
       "</style>\n",
       "<table border=\"1\" class=\"dataframe\">\n",
       "  <thead>\n",
       "    <tr style=\"text-align: right;\">\n",
       "      <th></th>\n",
       "      <th>title</th>\n",
       "      <th>release_year</th>\n",
       "      <th>imdb_score</th>\n",
       "      <th>genres</th>\n",
       "    </tr>\n",
       "  </thead>\n",
       "  <tbody>\n",
       "    <tr>\n",
       "      <th>77798</th>\n",
       "      <td>Lokillo</td>\n",
       "      <td>2021</td>\n",
       "      <td>3.8</td>\n",
       "      <td>['comedy']</td>\n",
       "    </tr>\n",
       "    <tr>\n",
       "      <th>85576</th>\n",
       "      <td>Lokillo</td>\n",
       "      <td>2021</td>\n",
       "      <td>3.8</td>\n",
       "      <td>['comedy']</td>\n",
       "    </tr>\n",
       "  </tbody>\n",
       "</table>\n",
       "</div>"
      ],
      "text/plain": [
       "         title  release_year  imdb_score      genres\n",
       "77798  Lokillo          2021         3.8  ['comedy']\n",
       "85576  Lokillo          2021         3.8  ['comedy']"
      ]
     },
     "execution_count": 13,
     "metadata": {},
     "output_type": "execute_result"
    }
   ],
   "source": [
    "# Display the result\n",
    "df.loc[df.name ==\"Ines Prieto\",['title','release_year','imdb_score','genres']]"
   ]
  },
  {
   "cell_type": "markdown",
   "metadata": {
    "id": "HtmXfQHHutNk"
   },
   "source": [
    "## Task 4: Finding Highly Rated Movies\n",
    "\n",
    "We want to identify movies with an IMDb rating of at least **9.0**. This list could be helpful for curating a \"Top Movies\" section based on high ratings.\n",
    "\n",
    "### Instructions\n",
    "\n",
    "1. **Filter for High IMDb Scores**:\n",
    "   - First, filter the DataFrame to include only rows where the `imdb_score` is greater than 9.0.\n",
    "\n",
    "2. **Extract the Titles**:\n",
    "   - From this filtered DataFrame, select only the `title` column, which contains the names of the movies.\n",
    "\n",
    "3. **Get Unique Titles**:\n",
    "   - Convert the resulting list of titles to a set to remove any duplicate titles. Using `set()` will keep only unique movie names.\n",
    "\n",
    "   - *Example*: `unique_titles = set(high_score_titles)`\n",
    "\n",
    "4. **Print the Unique Titles**:\n",
    "   - Display the final set of unique movie titles to see the list of top-rated movies.\n"
   ]
  },
  {
   "cell_type": "code",
   "execution_count": 14,
   "metadata": {
    "id": "B_smQ3cAtAXk",
    "trusted": true
   },
   "outputs": [
    {
     "data": {
      "text/plain": [
       "{'Avatar: The Last Airbender',\n",
       " 'Breaking Bad',\n",
       " 'Kota Factory',\n",
       " 'Major',\n",
       " 'My Mister',\n",
       " 'Our Planet',\n",
       " 'Reply 1988',\n",
       " 'The Last Dance'}"
      ]
     },
     "execution_count": 14,
     "metadata": {},
     "output_type": "execute_result"
    }
   ],
   "source": [
    "# Filter for movies with an IMDb score above 9.0\n",
    "high_score_titles=df[df['imdb_score']>9.0]\n",
    "\n",
    "df1=high_score_titles['title']# Extract the 'title' column from the filtered DataFrame\n",
    "\n",
    "\n",
    "set(df1)# Get a unique set of title                                                                                         \n",
    "\n",
    "# Print the unique titles\n",
    "\n"
   ]
  },
  {
   "cell_type": "markdown",
   "metadata": {
    "id": "PrlORh6mwoZs"
   },
   "source": [
    "## Task 5: Creating a Function to Find Unique Top-Rated Movies\n",
    "\n",
    "In this task, we’ll create a function to find unique movies with an IMDb score above a certain threshold that the user provides.\n",
    "\n",
    "### Instructions\n",
    "\n",
    "1. **Define the Function**:\n",
    "   - Start by creating a function called `get_unique_top_movies` that takes one parameter, `min_score`.\n",
    "\n",
    "2. **Filter the Data**:\n",
    "   - Inside the function, create a new variable (e.g., `high_score_df`) that stores rows where the `imdb_score` is greater than or equal to `min_score`.\n",
    "\n",
    "3. **Extract Movie Titles**:\n",
    "   - In a new variable (e.g., `high_score_titles`), select the `title` column from the filtered DataFrame.\n",
    "\n",
    "4. **Remove Duplicate Titles**:\n",
    "   - Convert `high_score_titles` to a set using `set(high_score_titles)` to automatically remove duplicates, ensuring each title appears only once.\n",
    "\n",
    "5. **Return the Unique Titles**:\n",
    "   - Make sure the function returns the `unique_titles` set.\n"
   ]
  },
  {
   "cell_type": "code",
   "execution_count": 15,
   "metadata": {
    "id": "pamLDfY9vErT",
    "scrolled": true,
    "trusted": true
   },
   "outputs": [],
   "source": [
    "def get_unique_top_movies(min_score):\n",
    "    high_score_df=df[df['imdb_score'] >= min_score]\n",
    "    high_score_titles = high_score_df['title']# Extract the 'title' column\n",
    "    unique_titles=set(high_score_titles)\n",
    "    return unique_titles # Return unique titles"
   ]
  },
  {
   "cell_type": "code",
   "execution_count": 16,
   "metadata": {
    "id": "kUUJMTWgww1E",
    "trusted": true
   },
   "outputs": [
    {
     "name": "stdout",
     "output_type": "stream",
     "text": [
      "{'Reply 1988', 'Kota Factory', 'The Last Dance', 'My Mister', 'Avatar: The Last Airbender', 'Major', 'Hunter x Hunter', 'Okupas', 'Breaking Bad', 'DEATH NOTE', 'Arcane', 'Our Planet', 'Attack on Titan', 'Leah Remini: Scientology and the Aftermath'}\n"
     ]
    }
   ],
   "source": [
    "# Test the function\n",
    "print(get_unique_top_movies(9.0))"
   ]
  },
  {
   "cell_type": "markdown",
   "metadata": {
    "id": "YvWTywMQxynt"
   },
   "source": [
    "## Task 6: Creating a Function to Find Top Movies from a Specific Decade\n",
    "\n",
    "Let’s create a function to retrieve movies from a particular decade with high IMDb ratings. This function can be useful for generating lists of top-rated movies from different time periods.\n",
    "\n",
    "### Instructions\n",
    "\n",
    "1. **Define the Function**:\n",
    "   - Create a function called `get_top_movies_from_decade` that accepts `decade_start` and `min_score` as parameters.\n",
    "\n",
    "2. **Filter by Decade**:\n",
    "   - Inside the function, filter the DataFrame to include only movies where `release_year` is within the specified decade.\n",
    "   - *Hint*: You can achieve this by checking that `release_year` is between `decade_start` and `decade_start + 9`\n",
    "\n",
    "3. **Filter by IMDb Score**:\n",
    "   - Further filter this subset to include only movies where `imdb_score` is greater than or equal to `min_score`.\n",
    "\n",
    "4. **Extract Movie Titles**:\n",
    "   - From the resulting DataFrame, select the `title` column and remove duplicates using set().\n",
    "\n",
    "5. **Return the List of Titles**:\n",
    "   - Return the set of the best movies from that decade.\n",
    "\n",
    "By completing this task, you’ll have a function that returns unique, top-rated movies from a specified decade. This is useful for highlighting standout movies from different eras, perfect for “Best of the Decade” features!"
   ]
  },
  {
   "cell_type": "code",
   "execution_count": 17,
   "metadata": {
    "id": "H6pJpElgxxtT",
    "trusted": true
   },
   "outputs": [],
   "source": [
    "# Define the function\n",
    " \n",
    "def  get_top_movies_from_decade(decade_start , min_score):# Filter for movies released within the decade\n",
    "    old_movies=df[df['release_year']>decade_start]\n",
    "    old_movies=old_movies[old_movies['release_year']<decade_start+9]\n",
    "    old_movies=old_movies[old_movies['imdb_score']>=min_score]\n",
    "    old_movies_titles=old_movies['title']\n",
    "    \n",
    "    # Further filter by IMDb score\n",
    "\n",
    "\n",
    "    unique_titles = set(old_movies_titles)# Extract and remove duplicate titles\n",
    "\n",
    "\n",
    "    return unique_titles# Return unique titles\n"
   ]
  },
  {
   "cell_type": "code",
   "execution_count": 18,
   "metadata": {
    "id": "r_q7imodyIbz",
    "trusted": true
   },
   "outputs": [
    {
     "name": "stdout",
     "output_type": "stream",
     "text": [
      "{'Forrest Gump', 'Bill Hicks: Revelations', 'Neon Genesis Evangelion', 'Cowboy Bebop', 'Se7en', 'L??on: The Professional'}\n"
     ]
    }
   ],
   "source": [
    "# Test the function\n",
    "print(get_top_movies_from_decade(1990, 8.5))"
   ]
  },
  {
   "cell_type": "markdown",
   "metadata": {
    "id": "5olBh5JRzYgN"
   },
   "source": [
    "\n",
    "## Task 7: Creating a Function to List All Actors in a Given Title\n",
    "\n",
    "Imagine you want to list all the actors in a specific movie or show. Let’s create a function that takes a `title` as input and returns the names of all actors in that title, combined into a single string.\n",
    "\n",
    "\n",
    "### Instructions\n",
    "\n",
    "1. **Define the Function**:\n",
    "   - Create a function called `get_actors_for_title` that accepts one parameter, `title`.\n",
    "   \n",
    "2. **Filter by Title and Role**:\n",
    "   - Inside the function, filter the DataFrame to select rows where the `title` column matches the provided `title` parameter and the `role` column is `\"ACTOR\"` (to ensure you only retrieve actors).\n",
    "\n",
    "3. **Extract Actor Names**:\n",
    "   - From this filtered DataFrame, select only the `name` column to get the actor names.\n",
    "\n",
    "4. **Combine Names into a Single String**:\n",
    "   - Use `', '.join()` to combine the list of actor names into a single string, with each name separated by a comma.\n",
    "\n",
    "5. **Return the Result**:\n",
    "   - Return the resulting string of actor names.\n",
    "\n",
    "\n",
    "This function will allow you to retrieve and format a list of actors for any movie or show title, which is useful for creating cast lists or displaying actors for specific titles."
   ]
  },
  {
   "cell_type": "code",
   "execution_count": 19,
   "metadata": {
    "id": "hSCm5mYRziCD",
    "trusted": true
   },
   "outputs": [],
   "source": [
    "# Define the function\n",
    "def get_actors_for_title(title):\n",
    "    thespian=df[(df['title']==title) & (df['role']=='ACTOR')]\n",
    "    actor_names=thespian['name']\n",
    "    result= ','.join(actor_names)\n",
    "    return result\n",
    "\n",
    "    # Extract the 'name' column for actor names\n",
    "\n",
    "\n",
    "    # Combine names into a single string\n",
    "\n",
    "\n",
    "    # Return the result\n",
    "\n"
   ]
  },
  {
   "cell_type": "code",
   "execution_count": 20,
   "metadata": {
    "id": "BCnnBFUdzj20",
    "trusted": true
   },
   "outputs": [
    {
     "name": "stdout",
     "output_type": "stream",
     "text": [
      "Robert De Niro,Jodie Foster,Albert Brooks,Harvey Keitel,Cybill Shepherd,Peter Boyle,Leonard Harris,Diahnne Abbott,Gino Ardito,Martin Scorsese,Murray Moston,Richard Higgs,Bill Minkin,Bob Maroff,Victor Argo,Joe Spinell,Robinson Frank Adu,Brenda Dickson,Norman Matlock,Harry Northup,Harlan Cary Poe,Steven Prince,Peter Savage,Nicholas Shields,Ralph S. Singleton,Annie Gagen,Carson Grant,Mary-Pat Green,Debbi Morgan,Don Stroud,Copper Cunningham,Garth Avery,Nat Grant,Billie Perkins,Catherine Scorsese,Charles Scorsese,Odunlade Adekola,Ijeoma Grace Agu\n"
     ]
    }
   ],
   "source": [
    "# Test the function\n",
    "print(get_actors_for_title(\"Taxi Driver\"))"
   ]
  },
  {
   "cell_type": "markdown",
   "metadata": {
    "id": "Iu7Zzk7M0o_9"
   },
   "source": [
    "## Task 8: Creating a Function to Categorize Movies by IMDb Score\n",
    "\n",
    "Let’s categorize movies and shows based on their IMDb scores to provide a quick evaluation of their popularity or quality. We’ll create a function that takes in a `title` and returns a rating category based on the movie or show’s IMDb score.\n",
    "\n",
    "### Rating Categories\n",
    "\n",
    "- **Excellent**: IMDb score of 9.0 or higher\n",
    "- **Good**: IMDb score between 7.0 and 8.9\n",
    "- **Average**: IMDb score between 5.0 and 6.9\n",
    "- **Low**: IMDb score below 5.0\n",
    "\n",
    "### Instructions\n",
    "\n",
    "1. **Define the Function**:\n",
    "   - Create a function called `categorize_imdb_score` that accepts one parameter, `title`.\n",
    "\n",
    "2. **Filter by Title**:\n",
    "   - Inside the function, filter the DataFrame to find the row where `title` matches the given title.\n",
    "\n",
    "3. **Retrieve IMDb Score**:\n",
    "   - If the title exists, retrieve the `imdb_score` for that movie or show.\n",
    "   - If the title is not found, return `\"Title not found\"`.\n",
    "\n",
    "4. **Categorize Score with `if-else`**:\n",
    "   - Use `if-elif-else` statements to evaluate the `imdb_score` and return one of the rating categories based on the ranges provided.\n",
    "\n",
    "5. **Return the Category**:\n",
    "   - Return the appropriate category based on the score.\n",
    "\n",
    "This function allows you to quickly categorize movies or shows by their IMDb score, which could be helpful for creating rating tags or recommending top-rated content."
   ]
  },
  {
   "cell_type": "code",
   "execution_count": 21,
   "metadata": {
    "id": "ZfrrGY7h0zYT",
    "trusted": true
   },
   "outputs": [],
   "source": [
    "# Define the function\n",
    "def categorize_imdb_score(title):\n",
    "    movie=df[(df['title']== title)]# Filter for the row with the specified title\n",
    "    #print(movie['imdb_score'])\n",
    "    if len(movie) == 0:\n",
    "        return \"Title not found\"\n",
    "    imdb_score =movie['imdb_score'].iloc[0]\n",
    "    if imdb_score >=9.0:\n",
    "        movie_rating_='Excellent'\n",
    "    elif 7.0 <= imdb_score <= 8.9:\n",
    "        return \"Good\"\n",
    "    elif 5.0 <= imdb_score <= 6.9:\n",
    "        return \"Average\"\n",
    "    else:\n",
    "        return \"Low\"# Categorize score using if-else and return the ranking accordingly\n",
    " # Filter for the row with the specified title\n",
    "    result=movie_rating\n",
    "    return result\n",
    "    # Check if title exists\n",
    "\n",
    "\n",
    "    # Retrieve the IMDb score for the movie\n",
    "\n",
    "\n",
    "    # Categorize score using if-else and return the ranking accordingly\n"
   ]
  },
  {
   "cell_type": "code",
   "execution_count": 22,
   "metadata": {
    "id": "4wqHjcFZ01Qk",
    "trusted": true
   },
   "outputs": [
    {
     "name": "stdout",
     "output_type": "stream",
     "text": [
      "Good\n"
     ]
    }
   ],
   "source": [
    "# Test the function\n",
    "print(categorize_imdb_score(\"Taxi Driver\"))"
   ]
  },
  {
   "cell_type": "code",
   "execution_count": null,
   "metadata": {
    "trusted": true
   },
   "outputs": [],
   "source": []
  }
 ],
 "metadata": {
  "ExecuteTimeLog": [
   {
    "duration": 9,
    "start_time": "2025-04-28T13:52:42.705Z"
   },
   {
    "duration": 4,
    "start_time": "2025-04-28T13:52:57.005Z"
   },
   {
    "duration": 3,
    "start_time": "2025-04-28T13:53:39.519Z"
   },
   {
    "duration": 3,
    "start_time": "2025-04-28T13:53:58.930Z"
   },
   {
    "duration": 282,
    "start_time": "2025-04-28T13:54:47.762Z"
   },
   {
    "duration": 506,
    "start_time": "2025-04-28T14:02:15.003Z"
   },
   {
    "duration": 59,
    "start_time": "2025-04-28T14:03:38.295Z"
   },
   {
    "duration": 58,
    "start_time": "2025-04-28T14:05:54.721Z"
   },
   {
    "duration": 58,
    "start_time": "2025-04-28T14:05:56.102Z"
   },
   {
    "duration": 58,
    "start_time": "2025-04-28T14:05:57.241Z"
   },
   {
    "duration": 56,
    "start_time": "2025-04-28T14:05:58.510Z"
   },
   {
    "duration": 13,
    "start_time": "2025-04-28T14:10:19.461Z"
   },
   {
    "duration": 161,
    "start_time": "2025-04-28T21:42:03.026Z"
   },
   {
    "duration": 287,
    "start_time": "2025-04-28T21:45:30.561Z"
   },
   {
    "duration": 136,
    "start_time": "2025-04-28T21:45:38.788Z"
   },
   {
    "duration": 9,
    "start_time": "2025-04-28T21:46:57.939Z"
   },
   {
    "duration": 12,
    "start_time": "2025-04-28T21:47:57.102Z"
   },
   {
    "duration": 3,
    "start_time": "2025-04-28T22:07:51.221Z"
   },
   {
    "duration": 7,
    "start_time": "2025-04-28T23:04:01.128Z"
   },
   {
    "duration": 4,
    "start_time": "2025-04-28T23:04:50.687Z"
   },
   {
    "duration": 36,
    "start_time": "2025-04-28T23:05:15.644Z"
   },
   {
    "duration": 13,
    "start_time": "2025-04-28T23:05:17.794Z"
   },
   {
    "duration": 15,
    "start_time": "2025-04-28T23:05:57.102Z"
   },
   {
    "duration": 3,
    "start_time": "2025-04-28T23:07:47.722Z"
   },
   {
    "duration": 3,
    "start_time": "2025-04-28T23:07:59.483Z"
   },
   {
    "duration": 4,
    "start_time": "2025-04-28T23:15:18.650Z"
   },
   {
    "duration": 4,
    "start_time": "2025-04-28T23:16:12.048Z"
   },
   {
    "duration": 3,
    "start_time": "2025-04-28T23:17:45.018Z"
   },
   {
    "duration": 4,
    "start_time": "2025-04-28T23:23:28.251Z"
   },
   {
    "duration": 3,
    "start_time": "2025-04-28T23:24:04.735Z"
   },
   {
    "duration": 3,
    "start_time": "2025-04-28T23:24:34.858Z"
   },
   {
    "duration": 4,
    "start_time": "2025-04-28T23:25:53.775Z"
   },
   {
    "duration": 17,
    "start_time": "2025-04-28T23:26:08.362Z"
   },
   {
    "duration": 3,
    "start_time": "2025-04-28T23:26:26.564Z"
   },
   {
    "duration": 7,
    "start_time": "2025-04-28T23:29:47.025Z"
   },
   {
    "duration": 9,
    "start_time": "2025-04-28T23:29:51.560Z"
   },
   {
    "duration": 7,
    "start_time": "2025-04-28T23:30:02.428Z"
   },
   {
    "duration": 17,
    "start_time": "2025-04-28T23:30:32.183Z"
   },
   {
    "duration": 12,
    "start_time": "2025-04-28T23:30:59.015Z"
   },
   {
    "duration": 4,
    "start_time": "2025-04-28T23:31:21.166Z"
   },
   {
    "duration": 13,
    "start_time": "2025-04-28T23:53:55.006Z"
   },
   {
    "duration": 531,
    "start_time": "2025-04-28T23:54:54.366Z"
   },
   {
    "duration": 13,
    "start_time": "2025-04-28T23:55:51.989Z"
   },
   {
    "duration": 125,
    "start_time": "2025-04-28T23:59:47.331Z"
   },
   {
    "duration": 13,
    "start_time": "2025-04-29T00:00:58.064Z"
   },
   {
    "duration": 66,
    "start_time": "2025-04-29T00:01:45.011Z"
   },
   {
    "duration": 83,
    "start_time": "2025-04-29T00:02:58.066Z"
   },
   {
    "duration": 12,
    "start_time": "2025-04-29T00:07:03.061Z"
   },
   {
    "duration": 69,
    "start_time": "2025-04-29T00:10:16.792Z"
   },
   {
    "duration": 67,
    "start_time": "2025-04-29T00:12:33.011Z"
   },
   {
    "duration": 5,
    "start_time": "2025-04-29T00:17:38.922Z"
   },
   {
    "duration": 4,
    "start_time": "2025-04-29T00:17:40.612Z"
   },
   {
    "duration": 4,
    "start_time": "2025-04-29T00:19:49.479Z"
   },
   {
    "duration": 6,
    "start_time": "2025-04-29T00:26:49.281Z"
   },
   {
    "duration": 11,
    "start_time": "2025-04-29T00:27:25.523Z"
   },
   {
    "duration": 12,
    "start_time": "2025-04-29T00:27:46.743Z"
   },
   {
    "duration": 4,
    "start_time": "2025-04-29T00:29:28.421Z"
   },
   {
    "duration": 36,
    "start_time": "2025-04-29T00:31:51.312Z"
   },
   {
    "duration": 117,
    "start_time": "2025-04-29T00:36:30.896Z"
   },
   {
    "duration": 52,
    "start_time": "2025-04-29T00:36:45.414Z"
   },
   {
    "duration": 69,
    "start_time": "2025-04-29T00:53:25.537Z"
   },
   {
    "duration": 73,
    "start_time": "2025-04-29T00:53:40.900Z"
   },
   {
    "duration": 28,
    "start_time": "2025-04-29T00:54:07.667Z"
   },
   {
    "duration": 33,
    "start_time": "2025-04-29T00:54:10.777Z"
   },
   {
    "duration": 33,
    "start_time": "2025-04-29T00:54:27.111Z"
   },
   {
    "duration": 68,
    "start_time": "2025-04-29T00:57:51.947Z"
   },
   {
    "duration": 12,
    "start_time": "2025-04-29T00:58:05.651Z"
   },
   {
    "duration": 68,
    "start_time": "2025-04-29T00:58:21.518Z"
   },
   {
    "duration": 66,
    "start_time": "2025-04-29T00:58:47.438Z"
   },
   {
    "duration": 12,
    "start_time": "2025-04-29T00:59:07.142Z"
   },
   {
    "duration": 65,
    "start_time": "2025-04-29T00:59:41.489Z"
   },
   {
    "duration": 35,
    "start_time": "2025-04-29T00:59:52.110Z"
   },
   {
    "duration": 107,
    "start_time": "2025-04-29T01:03:10.977Z"
   },
   {
    "duration": 158,
    "start_time": "2025-04-29T01:54:16.306Z"
   },
   {
    "duration": 12,
    "start_time": "2025-04-29T01:58:04.868Z"
   },
   {
    "duration": 13,
    "start_time": "2025-04-29T02:03:29.379Z"
   },
   {
    "duration": 12,
    "start_time": "2025-04-29T02:03:32.428Z"
   },
   {
    "duration": 11,
    "start_time": "2025-04-29T02:04:10.489Z"
   },
   {
    "duration": 11,
    "start_time": "2025-04-29T02:04:11.702Z"
   },
   {
    "duration": 13,
    "start_time": "2025-04-29T02:04:12.738Z"
   },
   {
    "duration": 31,
    "start_time": "2025-04-29T02:04:34.580Z"
   },
   {
    "duration": 297,
    "start_time": "2025-04-29T02:07:16.828Z"
   },
   {
    "duration": 35,
    "start_time": "2025-04-29T02:07:32.453Z"
   },
   {
    "duration": 3,
    "start_time": "2025-04-29T02:28:26.416Z"
   },
   {
    "duration": 143,
    "start_time": "2025-04-29T02:28:36.247Z"
   },
   {
    "duration": 12,
    "start_time": "2025-04-29T02:28:42.377Z"
   },
   {
    "duration": 8,
    "start_time": "2025-04-29T02:28:51.417Z"
   },
   {
    "duration": 17,
    "start_time": "2025-04-29T02:29:39.128Z"
   },
   {
    "duration": 3,
    "start_time": "2025-04-29T02:29:49.059Z"
   },
   {
    "duration": 3,
    "start_time": "2025-04-29T02:30:06.016Z"
   },
   {
    "duration": 3,
    "start_time": "2025-04-29T02:30:08.876Z"
   },
   {
    "duration": 3,
    "start_time": "2025-04-29T02:30:20.697Z"
   },
   {
    "duration": 19,
    "start_time": "2025-04-29T02:30:33.378Z"
   },
   {
    "duration": 3,
    "start_time": "2025-04-29T02:30:44.466Z"
   },
   {
    "duration": 3,
    "start_time": "2025-04-29T02:31:15.646Z"
   },
   {
    "duration": 6,
    "start_time": "2025-04-29T02:32:08.617Z"
   },
   {
    "duration": 17,
    "start_time": "2025-04-29T02:32:48.796Z"
   },
   {
    "duration": 3,
    "start_time": "2025-04-29T02:33:00.977Z"
   },
   {
    "duration": 6,
    "start_time": "2025-04-29T02:33:49.704Z"
   },
   {
    "duration": 118,
    "start_time": "2025-04-29T02:33:54.640Z"
   },
   {
    "duration": 9,
    "start_time": "2025-04-29T02:33:57.760Z"
   },
   {
    "duration": 8,
    "start_time": "2025-04-29T02:34:08.872Z"
   },
   {
    "duration": 17,
    "start_time": "2025-04-29T02:34:17.669Z"
   },
   {
    "duration": 3,
    "start_time": "2025-04-29T02:34:29.632Z"
   },
   {
    "duration": 2,
    "start_time": "2025-04-29T02:34:32.441Z"
   },
   {
    "duration": 8,
    "start_time": "2025-04-29T02:34:45.240Z"
   },
   {
    "duration": 3,
    "start_time": "2025-04-29T02:35:02.050Z"
   },
   {
    "duration": 4,
    "start_time": "2025-04-29T02:35:50.143Z"
   },
   {
    "duration": 6,
    "start_time": "2025-04-29T02:36:45.173Z"
   },
   {
    "duration": 3,
    "start_time": "2025-04-29T02:38:34.945Z"
   },
   {
    "duration": 3,
    "start_time": "2025-04-29T02:38:58.933Z"
   },
   {
    "duration": 119,
    "start_time": "2025-04-29T02:39:40.911Z"
   },
   {
    "duration": 10,
    "start_time": "2025-04-29T02:39:47.000Z"
   },
   {
    "duration": 25,
    "start_time": "2025-04-29T02:41:33.060Z"
   },
   {
    "duration": 4,
    "start_time": "2025-04-29T02:41:49.732Z"
   },
   {
    "duration": 3,
    "start_time": "2025-04-29T02:43:13.471Z"
   },
   {
    "duration": 3,
    "start_time": "2025-04-29T02:43:16.061Z"
   },
   {
    "duration": 535,
    "start_time": "2025-04-29T02:43:26.417Z"
   },
   {
    "duration": 19,
    "start_time": "2025-04-29T02:43:48.795Z"
   },
   {
    "duration": 118,
    "start_time": "2025-04-29T02:45:57.918Z"
   },
   {
    "duration": 36,
    "start_time": "2025-04-29T02:46:08.462Z"
   },
   {
    "duration": 5,
    "start_time": "2025-04-29T02:46:23.925Z"
   },
   {
    "duration": 322,
    "start_time": "2025-04-29T03:47:05.245Z"
   },
   {
    "duration": 142,
    "start_time": "2025-04-29T03:47:15.163Z"
   },
   {
    "duration": 161,
    "start_time": "2025-04-29T03:47:19.323Z"
   },
   {
    "duration": 14,
    "start_time": "2025-04-29T03:47:29.788Z"
   },
   {
    "duration": 10,
    "start_time": "2025-04-29T03:47:35.861Z"
   },
   {
    "duration": 15,
    "start_time": "2025-04-29T03:47:42.523Z"
   },
   {
    "duration": 3,
    "start_time": "2025-04-29T03:47:49.421Z"
   },
   {
    "duration": 3,
    "start_time": "2025-04-29T03:47:52.971Z"
   },
   {
    "duration": 3,
    "start_time": "2025-04-29T03:52:26.601Z"
   },
   {
    "duration": 13,
    "start_time": "2025-04-29T03:53:07.655Z"
   },
   {
    "duration": 7,
    "start_time": "2025-04-29T04:17:36.489Z"
   },
   {
    "duration": 3,
    "start_time": "2025-04-29T04:18:04.704Z"
   },
   {
    "duration": 3,
    "start_time": "2025-04-29T04:18:26.253Z"
   },
   {
    "duration": 3,
    "start_time": "2025-04-29T04:19:57.764Z"
   },
   {
    "duration": 3,
    "start_time": "2025-04-29T04:19:58.987Z"
   },
   {
    "duration": 16,
    "start_time": "2025-04-29T04:21:48.944Z"
   },
   {
    "duration": 15,
    "start_time": "2025-04-29T04:22:54.613Z"
   },
   {
    "duration": 14,
    "start_time": "2025-04-29T04:23:03.913Z"
   },
   {
    "duration": 30,
    "start_time": "2025-04-29T04:32:33.513Z"
   },
   {
    "duration": 30,
    "start_time": "2025-04-29T04:33:55.278Z"
   },
   {
    "duration": 278,
    "start_time": "2025-04-29T05:16:35.933Z"
   },
   {
    "duration": 46,
    "start_time": "2025-04-29T05:17:31.423Z"
   },
   {
    "duration": 40,
    "start_time": "2025-04-29T05:19:04.144Z"
   },
   {
    "duration": 31,
    "start_time": "2025-04-29T05:19:53.691Z"
   },
   {
    "duration": 37,
    "start_time": "2025-04-29T05:20:26.881Z"
   },
   {
    "duration": 61,
    "start_time": "2025-04-29T05:20:30.460Z"
   },
   {
    "duration": 38,
    "start_time": "2025-04-29T05:21:17.748Z"
   },
   {
    "duration": 39,
    "start_time": "2025-04-29T05:21:18.684Z"
   },
   {
    "duration": 28,
    "start_time": "2025-04-29T05:21:20.715Z"
   },
   {
    "duration": 16,
    "start_time": "2025-04-29T05:22:17.045Z"
   },
   {
    "duration": 18,
    "start_time": "2025-04-29T05:25:23.254Z"
   },
   {
    "duration": 350,
    "start_time": "2025-04-29T05:36:54.606Z"
   },
   {
    "duration": 122,
    "start_time": "2025-04-29T05:38:09.465Z"
   },
   {
    "duration": 105,
    "start_time": "2025-04-29T05:39:48.157Z"
   },
   {
    "duration": 52,
    "start_time": "2025-04-29T05:42:10.645Z"
   },
   {
    "duration": 59,
    "start_time": "2025-04-29T05:42:43.823Z"
   },
   {
    "duration": 49,
    "start_time": "2025-04-29T05:47:02.655Z"
   },
   {
    "duration": 52,
    "start_time": "2025-04-29T05:47:04.383Z"
   },
   {
    "duration": 5,
    "start_time": "2025-04-29T05:47:51.307Z"
   },
   {
    "duration": 4,
    "start_time": "2025-04-29T05:48:42.191Z"
   },
   {
    "duration": 5,
    "start_time": "2025-04-29T05:49:00.797Z"
   },
   {
    "duration": 4,
    "start_time": "2025-04-29T06:29:49.252Z"
   },
   {
    "duration": 7,
    "start_time": "2025-04-29T07:43:10.023Z"
   },
   {
    "duration": 4,
    "start_time": "2025-04-29T07:43:13.548Z"
   },
   {
    "duration": 4,
    "start_time": "2025-04-29T07:44:13.341Z"
   },
   {
    "duration": 154,
    "start_time": "2025-04-29T07:47:27.430Z"
   },
   {
    "duration": 5,
    "start_time": "2025-04-29T07:50:14.312Z"
   },
   {
    "duration": 4,
    "start_time": "2025-04-29T07:51:00.814Z"
   },
   {
    "duration": 4,
    "start_time": "2025-04-29T07:52:00.861Z"
   },
   {
    "duration": 4,
    "start_time": "2025-04-29T07:52:10.670Z"
   },
   {
    "duration": 11,
    "start_time": "2025-04-29T07:52:34.419Z"
   },
   {
    "duration": 11,
    "start_time": "2025-04-29T07:53:43.301Z"
   },
   {
    "duration": 136,
    "start_time": "2025-04-29T07:55:21.881Z"
   },
   {
    "duration": 13,
    "start_time": "2025-04-29T07:55:27.141Z"
   },
   {
    "duration": 8,
    "start_time": "2025-04-29T07:55:42.732Z"
   },
   {
    "duration": 3,
    "start_time": "2025-04-29T07:55:51.292Z"
   },
   {
    "duration": 3,
    "start_time": "2025-04-29T07:55:56.820Z"
   },
   {
    "duration": 10,
    "start_time": "2025-04-29T07:56:14.972Z"
   },
   {
    "duration": 12,
    "start_time": "2025-04-29T07:57:12.762Z"
   },
   {
    "duration": 23,
    "start_time": "2025-04-29T07:57:15.881Z"
   },
   {
    "duration": 10,
    "start_time": "2025-04-29T07:57:31.272Z"
   },
   {
    "duration": 13,
    "start_time": "2025-04-29T07:58:36.592Z"
   },
   {
    "duration": 11,
    "start_time": "2025-04-29T08:00:06.152Z"
   },
   {
    "duration": 13,
    "start_time": "2025-04-29T08:02:26.331Z"
   },
   {
    "duration": 11,
    "start_time": "2025-04-29T08:02:51.781Z"
   },
   {
    "duration": 2,
    "start_time": "2025-04-29T08:02:55.792Z"
   },
   {
    "duration": 2,
    "start_time": "2025-04-29T08:03:00.002Z"
   },
   {
    "duration": 134,
    "start_time": "2025-04-29T08:20:12.637Z"
   },
   {
    "duration": 93,
    "start_time": "2025-04-29T08:21:02.478Z"
   },
   {
    "duration": 49,
    "start_time": "2025-04-29T08:21:19.420Z"
   },
   {
    "duration": 77,
    "start_time": "2025-04-29T08:21:46.186Z"
   },
   {
    "duration": 48,
    "start_time": "2025-04-29T08:22:16.841Z"
   },
   {
    "duration": 16,
    "start_time": "2025-04-29T08:23:15.987Z"
   },
   {
    "duration": 10,
    "start_time": "2025-04-29T08:24:58.736Z"
   },
   {
    "duration": 3,
    "start_time": "2025-04-29T08:26:14.806Z"
   },
   {
    "duration": 114,
    "start_time": "2025-04-29T08:26:25.779Z"
   },
   {
    "duration": 10,
    "start_time": "2025-04-29T08:26:29.659Z"
   },
   {
    "duration": 7,
    "start_time": "2025-04-29T08:26:40.927Z"
   },
   {
    "duration": 3,
    "start_time": "2025-04-29T08:26:54.206Z"
   },
   {
    "duration": 3,
    "start_time": "2025-04-29T08:27:03.086Z"
   },
   {
    "duration": 13,
    "start_time": "2025-04-29T08:27:15.069Z"
   },
   {
    "duration": 23,
    "start_time": "2025-04-29T08:27:19.517Z"
   },
   {
    "duration": 9,
    "start_time": "2025-04-29T08:27:39.156Z"
   },
   {
    "duration": 3,
    "start_time": "2025-04-29T08:28:39.836Z"
   },
   {
    "duration": 7,
    "start_time": "2025-04-29T08:28:59.618Z"
   },
   {
    "duration": 9,
    "start_time": "2025-04-29T08:33:02.492Z"
   },
   {
    "duration": 15,
    "start_time": "2025-04-29T08:34:13.654Z"
   },
   {
    "duration": 33,
    "start_time": "2025-04-29T08:34:33.885Z"
   },
   {
    "duration": 18,
    "start_time": "2025-04-29T08:36:12.903Z"
   },
   {
    "duration": 9,
    "start_time": "2025-04-29T08:36:40.928Z"
   },
   {
    "duration": 10,
    "start_time": "2025-04-29T08:44:24.227Z"
   },
   {
    "duration": 16,
    "start_time": "2025-04-29T09:17:50.475Z"
   },
   {
    "duration": 32,
    "start_time": "2025-04-29T09:20:55.937Z"
   },
   {
    "duration": 4,
    "start_time": "2025-04-29T09:22:30.018Z"
   },
   {
    "duration": 11,
    "start_time": "2025-04-29T09:22:49.368Z"
   },
   {
    "duration": 279,
    "start_time": "2025-04-29T15:25:45.159Z"
   },
   {
    "duration": 3,
    "start_time": "2025-04-29T15:25:51.895Z"
   },
   {
    "duration": 138,
    "start_time": "2025-04-29T15:25:56.939Z"
   },
   {
    "duration": 13,
    "start_time": "2025-04-29T15:26:00.703Z"
   },
   {
    "duration": 9,
    "start_time": "2025-04-29T15:26:11.437Z"
   },
   {
    "duration": 3,
    "start_time": "2025-04-29T15:26:17.963Z"
   },
   {
    "duration": 4,
    "start_time": "2025-04-29T15:26:20.491Z"
   },
   {
    "duration": 3,
    "start_time": "2025-04-29T15:26:26.818Z"
   },
   {
    "duration": 14,
    "start_time": "2025-04-29T15:26:34.752Z"
   },
   {
    "duration": 23,
    "start_time": "2025-04-29T15:26:45.078Z"
   },
   {
    "duration": 12,
    "start_time": "2025-04-29T15:27:03.372Z"
   },
   {
    "duration": 10,
    "start_time": "2025-04-29T15:27:06.308Z"
   },
   {
    "duration": 11,
    "start_time": "2025-04-29T15:27:32.825Z"
   },
   {
    "duration": 10,
    "start_time": "2025-04-29T15:35:26.065Z"
   },
   {
    "duration": 261,
    "start_time": "2025-04-29T15:36:33.071Z"
   },
   {
    "duration": 119,
    "start_time": "2025-04-29T15:36:33.334Z"
   },
   {
    "duration": 12,
    "start_time": "2025-04-29T15:36:33.454Z"
   },
   {
    "duration": 21,
    "start_time": "2025-04-29T15:36:33.468Z"
   },
   {
    "duration": 4,
    "start_time": "2025-04-29T15:36:33.491Z"
   },
   {
    "duration": 5,
    "start_time": "2025-04-29T15:36:33.496Z"
   },
   {
    "duration": 16,
    "start_time": "2025-04-29T15:36:33.503Z"
   },
   {
    "duration": 21,
    "start_time": "2025-04-29T15:36:33.521Z"
   },
   {
    "duration": 2,
    "start_time": "2025-04-29T15:36:33.544Z"
   },
   {
    "duration": 2,
    "start_time": "2025-04-29T15:36:33.550Z"
   },
   {
    "duration": 10,
    "start_time": "2025-04-29T15:36:33.586Z"
   },
   {
    "duration": 2,
    "start_time": "2025-04-29T15:36:33.598Z"
   },
   {
    "duration": 3,
    "start_time": "2025-04-29T15:36:33.602Z"
   },
   {
    "duration": 5,
    "start_time": "2025-04-29T15:36:33.606Z"
   },
   {
    "duration": 0,
    "start_time": "2025-04-29T15:36:33.613Z"
   },
   {
    "duration": 0,
    "start_time": "2025-04-29T15:36:33.614Z"
   },
   {
    "duration": 0,
    "start_time": "2025-04-29T15:36:33.615Z"
   },
   {
    "duration": 0,
    "start_time": "2025-04-29T15:36:33.616Z"
   },
   {
    "duration": 0,
    "start_time": "2025-04-29T15:36:33.617Z"
   },
   {
    "duration": 0,
    "start_time": "2025-04-29T15:36:33.618Z"
   },
   {
    "duration": 0,
    "start_time": "2025-04-29T15:36:33.619Z"
   },
   {
    "duration": 11,
    "start_time": "2025-04-29T15:37:37.880Z"
   },
   {
    "duration": 8,
    "start_time": "2025-04-29T15:40:40.943Z"
   },
   {
    "duration": 8,
    "start_time": "2025-04-29T15:42:34.273Z"
   },
   {
    "duration": 8,
    "start_time": "2025-04-29T15:42:37.997Z"
   },
   {
    "duration": 12,
    "start_time": "2025-04-29T15:42:40.462Z"
   },
   {
    "duration": 3,
    "start_time": "2025-04-29T15:43:31.074Z"
   },
   {
    "duration": 530,
    "start_time": "2025-04-29T15:43:58.843Z"
   },
   {
    "duration": 39,
    "start_time": "2025-04-29T15:45:02.308Z"
   },
   {
    "duration": 8,
    "start_time": "2025-04-29T15:45:51.432Z"
   },
   {
    "duration": 281,
    "start_time": "2025-04-29T15:49:41.254Z"
   },
   {
    "duration": 114,
    "start_time": "2025-04-29T15:49:41.537Z"
   },
   {
    "duration": 12,
    "start_time": "2025-04-29T15:49:41.653Z"
   },
   {
    "duration": 20,
    "start_time": "2025-04-29T15:49:41.667Z"
   },
   {
    "duration": 4,
    "start_time": "2025-04-29T15:49:41.689Z"
   },
   {
    "duration": 4,
    "start_time": "2025-04-29T15:49:41.694Z"
   },
   {
    "duration": 14,
    "start_time": "2025-04-29T15:49:41.699Z"
   },
   {
    "duration": 21,
    "start_time": "2025-04-29T15:49:41.714Z"
   },
   {
    "duration": 4,
    "start_time": "2025-04-29T15:49:41.736Z"
   },
   {
    "duration": 3,
    "start_time": "2025-04-29T15:49:41.741Z"
   },
   {
    "duration": 42,
    "start_time": "2025-04-29T15:49:41.745Z"
   },
   {
    "duration": 4,
    "start_time": "2025-04-29T15:49:41.789Z"
   },
   {
    "duration": 2,
    "start_time": "2025-04-29T15:49:41.795Z"
   },
   {
    "duration": 3,
    "start_time": "2025-04-29T15:49:41.801Z"
   },
   {
    "duration": 0,
    "start_time": "2025-04-29T15:49:41.806Z"
   },
   {
    "duration": 0,
    "start_time": "2025-04-29T15:49:41.807Z"
   },
   {
    "duration": 0,
    "start_time": "2025-04-29T15:49:41.808Z"
   },
   {
    "duration": 0,
    "start_time": "2025-04-29T15:49:41.810Z"
   },
   {
    "duration": 0,
    "start_time": "2025-04-29T15:49:41.812Z"
   },
   {
    "duration": 0,
    "start_time": "2025-04-29T15:49:41.813Z"
   },
   {
    "duration": 0,
    "start_time": "2025-04-29T15:49:41.815Z"
   },
   {
    "duration": 8,
    "start_time": "2025-04-29T15:51:49.210Z"
   },
   {
    "duration": 23,
    "start_time": "2025-04-29T15:52:50.427Z"
   },
   {
    "duration": 2,
    "start_time": "2025-04-29T15:53:29.650Z"
   },
   {
    "duration": 24,
    "start_time": "2025-04-29T15:53:57.255Z"
   },
   {
    "duration": 10,
    "start_time": "2025-04-29T15:57:18.783Z"
   },
   {
    "duration": 2,
    "start_time": "2025-04-29T16:04:05.928Z"
   },
   {
    "duration": 116,
    "start_time": "2025-04-29T16:04:05.933Z"
   },
   {
    "duration": 10,
    "start_time": "2025-04-29T16:04:06.050Z"
   },
   {
    "duration": 8,
    "start_time": "2025-04-29T16:04:06.061Z"
   },
   {
    "duration": 17,
    "start_time": "2025-04-29T16:04:06.071Z"
   },
   {
    "duration": 4,
    "start_time": "2025-04-29T16:04:06.089Z"
   },
   {
    "duration": 12,
    "start_time": "2025-04-29T16:04:06.094Z"
   },
   {
    "duration": 22,
    "start_time": "2025-04-29T16:04:06.108Z"
   },
   {
    "duration": 23,
    "start_time": "2025-04-29T16:04:06.134Z"
   },
   {
    "duration": 35,
    "start_time": "2025-04-29T16:04:06.158Z"
   },
   {
    "duration": 12,
    "start_time": "2025-04-29T16:04:20.861Z"
   },
   {
    "duration": 12,
    "start_time": "2025-04-29T16:04:57.745Z"
   },
   {
    "duration": 10,
    "start_time": "2025-04-29T16:05:13.041Z"
   },
   {
    "duration": 9,
    "start_time": "2025-04-29T16:05:23.561Z"
   },
   {
    "duration": 13,
    "start_time": "2025-04-29T16:05:28.772Z"
   },
   {
    "duration": 322,
    "start_time": "2025-04-29T16:08:17.702Z"
   },
   {
    "duration": 5,
    "start_time": "2025-04-29T16:08:49.916Z"
   },
   {
    "duration": 10,
    "start_time": "2025-04-29T16:08:55.109Z"
   },
   {
    "duration": 11,
    "start_time": "2025-04-29T16:09:10.381Z"
   },
   {
    "duration": 11,
    "start_time": "2025-04-29T16:09:30.063Z"
   },
   {
    "duration": 49,
    "start_time": "2025-04-29T16:09:34.699Z"
   },
   {
    "duration": 13,
    "start_time": "2025-04-29T16:09:44.899Z"
   },
   {
    "duration": 5,
    "start_time": "2025-04-29T16:09:48.185Z"
   },
   {
    "duration": 14,
    "start_time": "2025-04-29T16:09:57.513Z"
   },
   {
    "duration": 11,
    "start_time": "2025-04-29T16:10:49.001Z"
   },
   {
    "duration": 3,
    "start_time": "2025-04-29T16:17:22.160Z"
   },
   {
    "duration": 4,
    "start_time": "2025-04-29T16:17:23.592Z"
   },
   {
    "duration": 3,
    "start_time": "2025-04-29T16:17:24.864Z"
   },
   {
    "duration": 3,
    "start_time": "2025-04-29T16:17:25.401Z"
   },
   {
    "duration": 3,
    "start_time": "2025-04-29T16:17:26.138Z"
   },
   {
    "duration": 4,
    "start_time": "2025-04-29T16:17:26.546Z"
   },
   {
    "duration": 3,
    "start_time": "2025-04-29T16:17:43.482Z"
   },
   {
    "duration": 5,
    "start_time": "2025-04-29T16:19:03.761Z"
   },
   {
    "duration": 6,
    "start_time": "2025-04-29T16:19:06.832Z"
   },
   {
    "duration": 4,
    "start_time": "2025-04-29T16:19:29.603Z"
   },
   {
    "duration": 335,
    "start_time": "2025-04-29T16:19:52.483Z"
   },
   {
    "duration": 39,
    "start_time": "2025-04-29T16:21:53.926Z"
   },
   {
    "duration": 13,
    "start_time": "2025-04-29T16:23:01.194Z"
   },
   {
    "duration": 38,
    "start_time": "2025-04-29T16:23:30.005Z"
   },
   {
    "duration": 18,
    "start_time": "2025-04-29T16:26:55.136Z"
   },
   {
    "duration": 13,
    "start_time": "2025-04-29T16:27:25.573Z"
   },
   {
    "duration": 49,
    "start_time": "2025-04-29T16:28:50.461Z"
   },
   {
    "duration": 14,
    "start_time": "2025-04-29T16:38:02.383Z"
   },
   {
    "duration": 12,
    "start_time": "2025-04-29T16:38:34.279Z"
   },
   {
    "duration": 39,
    "start_time": "2025-04-29T16:39:04.672Z"
   },
   {
    "duration": 96,
    "start_time": "2025-04-29T16:39:48.106Z"
   },
   {
    "duration": 3,
    "start_time": "2025-04-29T16:41:24.403Z"
   },
   {
    "duration": 3,
    "start_time": "2025-04-29T16:43:27.811Z"
   },
   {
    "duration": 217,
    "start_time": "2025-04-29T16:44:16.590Z"
   },
   {
    "duration": 23,
    "start_time": "2025-04-29T16:45:45.535Z"
   },
   {
    "duration": 322,
    "start_time": "2025-04-29T17:45:49.236Z"
   },
   {
    "duration": 135,
    "start_time": "2025-04-29T17:45:52.304Z"
   },
   {
    "duration": 12,
    "start_time": "2025-04-29T17:45:54.910Z"
   },
   {
    "duration": 10,
    "start_time": "2025-04-29T17:45:58.230Z"
   },
   {
    "duration": 3,
    "start_time": "2025-04-29T17:46:05.785Z"
   },
   {
    "duration": 3,
    "start_time": "2025-04-29T17:46:14.692Z"
   },
   {
    "duration": 13,
    "start_time": "2025-04-29T17:46:25.639Z"
   },
   {
    "duration": 21,
    "start_time": "2025-04-29T17:46:28.769Z"
   },
   {
    "duration": 9,
    "start_time": "2025-04-29T17:46:32.301Z"
   },
   {
    "duration": 16,
    "start_time": "2025-04-29T17:46:35.009Z"
   },
   {
    "duration": 13,
    "start_time": "2025-04-29T17:46:39.310Z"
   },
   {
    "duration": 4,
    "start_time": "2025-04-29T17:46:46.450Z"
   },
   {
    "duration": 11,
    "start_time": "2025-04-29T17:46:50.344Z"
   },
   {
    "duration": 546,
    "start_time": "2025-04-29T17:47:34.714Z"
   },
   {
    "duration": 30,
    "start_time": "2025-04-29T17:49:40.305Z"
   },
   {
    "duration": 7,
    "start_time": "2025-04-29T17:58:36.634Z"
   },
   {
    "duration": 15,
    "start_time": "2025-04-29T17:58:58.793Z"
   },
   {
    "duration": 3,
    "start_time": "2025-04-29T17:59:56.642Z"
   },
   {
    "duration": 19,
    "start_time": "2025-04-29T18:00:47.211Z"
   },
   {
    "duration": 44,
    "start_time": "2025-04-29T18:01:13.072Z"
   },
   {
    "duration": 13,
    "start_time": "2025-04-29T18:04:47.575Z"
   },
   {
    "duration": 14,
    "start_time": "2025-04-29T18:25:58.131Z"
   },
   {
    "duration": 14,
    "start_time": "2025-04-29T18:27:01.342Z"
   },
   {
    "duration": 13,
    "start_time": "2025-04-29T18:28:28.560Z"
   },
   {
    "duration": 5,
    "start_time": "2025-04-29T18:29:39.503Z"
   },
   {
    "duration": 5,
    "start_time": "2025-04-29T18:31:00.247Z"
   },
   {
    "duration": 14,
    "start_time": "2025-04-29T18:31:35.164Z"
   },
   {
    "duration": 4,
    "start_time": "2025-04-29T18:31:57.404Z"
   },
   {
    "duration": 40,
    "start_time": "2025-04-29T18:32:28.042Z"
   },
   {
    "duration": 38,
    "start_time": "2025-04-29T18:41:55.235Z"
   },
   {
    "duration": 5,
    "start_time": "2025-04-29T18:43:09.095Z"
   },
   {
    "duration": 5,
    "start_time": "2025-04-29T18:51:01.026Z"
   },
   {
    "duration": 3,
    "start_time": "2025-04-29T18:52:08.740Z"
   },
   {
    "duration": 12,
    "start_time": "2025-04-29T18:52:33.966Z"
   },
   {
    "duration": 12,
    "start_time": "2025-04-29T18:57:00.635Z"
   },
   {
    "duration": 12,
    "start_time": "2025-04-29T18:57:42.061Z"
   },
   {
    "duration": 3,
    "start_time": "2025-04-29T19:24:52.857Z"
   },
   {
    "duration": 14,
    "start_time": "2025-04-29T19:25:29.647Z"
   },
   {
    "duration": 3,
    "start_time": "2025-04-29T19:26:15.893Z"
   },
   {
    "duration": 5,
    "start_time": "2025-04-29T19:26:51.964Z"
   },
   {
    "duration": 4,
    "start_time": "2025-04-29T19:27:18.835Z"
   },
   {
    "duration": 3,
    "start_time": "2025-04-29T19:27:46.834Z"
   },
   {
    "duration": 4,
    "start_time": "2025-04-29T19:28:46.770Z"
   },
   {
    "duration": 13,
    "start_time": "2025-04-29T19:44:31.082Z"
   },
   {
    "duration": 4,
    "start_time": "2025-04-29T19:45:44.344Z"
   },
   {
    "duration": 36,
    "start_time": "2025-04-29T20:04:27.911Z"
   },
   {
    "duration": 5,
    "start_time": "2025-04-29T20:07:50.020Z"
   },
   {
    "duration": 4,
    "start_time": "2025-04-29T20:07:52.331Z"
   },
   {
    "duration": 60,
    "start_time": "2025-04-29T20:10:56.133Z"
   },
   {
    "duration": 6,
    "start_time": "2025-04-29T20:11:20.963Z"
   },
   {
    "duration": 5,
    "start_time": "2025-04-29T20:14:03.459Z"
   },
   {
    "duration": 7,
    "start_time": "2025-04-29T20:29:31.322Z"
   },
   {
    "duration": 5,
    "start_time": "2025-04-29T20:29:55.638Z"
   },
   {
    "duration": 8,
    "start_time": "2025-04-29T20:30:22.410Z"
   },
   {
    "duration": 5,
    "start_time": "2025-04-29T20:31:09.782Z"
   },
   {
    "duration": 22,
    "start_time": "2025-04-30T00:03:02.883Z"
   },
   {
    "duration": 3,
    "start_time": "2025-04-30T00:03:33.943Z"
   },
   {
    "duration": 3,
    "start_time": "2025-04-30T00:03:59.536Z"
   },
   {
    "duration": 6,
    "start_time": "2025-04-30T00:04:22.795Z"
   },
   {
    "duration": 4,
    "start_time": "2025-04-30T00:05:33.511Z"
   },
   {
    "duration": 6,
    "start_time": "2025-04-30T00:05:51.573Z"
   },
   {
    "duration": 4,
    "start_time": "2025-04-30T00:06:18.960Z"
   },
   {
    "duration": 4,
    "start_time": "2025-04-30T00:06:33.414Z"
   },
   {
    "duration": 5,
    "start_time": "2025-04-30T00:06:38.980Z"
   },
   {
    "duration": 7,
    "start_time": "2025-04-30T00:06:48.765Z"
   },
   {
    "duration": 3,
    "start_time": "2025-04-30T00:07:17.551Z"
   },
   {
    "duration": 3,
    "start_time": "2025-04-30T00:07:30.393Z"
   },
   {
    "duration": 4,
    "start_time": "2025-04-30T00:07:38.140Z"
   },
   {
    "duration": 5,
    "start_time": "2025-04-30T00:08:56.713Z"
   },
   {
    "duration": 3,
    "start_time": "2025-04-30T00:09:14.750Z"
   },
   {
    "duration": 5,
    "start_time": "2025-04-30T00:10:01.907Z"
   },
   {
    "duration": 11,
    "start_time": "2025-04-30T04:50:21.762Z"
   },
   {
    "duration": 172,
    "start_time": "2025-04-30T04:51:51.580Z"
   },
   {
    "duration": 13,
    "start_time": "2025-04-30T04:53:16.921Z"
   },
   {
    "duration": 16,
    "start_time": "2025-04-30T04:53:27.307Z"
   },
   {
    "duration": 13,
    "start_time": "2025-04-30T04:53:28.311Z"
   },
   {
    "duration": 330,
    "start_time": "2025-04-30T04:54:38.644Z"
   },
   {
    "duration": 150,
    "start_time": "2025-04-30T04:54:38.976Z"
   },
   {
    "duration": 15,
    "start_time": "2025-04-30T04:54:39.131Z"
   },
   {
    "duration": 9,
    "start_time": "2025-04-30T04:54:39.148Z"
   },
   {
    "duration": 3,
    "start_time": "2025-04-30T04:54:39.160Z"
   },
   {
    "duration": 3,
    "start_time": "2025-04-30T04:54:39.167Z"
   },
   {
    "duration": 44,
    "start_time": "2025-04-30T04:54:39.171Z"
   },
   {
    "duration": 22,
    "start_time": "2025-04-30T04:54:39.216Z"
   },
   {
    "duration": 8,
    "start_time": "2025-04-30T04:54:39.240Z"
   },
   {
    "duration": 13,
    "start_time": "2025-04-30T04:54:39.251Z"
   },
   {
    "duration": 13,
    "start_time": "2025-04-30T04:54:39.266Z"
   },
   {
    "duration": 31,
    "start_time": "2025-04-30T04:54:39.281Z"
   },
   {
    "duration": 12,
    "start_time": "2025-04-30T04:54:39.314Z"
   },
   {
    "duration": 196,
    "start_time": "2025-04-30T04:54:39.332Z"
   },
   {
    "duration": 0,
    "start_time": "2025-04-30T04:54:39.530Z"
   },
   {
    "duration": 0,
    "start_time": "2025-04-30T04:54:39.531Z"
   },
   {
    "duration": 0,
    "start_time": "2025-04-30T04:54:39.532Z"
   },
   {
    "duration": 0,
    "start_time": "2025-04-30T04:54:39.533Z"
   },
   {
    "duration": 0,
    "start_time": "2025-04-30T04:54:39.534Z"
   },
   {
    "duration": 0,
    "start_time": "2025-04-30T04:54:39.535Z"
   },
   {
    "duration": 0,
    "start_time": "2025-04-30T04:54:39.536Z"
   },
   {
    "duration": 0,
    "start_time": "2025-04-30T04:54:39.537Z"
   },
   {
    "duration": 14,
    "start_time": "2025-04-30T04:55:00.676Z"
   },
   {
    "duration": 16,
    "start_time": "2025-04-30T04:55:06.205Z"
   },
   {
    "duration": 3,
    "start_time": "2025-04-30T04:56:28.135Z"
   },
   {
    "duration": 3,
    "start_time": "2025-04-30T04:57:47.667Z"
   },
   {
    "duration": 5,
    "start_time": "2025-04-30T05:20:13.827Z"
   },
   {
    "duration": 6,
    "start_time": "2025-04-30T05:20:46.946Z"
   },
   {
    "duration": 4,
    "start_time": "2025-04-30T06:43:36.523Z"
   },
   {
    "duration": 3,
    "start_time": "2025-04-30T06:43:59.334Z"
   },
   {
    "duration": 6,
    "start_time": "2025-04-30T06:44:19.089Z"
   },
   {
    "duration": 4,
    "start_time": "2025-04-30T06:44:36.463Z"
   },
   {
    "duration": 3,
    "start_time": "2025-04-30T06:46:35.922Z"
   },
   {
    "duration": 3,
    "start_time": "2025-04-30T06:46:44.645Z"
   },
   {
    "duration": 33,
    "start_time": "2025-04-30T06:47:31.603Z"
   },
   {
    "duration": 7,
    "start_time": "2025-04-30T06:53:07.193Z"
   },
   {
    "duration": 5,
    "start_time": "2025-04-30T06:53:33.693Z"
   },
   {
    "duration": 6,
    "start_time": "2025-04-30T06:54:26.723Z"
   },
   {
    "duration": 4,
    "start_time": "2025-04-30T06:54:50.302Z"
   },
   {
    "duration": 24,
    "start_time": "2025-04-30T06:55:30.665Z"
   },
   {
    "duration": 24,
    "start_time": "2025-04-30T06:59:18.630Z"
   },
   {
    "duration": 40,
    "start_time": "2025-04-30T07:03:45.912Z"
   },
   {
    "duration": 8,
    "start_time": "2025-04-30T07:04:04.619Z"
   },
   {
    "duration": 4,
    "start_time": "2025-04-30T07:04:56.873Z"
   },
   {
    "duration": 32,
    "start_time": "2025-04-30T07:07:01.608Z"
   },
   {
    "duration": 312,
    "start_time": "2025-04-30T08:12:39.159Z"
   },
   {
    "duration": 152,
    "start_time": "2025-04-30T08:12:39.473Z"
   },
   {
    "duration": 14,
    "start_time": "2025-04-30T08:12:39.628Z"
   },
   {
    "duration": 8,
    "start_time": "2025-04-30T08:12:39.644Z"
   },
   {
    "duration": 3,
    "start_time": "2025-04-30T08:12:39.654Z"
   },
   {
    "duration": 3,
    "start_time": "2025-04-30T08:12:39.659Z"
   },
   {
    "duration": 13,
    "start_time": "2025-04-30T08:12:39.664Z"
   },
   {
    "duration": 51,
    "start_time": "2025-04-30T08:12:39.678Z"
   },
   {
    "duration": 11,
    "start_time": "2025-04-30T08:12:39.730Z"
   },
   {
    "duration": 11,
    "start_time": "2025-04-30T08:12:39.745Z"
   },
   {
    "duration": 11,
    "start_time": "2025-04-30T08:12:39.758Z"
   },
   {
    "duration": 4,
    "start_time": "2025-04-30T08:12:39.771Z"
   },
   {
    "duration": 10,
    "start_time": "2025-04-30T08:12:39.777Z"
   },
   {
    "duration": 39,
    "start_time": "2025-04-30T08:12:39.789Z"
   },
   {
    "duration": 6,
    "start_time": "2025-04-30T08:12:39.831Z"
   },
   {
    "duration": 0,
    "start_time": "2025-04-30T08:12:39.839Z"
   },
   {
    "duration": 0,
    "start_time": "2025-04-30T08:12:39.843Z"
   },
   {
    "duration": 0,
    "start_time": "2025-04-30T08:12:39.844Z"
   },
   {
    "duration": 0,
    "start_time": "2025-04-30T08:12:39.846Z"
   },
   {
    "duration": 0,
    "start_time": "2025-04-30T08:12:39.847Z"
   },
   {
    "duration": 0,
    "start_time": "2025-04-30T08:12:39.848Z"
   },
   {
    "duration": 0,
    "start_time": "2025-04-30T08:12:39.850Z"
   },
   {
    "duration": 3,
    "start_time": "2025-04-30T08:17:25.881Z"
   },
   {
    "duration": 5,
    "start_time": "2025-04-30T08:18:26.077Z"
   },
   {
    "duration": 5,
    "start_time": "2025-04-30T08:19:58.036Z"
   },
   {
    "duration": 4,
    "start_time": "2025-04-30T08:20:26.197Z"
   },
   {
    "duration": 4,
    "start_time": "2025-04-30T08:21:22.644Z"
   },
   {
    "duration": 4,
    "start_time": "2025-04-30T08:21:53.923Z"
   },
   {
    "duration": 4,
    "start_time": "2025-04-30T08:22:15.367Z"
   },
   {
    "duration": 184,
    "start_time": "2025-04-30T08:22:20.243Z"
   },
   {
    "duration": 3,
    "start_time": "2025-04-30T08:25:21.270Z"
   },
   {
    "duration": 20,
    "start_time": "2025-04-30T08:25:30.497Z"
   },
   {
    "duration": 3,
    "start_time": "2025-04-30T08:27:30.437Z"
   },
   {
    "duration": 4,
    "start_time": "2025-04-30T08:28:06.590Z"
   },
   {
    "duration": 6,
    "start_time": "2025-04-30T08:38:23.189Z"
   },
   {
    "duration": 4,
    "start_time": "2025-04-30T08:38:58.269Z"
   },
   {
    "duration": 4,
    "start_time": "2025-04-30T08:40:36.870Z"
   },
   {
    "duration": 5,
    "start_time": "2025-04-30T08:41:23.937Z"
   },
   {
    "duration": 6,
    "start_time": "2025-04-30T08:42:05.482Z"
   },
   {
    "duration": 6,
    "start_time": "2025-04-30T08:44:05.350Z"
   },
   {
    "duration": 3,
    "start_time": "2025-04-30T08:44:51.620Z"
   },
   {
    "duration": 9,
    "start_time": "2025-04-30T11:06:33.573Z"
   },
   {
    "duration": 5,
    "start_time": "2025-04-30T11:08:16.620Z"
   },
   {
    "duration": 3,
    "start_time": "2025-04-30T11:08:37.826Z"
   },
   {
    "duration": 156,
    "start_time": "2025-04-30T11:08:46.110Z"
   },
   {
    "duration": 2,
    "start_time": "2025-04-30T11:12:35.159Z"
   },
   {
    "duration": 3,
    "start_time": "2025-04-30T11:12:39.727Z"
   },
   {
    "duration": 3,
    "start_time": "2025-04-30T11:12:43.473Z"
   },
   {
    "duration": 18,
    "start_time": "2025-04-30T11:12:47.718Z"
   },
   {
    "duration": 3,
    "start_time": "2025-04-30T11:31:13.639Z"
   },
   {
    "duration": 3,
    "start_time": "2025-04-30T11:31:18.096Z"
   },
   {
    "duration": 3,
    "start_time": "2025-04-30T11:31:22.331Z"
   },
   {
    "duration": 17,
    "start_time": "2025-04-30T11:31:25.851Z"
   },
   {
    "duration": 3,
    "start_time": "2025-04-30T11:34:17.062Z"
   },
   {
    "duration": 3,
    "start_time": "2025-04-30T11:34:36.480Z"
   },
   {
    "duration": 16,
    "start_time": "2025-04-30T11:34:46.740Z"
   },
   {
    "duration": 5,
    "start_time": "2025-04-30T19:40:11.114Z"
   },
   {
    "duration": 158,
    "start_time": "2025-04-30T19:40:15.292Z"
   },
   {
    "duration": 2,
    "start_time": "2025-04-30T19:41:23.485Z"
   },
   {
    "duration": 4,
    "start_time": "2025-04-30T19:41:25.121Z"
   },
   {
    "duration": 16,
    "start_time": "2025-04-30T19:41:27.282Z"
   },
   {
    "duration": 16,
    "start_time": "2025-04-30T19:50:17.297Z"
   },
   {
    "duration": 6,
    "start_time": "2025-04-30T19:56:05.852Z"
   },
   {
    "duration": 3,
    "start_time": "2025-04-30T19:56:39.611Z"
   },
   {
    "duration": 5,
    "start_time": "2025-04-30T19:58:32.429Z"
   },
   {
    "duration": 5,
    "start_time": "2025-04-30T19:59:00.007Z"
   },
   {
    "duration": 4,
    "start_time": "2025-04-30T20:00:29.816Z"
   },
   {
    "duration": 5,
    "start_time": "2025-04-30T20:13:15.947Z"
   },
   {
    "duration": 2,
    "start_time": "2025-04-30T20:13:49.199Z"
   },
   {
    "duration": 17,
    "start_time": "2025-04-30T20:13:55.071Z"
   },
   {
    "duration": 302,
    "start_time": "2025-04-30T20:14:27.264Z"
   },
   {
    "duration": 137,
    "start_time": "2025-04-30T20:14:27.568Z"
   },
   {
    "duration": 14,
    "start_time": "2025-04-30T20:14:27.706Z"
   },
   {
    "duration": 7,
    "start_time": "2025-04-30T20:14:27.723Z"
   },
   {
    "duration": 4,
    "start_time": "2025-04-30T20:14:27.732Z"
   },
   {
    "duration": 3,
    "start_time": "2025-04-30T20:14:27.738Z"
   },
   {
    "duration": 13,
    "start_time": "2025-04-30T20:14:27.743Z"
   },
   {
    "duration": 20,
    "start_time": "2025-04-30T20:14:27.757Z"
   },
   {
    "duration": 8,
    "start_time": "2025-04-30T20:14:27.779Z"
   },
   {
    "duration": 12,
    "start_time": "2025-04-30T20:14:27.822Z"
   },
   {
    "duration": 12,
    "start_time": "2025-04-30T20:14:27.836Z"
   },
   {
    "duration": 3,
    "start_time": "2025-04-30T20:14:27.850Z"
   },
   {
    "duration": 10,
    "start_time": "2025-04-30T20:14:27.856Z"
   },
   {
    "duration": 5,
    "start_time": "2025-04-30T20:14:27.868Z"
   },
   {
    "duration": 3,
    "start_time": "2025-04-30T20:14:27.875Z"
   },
   {
    "duration": 41,
    "start_time": "2025-04-30T20:14:27.879Z"
   },
   {
    "duration": 3,
    "start_time": "2025-04-30T20:14:27.922Z"
   },
   {
    "duration": 0,
    "start_time": "2025-04-30T20:14:27.927Z"
   },
   {
    "duration": 0,
    "start_time": "2025-04-30T20:14:27.928Z"
   },
   {
    "duration": 0,
    "start_time": "2025-04-30T20:14:27.929Z"
   },
   {
    "duration": 0,
    "start_time": "2025-04-30T20:14:27.930Z"
   },
   {
    "duration": 0,
    "start_time": "2025-04-30T20:14:27.931Z"
   },
   {
    "duration": 4,
    "start_time": "2025-04-30T20:14:50.080Z"
   },
   {
    "duration": 3,
    "start_time": "2025-04-30T20:14:53.092Z"
   },
   {
    "duration": 4,
    "start_time": "2025-04-30T20:16:14.409Z"
   },
   {
    "duration": 4,
    "start_time": "2025-04-30T21:08:21.032Z"
   },
   {
    "duration": 4,
    "start_time": "2025-04-30T21:08:34.025Z"
   },
   {
    "duration": 3,
    "start_time": "2025-04-30T21:09:06.533Z"
   },
   {
    "duration": 179,
    "start_time": "2025-04-30T21:09:49.820Z"
   },
   {
    "duration": 4,
    "start_time": "2025-04-30T21:10:54.933Z"
   },
   {
    "duration": 22,
    "start_time": "2025-04-30T21:10:59.128Z"
   },
   {
    "duration": 4,
    "start_time": "2025-04-30T21:27:38.230Z"
   },
   {
    "duration": 3,
    "start_time": "2025-04-30T21:27:54.418Z"
   },
   {
    "duration": 20,
    "start_time": "2025-04-30T21:28:01.611Z"
   },
   {
    "duration": 3,
    "start_time": "2025-04-30T21:29:01.061Z"
   },
   {
    "duration": 19,
    "start_time": "2025-04-30T21:29:12.797Z"
   },
   {
    "duration": 3,
    "start_time": "2025-04-30T21:29:33.185Z"
   },
   {
    "duration": 5,
    "start_time": "2025-04-30T21:29:36.146Z"
   },
   {
    "duration": 20,
    "start_time": "2025-04-30T21:29:40.637Z"
   },
   {
    "duration": 3,
    "start_time": "2025-04-30T21:38:18.451Z"
   },
   {
    "duration": 3,
    "start_time": "2025-04-30T21:38:20.450Z"
   },
   {
    "duration": 24,
    "start_time": "2025-04-30T21:38:26.650Z"
   },
   {
    "duration": 3,
    "start_time": "2025-04-30T21:41:01.924Z"
   },
   {
    "duration": 20,
    "start_time": "2025-04-30T21:41:09.826Z"
   },
   {
    "duration": 3,
    "start_time": "2025-04-30T21:47:45.912Z"
   },
   {
    "duration": 3,
    "start_time": "2025-04-30T21:47:48.772Z"
   },
   {
    "duration": 20,
    "start_time": "2025-04-30T21:47:51.652Z"
   },
   {
    "duration": 3,
    "start_time": "2025-04-30T21:48:57.273Z"
   },
   {
    "duration": 20,
    "start_time": "2025-04-30T21:48:59.480Z"
   },
   {
    "duration": 3,
    "start_time": "2025-04-30T21:52:15.419Z"
   },
   {
    "duration": 3,
    "start_time": "2025-04-30T21:54:16.370Z"
   },
   {
    "duration": 25,
    "start_time": "2025-04-30T21:54:18.036Z"
   },
   {
    "duration": 3,
    "start_time": "2025-04-30T22:01:26.412Z"
   },
   {
    "duration": 193,
    "start_time": "2025-04-30T22:01:30.793Z"
   },
   {
    "duration": 5,
    "start_time": "2025-04-30T22:04:20.051Z"
   },
   {
    "duration": 3,
    "start_time": "2025-04-30T22:09:15.005Z"
   },
   {
    "duration": 3,
    "start_time": "2025-04-30T22:11:40.754Z"
   },
   {
    "duration": 403,
    "start_time": "2025-04-30T22:11:43.256Z"
   },
   {
    "duration": 3,
    "start_time": "2025-04-30T22:15:24.134Z"
   },
   {
    "duration": 29,
    "start_time": "2025-04-30T22:15:26.648Z"
   },
   {
    "duration": 3,
    "start_time": "2025-04-30T22:17:32.285Z"
   },
   {
    "duration": 28,
    "start_time": "2025-04-30T22:17:36.414Z"
   },
   {
    "duration": 4,
    "start_time": "2025-04-30T22:18:49.448Z"
   },
   {
    "duration": 10,
    "start_time": "2025-04-30T22:18:51.972Z"
   },
   {
    "duration": 8,
    "start_time": "2025-05-01T04:59:37.219Z"
   },
   {
    "duration": 6,
    "start_time": "2025-05-01T08:27:44.433Z"
   },
   {
    "duration": 3,
    "start_time": "2025-05-01T08:27:46.283Z"
   },
   {
    "duration": 160,
    "start_time": "2025-05-01T08:27:55.272Z"
   },
   {
    "duration": 277,
    "start_time": "2025-05-01T08:28:37.511Z"
   },
   {
    "duration": 136,
    "start_time": "2025-05-01T08:28:37.790Z"
   },
   {
    "duration": 13,
    "start_time": "2025-05-01T08:28:37.927Z"
   },
   {
    "duration": 8,
    "start_time": "2025-05-01T08:28:37.943Z"
   },
   {
    "duration": 4,
    "start_time": "2025-05-01T08:28:37.953Z"
   },
   {
    "duration": 4,
    "start_time": "2025-05-01T08:28:37.958Z"
   },
   {
    "duration": 13,
    "start_time": "2025-05-01T08:28:37.963Z"
   },
   {
    "duration": 21,
    "start_time": "2025-05-01T08:28:37.977Z"
   },
   {
    "duration": 9,
    "start_time": "2025-05-01T08:28:38.032Z"
   },
   {
    "duration": 12,
    "start_time": "2025-05-01T08:28:38.045Z"
   },
   {
    "duration": 12,
    "start_time": "2025-05-01T08:28:38.059Z"
   },
   {
    "duration": 4,
    "start_time": "2025-05-01T08:28:38.073Z"
   },
   {
    "duration": 11,
    "start_time": "2025-05-01T08:28:38.079Z"
   },
   {
    "duration": 40,
    "start_time": "2025-05-01T08:28:38.091Z"
   },
   {
    "duration": 4,
    "start_time": "2025-05-01T08:28:38.133Z"
   },
   {
    "duration": 5,
    "start_time": "2025-05-01T08:28:38.139Z"
   },
   {
    "duration": 3,
    "start_time": "2025-05-01T08:28:38.145Z"
   },
   {
    "duration": 14,
    "start_time": "2025-05-01T08:28:38.150Z"
   },
   {
    "duration": 3,
    "start_time": "2025-05-01T08:28:38.166Z"
   },
   {
    "duration": 226,
    "start_time": "2025-05-01T08:28:38.171Z"
   },
   {
    "duration": 0,
    "start_time": "2025-05-01T08:28:38.398Z"
   },
   {
    "duration": 0,
    "start_time": "2025-05-01T08:28:38.399Z"
   },
   {
    "duration": 25,
    "start_time": "2025-05-01T08:28:47.152Z"
   },
   {
    "duration": 24,
    "start_time": "2025-05-01T08:28:49.833Z"
   },
   {
    "duration": 3,
    "start_time": "2025-05-01T08:30:05.032Z"
   },
   {
    "duration": 399,
    "start_time": "2025-05-01T08:30:08.298Z"
   },
   {
    "duration": 3,
    "start_time": "2025-05-01T08:31:52.511Z"
   },
   {
    "duration": 50,
    "start_time": "2025-05-01T08:31:56.625Z"
   },
   {
    "duration": 3,
    "start_time": "2025-05-01T08:33:42.991Z"
   },
   {
    "duration": 67,
    "start_time": "2025-05-01T08:33:45.789Z"
   },
   {
    "duration": 3,
    "start_time": "2025-05-01T08:39:12.389Z"
   },
   {
    "duration": 51,
    "start_time": "2025-05-01T08:39:17.467Z"
   },
   {
    "duration": 322,
    "start_time": "2025-05-01T08:39:25.253Z"
   },
   {
    "duration": 116,
    "start_time": "2025-05-01T08:39:25.577Z"
   },
   {
    "duration": 12,
    "start_time": "2025-05-01T08:39:25.695Z"
   },
   {
    "duration": 21,
    "start_time": "2025-05-01T08:39:25.710Z"
   },
   {
    "duration": 4,
    "start_time": "2025-05-01T08:39:25.733Z"
   },
   {
    "duration": 3,
    "start_time": "2025-05-01T08:39:25.738Z"
   },
   {
    "duration": 13,
    "start_time": "2025-05-01T08:39:25.743Z"
   },
   {
    "duration": 22,
    "start_time": "2025-05-01T08:39:25.758Z"
   },
   {
    "duration": 8,
    "start_time": "2025-05-01T08:39:25.782Z"
   },
   {
    "duration": 47,
    "start_time": "2025-05-01T08:39:25.792Z"
   },
   {
    "duration": 15,
    "start_time": "2025-05-01T08:39:25.841Z"
   },
   {
    "duration": 4,
    "start_time": "2025-05-01T08:39:25.857Z"
   },
   {
    "duration": 11,
    "start_time": "2025-05-01T08:39:25.862Z"
   },
   {
    "duration": 5,
    "start_time": "2025-05-01T08:39:25.876Z"
   },
   {
    "duration": 3,
    "start_time": "2025-05-01T08:39:25.884Z"
   },
   {
    "duration": 4,
    "start_time": "2025-05-01T08:39:25.888Z"
   },
   {
    "duration": 3,
    "start_time": "2025-05-01T08:39:25.894Z"
   },
   {
    "duration": 13,
    "start_time": "2025-05-01T08:39:25.932Z"
   },
   {
    "duration": 3,
    "start_time": "2025-05-01T08:39:25.947Z"
   },
   {
    "duration": 588,
    "start_time": "2025-05-01T08:39:25.951Z"
   },
   {
    "duration": 0,
    "start_time": "2025-05-01T08:39:26.541Z"
   },
   {
    "duration": 0,
    "start_time": "2025-05-01T08:39:26.542Z"
   },
   {
    "duration": 4,
    "start_time": "2025-05-01T08:39:45.731Z"
   },
   {
    "duration": 48,
    "start_time": "2025-05-01T08:39:50.071Z"
   },
   {
    "duration": 50,
    "start_time": "2025-05-01T08:39:51.821Z"
   },
   {
    "duration": 49,
    "start_time": "2025-05-01T08:39:53.189Z"
   },
   {
    "duration": 58,
    "start_time": "2025-05-01T08:48:26.319Z"
   },
   {
    "duration": 3,
    "start_time": "2025-05-01T08:49:07.339Z"
   },
   {
    "duration": 3,
    "start_time": "2025-05-01T08:49:09.558Z"
   },
   {
    "duration": 10,
    "start_time": "2025-05-01T08:49:13.929Z"
   },
   {
    "duration": 6,
    "start_time": "2025-05-01T22:19:29.272Z"
   },
   {
    "duration": 9,
    "start_time": "2025-05-01T22:20:03.290Z"
   },
   {
    "duration": 4,
    "start_time": "2025-05-01T22:21:15.763Z"
   },
   {
    "duration": 6,
    "start_time": "2025-05-01T22:21:52.892Z"
   },
   {
    "duration": 4,
    "start_time": "2025-05-01T22:22:21.640Z"
   },
   {
    "duration": 4,
    "start_time": "2025-05-01T22:22:31.811Z"
   },
   {
    "duration": 7,
    "start_time": "2025-05-01T22:50:38.959Z"
   },
   {
    "duration": 7,
    "start_time": "2025-05-01T22:52:08.119Z"
   },
   {
    "duration": 4,
    "start_time": "2025-05-01T22:53:21.603Z"
   },
   {
    "duration": 5,
    "start_time": "2025-05-01T23:07:10.403Z"
   },
   {
    "duration": 8,
    "start_time": "2025-05-01T23:33:22.061Z"
   },
   {
    "duration": 4,
    "start_time": "2025-05-01T23:33:24.907Z"
   },
   {
    "duration": 6,
    "start_time": "2025-05-02T01:21:25.689Z"
   },
   {
    "duration": 7,
    "start_time": "2025-05-02T01:21:37.941Z"
   },
   {
    "duration": 4,
    "start_time": "2025-05-02T01:39:49.008Z"
   },
   {
    "duration": 4,
    "start_time": "2025-05-02T01:40:45.535Z"
   },
   {
    "duration": 4,
    "start_time": "2025-05-02T01:42:27.092Z"
   },
   {
    "duration": 7,
    "start_time": "2025-05-02T01:43:01.455Z"
   },
   {
    "duration": 5,
    "start_time": "2025-05-02T01:46:24.930Z"
   },
   {
    "duration": 6,
    "start_time": "2025-05-02T01:54:24.801Z"
   },
   {
    "duration": 4,
    "start_time": "2025-05-02T01:55:04.411Z"
   },
   {
    "duration": 9,
    "start_time": "2025-05-02T06:13:45.951Z"
   },
   {
    "duration": 6,
    "start_time": "2025-05-02T06:14:52.426Z"
   },
   {
    "duration": 5,
    "start_time": "2025-05-02T06:15:36.741Z"
   },
   {
    "duration": 4,
    "start_time": "2025-05-02T06:15:38.341Z"
   },
   {
    "duration": 7,
    "start_time": "2025-05-02T06:16:25.890Z"
   },
   {
    "duration": 5,
    "start_time": "2025-05-02T06:16:59.091Z"
   },
   {
    "duration": 5,
    "start_time": "2025-05-02T06:17:01.762Z"
   },
   {
    "duration": 5,
    "start_time": "2025-05-02T06:17:55.078Z"
   },
   {
    "duration": 6,
    "start_time": "2025-05-02T06:19:15.409Z"
   },
   {
    "duration": 4,
    "start_time": "2025-05-02T06:20:03.311Z"
   },
   {
    "duration": 6,
    "start_time": "2025-05-02T06:26:18.470Z"
   },
   {
    "duration": 5,
    "start_time": "2025-05-02T06:27:21.009Z"
   },
   {
    "duration": 4,
    "start_time": "2025-05-02T06:28:18.216Z"
   },
   {
    "duration": 324,
    "start_time": "2025-05-02T06:46:19.582Z"
   },
   {
    "duration": 135,
    "start_time": "2025-05-02T06:46:19.908Z"
   },
   {
    "duration": 13,
    "start_time": "2025-05-02T06:46:20.045Z"
   },
   {
    "duration": 9,
    "start_time": "2025-05-02T06:46:20.060Z"
   },
   {
    "duration": 4,
    "start_time": "2025-05-02T06:46:20.070Z"
   },
   {
    "duration": 3,
    "start_time": "2025-05-02T06:46:20.076Z"
   },
   {
    "duration": 13,
    "start_time": "2025-05-02T06:46:20.081Z"
   },
   {
    "duration": 50,
    "start_time": "2025-05-02T06:46:20.095Z"
   },
   {
    "duration": 9,
    "start_time": "2025-05-02T06:46:20.147Z"
   },
   {
    "duration": 12,
    "start_time": "2025-05-02T06:46:20.160Z"
   },
   {
    "duration": 12,
    "start_time": "2025-05-02T06:46:20.174Z"
   },
   {
    "duration": 4,
    "start_time": "2025-05-02T06:46:20.188Z"
   },
   {
    "duration": 40,
    "start_time": "2025-05-02T06:46:20.193Z"
   },
   {
    "duration": 6,
    "start_time": "2025-05-02T06:46:20.235Z"
   },
   {
    "duration": 3,
    "start_time": "2025-05-02T06:46:20.243Z"
   },
   {
    "duration": 4,
    "start_time": "2025-05-02T06:46:20.248Z"
   },
   {
    "duration": 5,
    "start_time": "2025-05-02T06:46:20.253Z"
   },
   {
    "duration": 13,
    "start_time": "2025-05-02T06:46:20.259Z"
   },
   {
    "duration": 3,
    "start_time": "2025-05-02T06:46:20.274Z"
   },
   {
    "duration": 10,
    "start_time": "2025-05-02T06:46:20.279Z"
   },
   {
    "duration": 43,
    "start_time": "2025-05-02T06:46:20.291Z"
   },
   {
    "duration": 0,
    "start_time": "2025-05-02T06:46:20.337Z"
   },
   {
    "duration": 285,
    "start_time": "2025-05-02T06:46:32.792Z"
   },
   {
    "duration": 120,
    "start_time": "2025-05-02T06:46:33.079Z"
   },
   {
    "duration": 12,
    "start_time": "2025-05-02T06:46:33.201Z"
   },
   {
    "duration": 17,
    "start_time": "2025-05-02T06:46:33.216Z"
   },
   {
    "duration": 3,
    "start_time": "2025-05-02T06:46:33.235Z"
   },
   {
    "duration": 4,
    "start_time": "2025-05-02T06:46:33.240Z"
   },
   {
    "duration": 13,
    "start_time": "2025-05-02T06:46:33.245Z"
   },
   {
    "duration": 21,
    "start_time": "2025-05-02T06:46:33.260Z"
   },
   {
    "duration": 9,
    "start_time": "2025-05-02T06:46:33.283Z"
   },
   {
    "duration": 47,
    "start_time": "2025-05-02T06:46:33.295Z"
   },
   {
    "duration": 13,
    "start_time": "2025-05-02T06:46:33.344Z"
   },
   {
    "duration": 4,
    "start_time": "2025-05-02T06:46:33.359Z"
   },
   {
    "duration": 11,
    "start_time": "2025-05-02T06:46:33.365Z"
   },
   {
    "duration": 5,
    "start_time": "2025-05-02T06:46:33.378Z"
   },
   {
    "duration": 3,
    "start_time": "2025-05-02T06:46:33.386Z"
   },
   {
    "duration": 41,
    "start_time": "2025-05-02T06:46:33.391Z"
   },
   {
    "duration": 4,
    "start_time": "2025-05-02T06:46:33.434Z"
   },
   {
    "duration": 14,
    "start_time": "2025-05-02T06:46:33.439Z"
   },
   {
    "duration": 3,
    "start_time": "2025-05-02T06:46:33.455Z"
   },
   {
    "duration": 11,
    "start_time": "2025-05-02T06:46:33.459Z"
   },
   {
    "duration": 6,
    "start_time": "2025-05-02T06:46:33.471Z"
   },
   {
    "duration": 0,
    "start_time": "2025-05-02T06:46:33.478Z"
   },
   {
    "duration": 4,
    "start_time": "2025-05-02T06:46:39.503Z"
   },
   {
    "duration": 5,
    "start_time": "2025-05-02T06:47:22.506Z"
   },
   {
    "duration": 7,
    "start_time": "2025-05-02T07:06:03.003Z"
   },
   {
    "duration": 6,
    "start_time": "2025-05-02T07:30:36.629Z"
   },
   {
    "duration": 4,
    "start_time": "2025-05-02T07:30:58.274Z"
   },
   {
    "duration": 5,
    "start_time": "2025-05-02T07:31:25.219Z"
   },
   {
    "duration": 5,
    "start_time": "2025-05-02T07:31:46.421Z"
   },
   {
    "duration": 5,
    "start_time": "2025-05-02T07:32:07.205Z"
   },
   {
    "duration": 4,
    "start_time": "2025-05-02T07:33:43.741Z"
   },
   {
    "duration": 3,
    "start_time": "2025-05-02T07:33:58.241Z"
   },
   {
    "duration": 186,
    "start_time": "2025-05-02T07:34:08.045Z"
   },
   {
    "duration": 4,
    "start_time": "2025-05-02T07:36:00.998Z"
   },
   {
    "duration": 5,
    "start_time": "2025-05-02T07:51:37.366Z"
   },
   {
    "duration": 5,
    "start_time": "2025-05-02T07:52:06.239Z"
   },
   {
    "duration": 5,
    "start_time": "2025-05-02T07:53:30.256Z"
   },
   {
    "duration": 6,
    "start_time": "2025-05-02T07:54:50.607Z"
   },
   {
    "duration": 3,
    "start_time": "2025-05-02T08:06:42.762Z"
   },
   {
    "duration": 23,
    "start_time": "2025-05-02T08:06:47.860Z"
   },
   {
    "duration": 22,
    "start_time": "2025-05-02T08:07:24.947Z"
   },
   {
    "duration": 4,
    "start_time": "2025-05-02T08:21:06.823Z"
   },
   {
    "duration": 22,
    "start_time": "2025-05-02T08:21:11.146Z"
   },
   {
    "duration": 4,
    "start_time": "2025-05-02T08:24:00.140Z"
   },
   {
    "duration": 4,
    "start_time": "2025-05-02T08:24:02.092Z"
   },
   {
    "duration": 24,
    "start_time": "2025-05-02T08:24:08.198Z"
   },
   {
    "duration": 4,
    "start_time": "2025-05-02T08:24:44.818Z"
   },
   {
    "duration": 23,
    "start_time": "2025-05-02T08:24:49.213Z"
   },
   {
    "duration": 4,
    "start_time": "2025-05-02T08:27:01.419Z"
   },
   {
    "duration": 23,
    "start_time": "2025-05-02T08:27:05.168Z"
   },
   {
    "duration": 21,
    "start_time": "2025-05-02T08:29:39.028Z"
   },
   {
    "duration": 4,
    "start_time": "2025-05-02T08:29:46.824Z"
   },
   {
    "duration": 22,
    "start_time": "2025-05-02T08:29:54.438Z"
   },
   {
    "duration": 6,
    "start_time": "2025-05-02T08:30:29.288Z"
   },
   {
    "duration": 5,
    "start_time": "2025-05-02T08:31:05.919Z"
   },
   {
    "duration": 5,
    "start_time": "2025-05-02T08:31:57.330Z"
   },
   {
    "duration": 6,
    "start_time": "2025-05-02T08:33:14.096Z"
   },
   {
    "duration": 5,
    "start_time": "2025-05-02T08:33:28.708Z"
   },
   {
    "duration": 290,
    "start_time": "2025-05-02T08:33:43.997Z"
   },
   {
    "duration": 117,
    "start_time": "2025-05-02T08:33:44.289Z"
   },
   {
    "duration": 12,
    "start_time": "2025-05-02T08:33:44.409Z"
   },
   {
    "duration": 15,
    "start_time": "2025-05-02T08:33:44.423Z"
   },
   {
    "duration": 3,
    "start_time": "2025-05-02T08:33:44.439Z"
   },
   {
    "duration": 5,
    "start_time": "2025-05-02T08:33:44.444Z"
   },
   {
    "duration": 13,
    "start_time": "2025-05-02T08:33:44.450Z"
   },
   {
    "duration": 21,
    "start_time": "2025-05-02T08:33:44.465Z"
   },
   {
    "duration": 9,
    "start_time": "2025-05-02T08:33:44.487Z"
   },
   {
    "duration": 14,
    "start_time": "2025-05-02T08:33:44.531Z"
   },
   {
    "duration": 14,
    "start_time": "2025-05-02T08:33:44.547Z"
   },
   {
    "duration": 3,
    "start_time": "2025-05-02T08:33:44.563Z"
   },
   {
    "duration": 12,
    "start_time": "2025-05-02T08:33:44.568Z"
   },
   {
    "duration": 5,
    "start_time": "2025-05-02T08:33:44.581Z"
   },
   {
    "duration": 2,
    "start_time": "2025-05-02T08:33:44.588Z"
   },
   {
    "duration": 39,
    "start_time": "2025-05-02T08:33:44.593Z"
   },
   {
    "duration": 3,
    "start_time": "2025-05-02T08:33:44.634Z"
   },
   {
    "duration": 13,
    "start_time": "2025-05-02T08:33:44.639Z"
   },
   {
    "duration": 6,
    "start_time": "2025-05-02T08:33:44.654Z"
   },
   {
    "duration": 14,
    "start_time": "2025-05-02T08:33:44.662Z"
   },
   {
    "duration": 5,
    "start_time": "2025-05-02T08:33:44.678Z"
   },
   {
    "duration": 0,
    "start_time": "2025-05-02T08:33:44.685Z"
   },
   {
    "duration": 5,
    "start_time": "2025-05-02T08:33:49.911Z"
   },
   {
    "duration": 4,
    "start_time": "2025-05-02T08:34:23.090Z"
   },
   {
    "duration": 558,
    "start_time": "2025-05-02T08:34:29.669Z"
   },
   {
    "duration": 47,
    "start_time": "2025-05-02T08:34:31.871Z"
   },
   {
    "duration": 53,
    "start_time": "2025-05-02T08:46:40.406Z"
   },
   {
    "duration": 4,
    "start_time": "2025-05-02T08:46:46.045Z"
   },
   {
    "duration": 4,
    "start_time": "2025-05-02T09:05:31.005Z"
   },
   {
    "duration": 48,
    "start_time": "2025-05-02T09:05:33.714Z"
   },
   {
    "duration": 329,
    "start_time": "2025-05-02T09:05:42.046Z"
   },
   {
    "duration": 117,
    "start_time": "2025-05-02T09:05:42.378Z"
   },
   {
    "duration": 13,
    "start_time": "2025-05-02T09:05:42.496Z"
   },
   {
    "duration": 7,
    "start_time": "2025-05-02T09:05:42.511Z"
   },
   {
    "duration": 4,
    "start_time": "2025-05-02T09:05:42.534Z"
   },
   {
    "duration": 3,
    "start_time": "2025-05-02T09:05:42.540Z"
   },
   {
    "duration": 13,
    "start_time": "2025-05-02T09:05:42.545Z"
   },
   {
    "duration": 22,
    "start_time": "2025-05-02T09:05:42.560Z"
   },
   {
    "duration": 8,
    "start_time": "2025-05-02T09:05:42.584Z"
   },
   {
    "duration": 43,
    "start_time": "2025-05-02T09:05:42.594Z"
   },
   {
    "duration": 13,
    "start_time": "2025-05-02T09:05:42.638Z"
   },
   {
    "duration": 4,
    "start_time": "2025-05-02T09:05:42.653Z"
   },
   {
    "duration": 12,
    "start_time": "2025-05-02T09:05:42.658Z"
   },
   {
    "duration": 5,
    "start_time": "2025-05-02T09:05:42.675Z"
   },
   {
    "duration": 3,
    "start_time": "2025-05-02T09:05:42.681Z"
   },
   {
    "duration": 3,
    "start_time": "2025-05-02T09:05:42.686Z"
   },
   {
    "duration": 41,
    "start_time": "2025-05-02T09:05:42.691Z"
   },
   {
    "duration": 14,
    "start_time": "2025-05-02T09:05:42.734Z"
   },
   {
    "duration": 4,
    "start_time": "2025-05-02T09:05:42.749Z"
   },
   {
    "duration": 13,
    "start_time": "2025-05-02T09:05:42.754Z"
   },
   {
    "duration": 4,
    "start_time": "2025-05-02T09:05:42.768Z"
   },
   {
    "duration": 591,
    "start_time": "2025-05-02T09:05:42.773Z"
   },
   {
    "duration": 4,
    "start_time": "2025-05-02T09:06:37.746Z"
   },
   {
    "duration": 48,
    "start_time": "2025-05-02T09:06:42.425Z"
   },
   {
    "duration": 4,
    "start_time": "2025-05-02T09:07:29.897Z"
   },
   {
    "duration": 47,
    "start_time": "2025-05-02T09:07:33.146Z"
   },
   {
    "duration": 3,
    "start_time": "2025-05-02T09:09:09.095Z"
   },
   {
    "duration": 50,
    "start_time": "2025-05-02T09:09:14.394Z"
   },
   {
    "duration": 4,
    "start_time": "2025-05-02T09:39:45.586Z"
   },
   {
    "duration": 21,
    "start_time": "2025-05-02T09:39:50.366Z"
   },
   {
    "duration": 8,
    "start_time": "2025-05-02T11:26:58.014Z"
   },
   {
    "duration": 4,
    "start_time": "2025-05-02T11:27:21.304Z"
   },
   {
    "duration": 162,
    "start_time": "2025-05-02T11:27:30.033Z"
   },
   {
    "duration": 4,
    "start_time": "2025-05-02T11:29:09.604Z"
   },
   {
    "duration": 19,
    "start_time": "2025-05-02T11:29:15.798Z"
   },
   {
    "duration": 321,
    "start_time": "2025-05-02T11:30:31.841Z"
   },
   {
    "duration": 134,
    "start_time": "2025-05-02T11:30:32.164Z"
   },
   {
    "duration": 13,
    "start_time": "2025-05-02T11:30:32.299Z"
   },
   {
    "duration": 8,
    "start_time": "2025-05-02T11:30:32.319Z"
   },
   {
    "duration": 3,
    "start_time": "2025-05-02T11:30:32.330Z"
   },
   {
    "duration": 4,
    "start_time": "2025-05-02T11:30:32.335Z"
   },
   {
    "duration": 13,
    "start_time": "2025-05-02T11:30:32.340Z"
   },
   {
    "duration": 22,
    "start_time": "2025-05-02T11:30:32.355Z"
   },
   {
    "duration": 9,
    "start_time": "2025-05-02T11:30:32.379Z"
   },
   {
    "duration": 12,
    "start_time": "2025-05-02T11:30:32.419Z"
   },
   {
    "duration": 12,
    "start_time": "2025-05-02T11:30:32.433Z"
   },
   {
    "duration": 6,
    "start_time": "2025-05-02T11:30:32.446Z"
   },
   {
    "duration": 10,
    "start_time": "2025-05-02T11:30:32.453Z"
   },
   {
    "duration": 6,
    "start_time": "2025-05-02T11:30:32.467Z"
   },
   {
    "duration": 3,
    "start_time": "2025-05-02T11:30:32.474Z"
   },
   {
    "duration": 40,
    "start_time": "2025-05-02T11:30:32.479Z"
   },
   {
    "duration": 3,
    "start_time": "2025-05-02T11:30:32.522Z"
   },
   {
    "duration": 12,
    "start_time": "2025-05-02T11:30:32.527Z"
   },
   {
    "duration": 3,
    "start_time": "2025-05-02T11:30:32.540Z"
   },
   {
    "duration": 10,
    "start_time": "2025-05-02T11:30:32.545Z"
   },
   {
    "duration": 3,
    "start_time": "2025-05-02T11:30:32.558Z"
   },
   {
    "duration": 210,
    "start_time": "2025-05-02T11:30:32.563Z"
   },
   {
    "duration": 4,
    "start_time": "2025-05-02T11:31:00.294Z"
   },
   {
    "duration": 23,
    "start_time": "2025-05-02T11:31:07.108Z"
   },
   {
    "duration": 3,
    "start_time": "2025-05-02T11:33:48.711Z"
   },
   {
    "duration": 23,
    "start_time": "2025-05-02T11:33:54.337Z"
   },
   {
    "duration": 6,
    "start_time": "2025-05-02T14:18:53.349Z"
   },
   {
    "duration": 161,
    "start_time": "2025-05-02T14:19:00.286Z"
   },
   {
    "duration": 3,
    "start_time": "2025-05-02T14:25:26.724Z"
   },
   {
    "duration": 17,
    "start_time": "2025-05-02T14:25:30.402Z"
   },
   {
    "duration": 11,
    "start_time": "2025-05-02T14:26:33.295Z"
   },
   {
    "duration": 12,
    "start_time": "2025-05-02T14:26:35.944Z"
   },
   {
    "duration": 307,
    "start_time": "2025-05-02T14:27:00.241Z"
   },
   {
    "duration": 137,
    "start_time": "2025-05-02T14:27:04.621Z"
   },
   {
    "duration": 13,
    "start_time": "2025-05-02T14:27:31.070Z"
   },
   {
    "duration": 8,
    "start_time": "2025-05-02T14:27:34.131Z"
   },
   {
    "duration": 3,
    "start_time": "2025-05-02T14:27:41.941Z"
   },
   {
    "duration": 3,
    "start_time": "2025-05-02T14:27:46.571Z"
   },
   {
    "duration": 13,
    "start_time": "2025-05-02T14:27:55.900Z"
   },
   {
    "duration": 21,
    "start_time": "2025-05-02T14:28:00.871Z"
   },
   {
    "duration": 9,
    "start_time": "2025-05-02T14:28:05.401Z"
   },
   {
    "duration": 13,
    "start_time": "2025-05-02T14:28:12.822Z"
   },
   {
    "duration": 4,
    "start_time": "2025-05-02T14:28:18.842Z"
   },
   {
    "duration": 11,
    "start_time": "2025-05-02T14:28:22.422Z"
   },
   {
    "duration": 13,
    "start_time": "2025-05-02T14:28:27.041Z"
   },
   {
    "duration": 2,
    "start_time": "2025-05-02T14:28:30.041Z"
   },
   {
    "duration": 5,
    "start_time": "2025-05-02T14:28:34.782Z"
   },
   {
    "duration": 3,
    "start_time": "2025-05-02T14:28:43.751Z"
   },
   {
    "duration": 12,
    "start_time": "2025-05-02T14:28:46.670Z"
   },
   {
    "duration": 3,
    "start_time": "2025-05-02T14:28:55.542Z"
   },
   {
    "duration": 10,
    "start_time": "2025-05-02T14:28:59.021Z"
   },
   {
    "duration": 4,
    "start_time": "2025-05-02T14:29:04.920Z"
   },
   {
    "duration": 51,
    "start_time": "2025-05-02T14:29:09.921Z"
   },
   {
    "duration": 7,
    "start_time": "2025-05-02T21:31:47.909Z"
   },
   {
    "duration": 162,
    "start_time": "2025-05-02T21:31:52.110Z"
   },
   {
    "duration": 313,
    "start_time": "2025-05-02T21:35:24.732Z"
   },
   {
    "duration": 137,
    "start_time": "2025-05-02T21:35:25.047Z"
   },
   {
    "duration": 13,
    "start_time": "2025-05-02T21:35:25.186Z"
   },
   {
    "duration": 9,
    "start_time": "2025-05-02T21:35:25.201Z"
   },
   {
    "duration": 21,
    "start_time": "2025-05-02T21:35:25.212Z"
   },
   {
    "duration": 4,
    "start_time": "2025-05-02T21:35:25.234Z"
   },
   {
    "duration": 13,
    "start_time": "2025-05-02T21:35:25.239Z"
   },
   {
    "duration": 21,
    "start_time": "2025-05-02T21:35:25.254Z"
   },
   {
    "duration": 8,
    "start_time": "2025-05-02T21:35:25.277Z"
   },
   {
    "duration": 43,
    "start_time": "2025-05-02T21:35:25.288Z"
   },
   {
    "duration": 13,
    "start_time": "2025-05-02T21:35:25.333Z"
   },
   {
    "duration": 4,
    "start_time": "2025-05-02T21:35:25.347Z"
   },
   {
    "duration": 12,
    "start_time": "2025-05-02T21:35:25.353Z"
   },
   {
    "duration": 5,
    "start_time": "2025-05-02T21:35:25.367Z"
   },
   {
    "duration": 3,
    "start_time": "2025-05-02T21:35:25.374Z"
   },
   {
    "duration": 4,
    "start_time": "2025-05-02T21:35:25.379Z"
   },
   {
    "duration": 3,
    "start_time": "2025-05-02T21:35:25.384Z"
   },
   {
    "duration": 49,
    "start_time": "2025-05-02T21:35:25.389Z"
   },
   {
    "duration": 3,
    "start_time": "2025-05-02T21:35:25.439Z"
   },
   {
    "duration": 11,
    "start_time": "2025-05-02T21:35:25.444Z"
   },
   {
    "duration": 3,
    "start_time": "2025-05-02T21:35:25.457Z"
   },
   {
    "duration": 112,
    "start_time": "2025-05-02T21:35:25.461Z"
   },
   {
    "duration": 4,
    "start_time": "2025-05-02T21:36:20.362Z"
   },
   {
    "duration": 23,
    "start_time": "2025-05-02T21:36:24.425Z"
   },
   {
    "duration": 4,
    "start_time": "2025-05-02T21:36:52.721Z"
   },
   {
    "duration": 18,
    "start_time": "2025-05-02T21:36:55.125Z"
   },
   {
    "duration": 3,
    "start_time": "2025-05-02T21:39:27.005Z"
   },
   {
    "duration": 19,
    "start_time": "2025-05-02T21:39:28.811Z"
   },
   {
    "duration": 3,
    "start_time": "2025-05-02T21:40:40.246Z"
   },
   {
    "duration": 8,
    "start_time": "2025-05-02T21:40:43.686Z"
   },
   {
    "duration": 4,
    "start_time": "2025-05-02T21:40:59.406Z"
   },
   {
    "duration": 7,
    "start_time": "2025-05-02T21:41:00.924Z"
   },
   {
    "duration": 4,
    "start_time": "2025-05-02T21:41:55.192Z"
   },
   {
    "duration": 7,
    "start_time": "2025-05-02T21:41:56.873Z"
   },
   {
    "duration": 311,
    "start_time": "2025-05-03T00:24:32.679Z"
   },
   {
    "duration": 130,
    "start_time": "2025-05-03T00:24:32.992Z"
   },
   {
    "duration": 12,
    "start_time": "2025-05-03T00:24:33.124Z"
   },
   {
    "duration": 10,
    "start_time": "2025-05-03T00:24:33.138Z"
   },
   {
    "duration": 3,
    "start_time": "2025-05-03T00:24:33.151Z"
   },
   {
    "duration": 7,
    "start_time": "2025-05-03T00:24:33.156Z"
   },
   {
    "duration": 15,
    "start_time": "2025-05-03T00:24:33.165Z"
   },
   {
    "duration": 21,
    "start_time": "2025-05-03T00:24:33.181Z"
   },
   {
    "duration": 9,
    "start_time": "2025-05-03T00:24:33.203Z"
   },
   {
    "duration": 35,
    "start_time": "2025-05-03T00:24:33.213Z"
   },
   {
    "duration": 12,
    "start_time": "2025-05-03T00:24:33.250Z"
   },
   {
    "duration": 4,
    "start_time": "2025-05-03T00:24:33.264Z"
   },
   {
    "duration": 11,
    "start_time": "2025-05-03T00:24:33.270Z"
   },
   {
    "duration": 5,
    "start_time": "2025-05-03T00:24:33.284Z"
   },
   {
    "duration": 3,
    "start_time": "2025-05-03T00:24:33.290Z"
   },
   {
    "duration": 4,
    "start_time": "2025-05-03T00:24:33.294Z"
   },
   {
    "duration": 41,
    "start_time": "2025-05-03T00:24:33.302Z"
   },
   {
    "duration": 19,
    "start_time": "2025-05-03T00:24:33.345Z"
   },
   {
    "duration": 3,
    "start_time": "2025-05-03T00:24:33.367Z"
   },
   {
    "duration": 12,
    "start_time": "2025-05-03T00:24:33.373Z"
   },
   {
    "duration": 4,
    "start_time": "2025-05-03T00:24:33.389Z"
   },
   {
    "duration": 9,
    "start_time": "2025-05-03T00:24:33.396Z"
   },
   {
    "duration": 3,
    "start_time": "2025-05-03T00:24:46.140Z"
   },
   {
    "duration": 128,
    "start_time": "2025-05-03T00:24:46.146Z"
   },
   {
    "duration": 16,
    "start_time": "2025-05-03T00:24:46.276Z"
   },
   {
    "duration": 9,
    "start_time": "2025-05-03T00:24:46.295Z"
   },
   {
    "duration": 3,
    "start_time": "2025-05-03T00:24:46.306Z"
   },
   {
    "duration": 3,
    "start_time": "2025-05-03T00:24:46.311Z"
   },
   {
    "duration": 36,
    "start_time": "2025-05-03T00:24:46.316Z"
   },
   {
    "duration": 29,
    "start_time": "2025-05-03T00:24:46.354Z"
   },
   {
    "duration": 10,
    "start_time": "2025-05-03T00:24:46.384Z"
   },
   {
    "duration": 12,
    "start_time": "2025-05-03T00:24:46.398Z"
   },
   {
    "duration": 37,
    "start_time": "2025-05-03T00:24:46.413Z"
   },
   {
    "duration": 5,
    "start_time": "2025-05-03T00:24:46.452Z"
   },
   {
    "duration": 12,
    "start_time": "2025-05-03T00:24:46.459Z"
   },
   {
    "duration": 5,
    "start_time": "2025-05-03T00:24:46.474Z"
   },
   {
    "duration": 3,
    "start_time": "2025-05-03T00:24:46.481Z"
   },
   {
    "duration": 5,
    "start_time": "2025-05-03T00:24:46.485Z"
   },
   {
    "duration": 4,
    "start_time": "2025-05-03T00:24:46.492Z"
   },
   {
    "duration": 11,
    "start_time": "2025-05-03T00:24:46.497Z"
   },
   {
    "duration": 3,
    "start_time": "2025-05-03T00:24:46.543Z"
   },
   {
    "duration": 11,
    "start_time": "2025-05-03T00:24:46.548Z"
   },
   {
    "duration": 4,
    "start_time": "2025-05-03T00:24:46.561Z"
   },
   {
    "duration": 9,
    "start_time": "2025-05-03T00:24:46.566Z"
   },
   {
    "duration": 156,
    "start_time": "2025-05-03T04:00:27.468Z"
   },
   {
    "duration": 165,
    "start_time": "2025-05-03T04:01:08.466Z"
   },
   {
    "duration": 12,
    "start_time": "2025-05-03T04:01:11.546Z"
   },
   {
    "duration": 337,
    "start_time": "2025-05-03T04:01:29.437Z"
   },
   {
    "duration": 140,
    "start_time": "2025-05-03T04:01:29.777Z"
   },
   {
    "duration": 13,
    "start_time": "2025-05-03T04:01:29.919Z"
   },
   {
    "duration": 23,
    "start_time": "2025-05-03T04:01:29.934Z"
   },
   {
    "duration": 3,
    "start_time": "2025-05-03T04:01:29.959Z"
   },
   {
    "duration": 4,
    "start_time": "2025-05-03T04:01:29.963Z"
   },
   {
    "duration": 12,
    "start_time": "2025-05-03T04:01:29.969Z"
   },
   {
    "duration": 54,
    "start_time": "2025-05-03T04:01:29.982Z"
   },
   {
    "duration": 9,
    "start_time": "2025-05-03T04:01:30.038Z"
   },
   {
    "duration": 12,
    "start_time": "2025-05-03T04:01:30.049Z"
   },
   {
    "duration": 12,
    "start_time": "2025-05-03T04:01:30.063Z"
   },
   {
    "duration": 5,
    "start_time": "2025-05-03T04:01:30.076Z"
   },
   {
    "duration": 38,
    "start_time": "2025-05-03T04:01:30.082Z"
   },
   {
    "duration": 5,
    "start_time": "2025-05-03T04:01:30.124Z"
   },
   {
    "duration": 2,
    "start_time": "2025-05-03T04:01:30.131Z"
   },
   {
    "duration": 4,
    "start_time": "2025-05-03T04:01:30.135Z"
   },
   {
    "duration": 3,
    "start_time": "2025-05-03T04:01:30.141Z"
   },
   {
    "duration": 13,
    "start_time": "2025-05-03T04:01:30.147Z"
   },
   {
    "duration": 4,
    "start_time": "2025-05-03T04:01:30.161Z"
   },
   {
    "duration": 10,
    "start_time": "2025-05-03T04:01:30.167Z"
   },
   {
    "duration": 41,
    "start_time": "2025-05-03T04:01:30.179Z"
   },
   {
    "duration": 7,
    "start_time": "2025-05-03T04:01:30.221Z"
   },
   {
    "duration": 22,
    "start_time": "2025-05-03T04:02:00.171Z"
   },
   {
    "duration": 3,
    "start_time": "2025-05-03T04:04:46.923Z"
   },
   {
    "duration": 3,
    "start_time": "2025-05-03T04:04:57.476Z"
   },
   {
    "duration": 2,
    "start_time": "2025-05-03T04:05:04.853Z"
   },
   {
    "duration": 3,
    "start_time": "2025-05-03T04:05:12.122Z"
   },
   {
    "duration": 3,
    "start_time": "2025-05-03T04:05:16.501Z"
   },
   {
    "duration": 3,
    "start_time": "2025-05-03T04:05:18.661Z"
   },
   {
    "duration": 3,
    "start_time": "2025-05-03T04:05:20.886Z"
   },
   {
    "duration": 4,
    "start_time": "2025-05-03T04:09:57.220Z"
   },
   {
    "duration": 3,
    "start_time": "2025-05-03T04:10:02.096Z"
   },
   {
    "duration": 3,
    "start_time": "2025-05-03T04:10:12.365Z"
   },
   {
    "duration": 3,
    "start_time": "2025-05-03T04:10:13.709Z"
   },
   {
    "duration": 3,
    "start_time": "2025-05-03T04:11:02.574Z"
   },
   {
    "duration": 119,
    "start_time": "2025-05-03T04:11:09.394Z"
   },
   {
    "duration": 9,
    "start_time": "2025-05-03T04:11:10.016Z"
   },
   {
    "duration": 21,
    "start_time": "2025-05-03T04:11:12.665Z"
   },
   {
    "duration": 4,
    "start_time": "2025-05-03T04:11:30.331Z"
   },
   {
    "duration": 3,
    "start_time": "2025-05-03T04:11:32.534Z"
   },
   {
    "duration": 4,
    "start_time": "2025-05-03T04:16:16.530Z"
   },
   {
    "duration": 10,
    "start_time": "2025-05-03T04:16:17.644Z"
   },
   {
    "duration": 387,
    "start_time": "2025-05-03T14:43:00.843Z"
   },
   {
    "duration": 135,
    "start_time": "2025-05-03T14:43:01.232Z"
   },
   {
    "duration": 22,
    "start_time": "2025-05-03T14:43:01.369Z"
   },
   {
    "duration": 23,
    "start_time": "2025-05-03T14:43:01.392Z"
   },
   {
    "duration": 4,
    "start_time": "2025-05-03T14:43:01.417Z"
   },
   {
    "duration": 4,
    "start_time": "2025-05-03T14:43:01.423Z"
   },
   {
    "duration": 17,
    "start_time": "2025-05-03T14:43:01.428Z"
   },
   {
    "duration": 48,
    "start_time": "2025-05-03T14:43:01.447Z"
   },
   {
    "duration": 9,
    "start_time": "2025-05-03T14:43:01.497Z"
   },
   {
    "duration": 13,
    "start_time": "2025-05-03T14:43:01.507Z"
   },
   {
    "duration": 12,
    "start_time": "2025-05-03T14:43:01.522Z"
   },
   {
    "duration": 4,
    "start_time": "2025-05-03T14:43:01.536Z"
   },
   {
    "duration": 10,
    "start_time": "2025-05-03T14:43:01.542Z"
   },
   {
    "duration": 39,
    "start_time": "2025-05-03T14:43:01.555Z"
   },
   {
    "duration": 3,
    "start_time": "2025-05-03T14:43:01.597Z"
   },
   {
    "duration": 6,
    "start_time": "2025-05-03T14:43:01.601Z"
   },
   {
    "duration": 4,
    "start_time": "2025-05-03T14:43:01.609Z"
   },
   {
    "duration": 12,
    "start_time": "2025-05-03T14:43:01.614Z"
   },
   {
    "duration": 3,
    "start_time": "2025-05-03T14:43:01.627Z"
   },
   {
    "duration": 11,
    "start_time": "2025-05-03T14:43:01.632Z"
   },
   {
    "duration": 4,
    "start_time": "2025-05-03T14:43:01.644Z"
   },
   {
    "duration": 42,
    "start_time": "2025-05-03T14:43:01.650Z"
   }
  ],
  "colab": {
   "provenance": []
  },
  "kernelspec": {
   "display_name": "Python 3 (ipykernel)",
   "language": "python",
   "name": "python3"
  },
  "language_info": {
   "codemirror_mode": {
    "name": "ipython",
    "version": 3
   },
   "file_extension": ".py",
   "mimetype": "text/x-python",
   "name": "python",
   "nbconvert_exporter": "python",
   "pygments_lexer": "ipython3",
   "version": "3.9.19"
  },
  "toc": {
   "base_numbering": 1,
   "nav_menu": {},
   "number_sections": true,
   "sideBar": true,
   "skip_h1_title": true,
   "title_cell": "Table of Contents",
   "title_sidebar": "Contents",
   "toc_cell": false,
   "toc_position": {},
   "toc_section_display": true,
   "toc_window_display": false
  }
 },
 "nbformat": 4,
 "nbformat_minor": 1
}
