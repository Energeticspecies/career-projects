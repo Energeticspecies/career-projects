{
 "cells": [
  {
   "cell_type": "markdown",
   "id": "bf4b8c5c-c965-4d12-bfe5-ee2f5b4290ab",
   "metadata": {},
   "source": [
    "<div style=\"border:solid blue 2px; padding: 20px\">\n",
    "\n",
    "**Hello Chester,**\n",
    "\n",
    "Thank you for carefully addressing all the feedback from previous reviews. I appreciate the attention to detail you've shown in improving each aspect - the project looks excellent now.\n",
    "\n",
    "Congratulations on your accomplishment! Your project has been accepted, marking another exciting milestone in your journey. The quality of your work demonstrates impressive growth, and I'm confident you'll continue to excel in future projects.\n",
    "\n",
    "Keep up the outstanding work! ✨"
   ]
  },
  {
   "cell_type": "markdown",
   "id": "cad88b92-ce8e-4fe4-9bb3-6e5d32dae6c5",
   "metadata": {},
   "source": [
    "<div style=\"border:solid blue 2px; padding: 20px\">\n",
    "\n",
    "**Hello Chester,**\n",
    "\n",
    "Congratulations on submitting your second Python practical project! 🎉\n",
    "\n",
    "You’re making fantastic progress, and every project you complete brings you closer to mastering the skills needed to excel in data analysis. Your dedication and hard work are evident, and you should be proud of this achievement.\n",
    "\n",
    "Keep up the great momentum — let’s dive into this project together!\n",
    "\n",
    "---\n",
    "\n",
    "You’ll find specific notes inside the project file, marked in green, yellow, or red. Below is a quick guide to what each color represents. **Note:** Please do not remove or alter my comments, as they’ll help guide future reviews and make the process smoother for both of us.\n",
    "\n",
    "<div class=\"alert alert-success\"; style=\"border-left: 7px solid green\">\n",
    "<b>✅ Reviewer’s Comment</b>  \n",
    "\n",
    "These comments highlight efficient solutions and great ideas that you can apply to future projects.\n",
    "\n",
    "</div>  \n",
    "\n",
    "<div class=\"alert alert-warning\"; style=\"border-left: 7px solid gold\">\n",
    "<b>⚠️ Reviewer’s Comment</b>  \n",
    "\n",
    "These comments point out areas for optimization. While corrections are not mandatory, addressing them will enhance your project.\n",
    "\n",
    "</div>  \n",
    "\n",
    "<div class=\"alert alert-danger\"; style=\"border-left: 7px solid red\">\n",
    "<b>⛔️ Reviewer’s Comment</b>  \n",
    "\n",
    "These comments indicate issues that must be resolved before your project can be accepted.\n",
    "\n",
    "</div>  \n",
    "\n",
    "---\n",
    "\n",
    "**Project Review Summary:**\n",
    "\n",
    "**What Went Well:**\n",
    "\n",
    "* **Data Pre-Processing:** You demonstrated a solid understanding of Python by applying the necessary methods to pre-process the data effectively. Excellent work!\n",
    "\n",
    "* **Code Quality:** Your code is both efficient and easy to follow, showcasing not only your technical skills but also your ability to write clean, maintainable code.\n",
    "\n",
    "* **Data Visualization:** The charts you plotted effectively answered the questions posed in the analysis. They were well-designed, professionally formatted, and provided clear insights. Fantastic job!\n",
    "\n",
    "**Areas for Improvement:**\n",
    "\n",
    "* Marked directly in the notebook.\n",
    "\n",
    "---\n",
    "\n",
    "Feel free to add your own comments, explain the changes you’ve made, or ask questions using the example below. Simply copy and paste the code into a Markdown cell:\n",
    "\n",
    "```\n",
    "<div class=\"alert alert-info\"; style=\"border-left: 7px solid blue\">\n",
    "<b>Student’s Comment</b></div>\n",
    "```\n",
    "\n",
    "It will appear like this:\n",
    "\n",
    "<div class=\"alert alert-info\"; style=\"border-left: 7px solid blue\">\n",
    "<b>Student’s Comment</b></div>  \n",
    "\n",
    "---\n",
    "\n",
    "Revisions are a natural and essential part of the learning process, so don’t be discouraged! Take your time to review the feedback and make the necessary updates. Once you’re ready, resubmit the project — I’m confident you’ll excel on your next attempt.\n",
    "\n",
    "Remember, every challenge is an opportunity to grow. You’ve got this! 🏄\n",
    "\n"
   ]
  },
  {
   "cell_type": "code",
   "execution_count": 1,
   "id": "fbf1adab",
   "metadata": {
    "id": "fbf1adab"
   },
   "outputs": [],
   "source": [
    "import pandas as pd\n",
    "import matplotlib.pyplot as plt# Import the libraries you'll need for this analysis\n",
    "import pandas as pd\n",
    "import matplotlib.pyplot as plt"
   ]
  },
  {
   "cell_type": "code",
   "execution_count": 2,
   "id": "4920433e-f2bb-48b0-8c30-ec9132676c68",
   "metadata": {},
   "outputs": [],
   "source": [
    "orders         = pd.read_csv('/datasets/instacart_orders.csv', sep=';')\n",
    "products       = pd.read_csv('/datasets/products.csv', sep=';')\n",
    "departments    = pd.read_csv('/datasets/departments.csv', sep=';')\n",
    "aisles         = pd.read_csv('/datasets/aisles.csv', sep=';')\n",
    "order_products = pd.read_csv('/datasets/order_products.csv', sep=';')"
   ]
  },
  {
   "cell_type": "markdown",
   "id": "9a38987c-bf93-4219-b61a-d31781438c8e",
   "metadata": {
    "id": "9a38987c-bf93-4219-b61a-d31781438c8e"
   },
   "source": [
    "## Analyze your data"
   ]
  },
  {
   "cell_type": "markdown",
   "id": "04d4b1a9-a75f-4c89-a297-3a6002b0e53d",
   "metadata": {
    "id": "04d4b1a9-a75f-4c89-a297-3a6002b0e53d"
   },
   "source": [
    "In the cells below, display the datasets using `.info()` and `.head()` to gain insights into their structure and content.\n",
    "\n",
    "- `.info()`: Provides a concise summary of the dataset, including the data types, non-null counts, and memory usage.\n",
    "- `.head()`: Displays the first few rows of the dataset, offering a quick overview of the data values."
   ]
  },
  {
   "cell_type": "code",
   "execution_count": 3,
   "id": "10cc6096-d5ba-40b9-ba42-967e2fb7dec1",
   "metadata": {
    "id": "10cc6096-d5ba-40b9-ba42-967e2fb7dec1"
   },
   "outputs": [
    {
     "data": {
      "text/html": [
       "<div>\n",
       "<style scoped>\n",
       "    .dataframe tbody tr th:only-of-type {\n",
       "        vertical-align: middle;\n",
       "    }\n",
       "\n",
       "    .dataframe tbody tr th {\n",
       "        vertical-align: top;\n",
       "    }\n",
       "\n",
       "    .dataframe thead th {\n",
       "        text-align: right;\n",
       "    }\n",
       "</style>\n",
       "<table border=\"1\" class=\"dataframe\">\n",
       "  <thead>\n",
       "    <tr style=\"text-align: right;\">\n",
       "      <th></th>\n",
       "      <th>order_id</th>\n",
       "      <th>user_id</th>\n",
       "      <th>order_number</th>\n",
       "      <th>order_dow</th>\n",
       "      <th>order_hour_of_day</th>\n",
       "      <th>days_since_prior_order</th>\n",
       "    </tr>\n",
       "  </thead>\n",
       "  <tbody>\n",
       "    <tr>\n",
       "      <th>0</th>\n",
       "      <td>1515936</td>\n",
       "      <td>183418</td>\n",
       "      <td>11</td>\n",
       "      <td>6</td>\n",
       "      <td>13</td>\n",
       "      <td>30.0</td>\n",
       "    </tr>\n",
       "    <tr>\n",
       "      <th>1</th>\n",
       "      <td>1690866</td>\n",
       "      <td>163593</td>\n",
       "      <td>5</td>\n",
       "      <td>5</td>\n",
       "      <td>12</td>\n",
       "      <td>9.0</td>\n",
       "    </tr>\n",
       "    <tr>\n",
       "      <th>2</th>\n",
       "      <td>1454967</td>\n",
       "      <td>39980</td>\n",
       "      <td>4</td>\n",
       "      <td>5</td>\n",
       "      <td>19</td>\n",
       "      <td>2.0</td>\n",
       "    </tr>\n",
       "    <tr>\n",
       "      <th>3</th>\n",
       "      <td>1768857</td>\n",
       "      <td>82516</td>\n",
       "      <td>56</td>\n",
       "      <td>0</td>\n",
       "      <td>20</td>\n",
       "      <td>10.0</td>\n",
       "    </tr>\n",
       "    <tr>\n",
       "      <th>4</th>\n",
       "      <td>3007858</td>\n",
       "      <td>196724</td>\n",
       "      <td>2</td>\n",
       "      <td>4</td>\n",
       "      <td>12</td>\n",
       "      <td>17.0</td>\n",
       "    </tr>\n",
       "  </tbody>\n",
       "</table>\n",
       "</div>"
      ],
      "text/plain": [
       "   order_id  user_id  order_number  order_dow  order_hour_of_day  \\\n",
       "0   1515936   183418            11          6                 13   \n",
       "1   1690866   163593             5          5                 12   \n",
       "2   1454967    39980             4          5                 19   \n",
       "3   1768857    82516            56          0                 20   \n",
       "4   3007858   196724             2          4                 12   \n",
       "\n",
       "   days_since_prior_order  \n",
       "0                    30.0  \n",
       "1                     9.0  \n",
       "2                     2.0  \n",
       "3                    10.0  \n",
       "4                    17.0  "
      ]
     },
     "metadata": {},
     "output_type": "display_data"
    },
    {
     "data": {
      "text/plain": [
       "<bound method DataFrame.info of         order_id  user_id  order_number  order_dow  order_hour_of_day  \\\n",
       "0        1515936   183418            11          6                 13   \n",
       "1        1690866   163593             5          5                 12   \n",
       "2        1454967    39980             4          5                 19   \n",
       "3        1768857    82516            56          0                 20   \n",
       "4        3007858   196724             2          4                 12   \n",
       "...          ...      ...           ...        ...                ...   \n",
       "478962   3210681     5617             5          1                 14   \n",
       "478963   3270802   112087             2          3                 13   \n",
       "478964    885349    82944            16          2                 11   \n",
       "478965    216274     4391             3          3                  8   \n",
       "478966   2071924     1730            18          1                 14   \n",
       "\n",
       "        days_since_prior_order  \n",
       "0                         30.0  \n",
       "1                          9.0  \n",
       "2                          2.0  \n",
       "3                         10.0  \n",
       "4                         17.0  \n",
       "...                        ...  \n",
       "478962                     7.0  \n",
       "478963                     6.0  \n",
       "478964                     6.0  \n",
       "478965                     8.0  \n",
       "478966                    15.0  \n",
       "\n",
       "[478967 rows x 6 columns]>"
      ]
     },
     "execution_count": 3,
     "metadata": {},
     "output_type": "execute_result"
    }
   ],
   "source": [
    "\n",
    "display(orders.head())# In this cell, type \"orders\" below this line and execute the cell\n",
    "orders.info"
   ]
  },
  {
   "cell_type": "markdown",
   "id": "69417f35-4ebf-4b1e-a0c2-a913bca7999f",
   "metadata": {},
   "source": [
    "\n",
    "<div class=\"alert alert-warning\" style=\"border-left: 7px solid gold\">\n",
    "<b>⚠️ Reviewer’s Comment, v. 2</b>  \n",
    "\n",
    "Please remember to use parentheses after the `info()` method to ensure it runs correctly.  \n",
    "This small detail helps avoid unexpected issues when executing the code.\n",
    "</div>\n"
   ]
  },
  {
   "cell_type": "code",
   "execution_count": 4,
   "id": "5130e05e",
   "metadata": {
    "id": "5130e05e"
   },
   "outputs": [
    {
     "name": "stdout",
     "output_type": "stream",
     "text": [
      "   product_id                                       product_name  aisle_id  \\\n",
      "0           1                         Chocolate Sandwich Cookies        61   \n",
      "1           2                                   All-Seasons Salt       104   \n",
      "2           3               Robust Golden Unsweetened Oolong Tea        94   \n",
      "3           4  Smart Ones Classic Favorites Mini Rigatoni Wit...        38   \n",
      "4           5                          Green Chile Anytime Sauce         5   \n",
      "\n",
      "   department_id  \n",
      "0             19  \n",
      "1             13  \n",
      "2              7  \n",
      "3              1  \n",
      "4             13  \n",
      "<class 'pandas.core.frame.DataFrame'>\n",
      "RangeIndex: 49694 entries, 0 to 49693\n",
      "Data columns (total 4 columns):\n",
      " #   Column         Non-Null Count  Dtype \n",
      "---  ------         --------------  ----- \n",
      " 0   product_id     49694 non-null  int64 \n",
      " 1   product_name   48436 non-null  object\n",
      " 2   aisle_id       49694 non-null  int64 \n",
      " 3   department_id  49694 non-null  int64 \n",
      "dtypes: int64(3), object(1)\n",
      "memory usage: 1.5+ MB\n"
     ]
    }
   ],
   "source": [
    "print(products.head())# In this cell, type \"products\" below this line and execute the cell\n",
    "products.info()"
   ]
  },
  {
   "cell_type": "markdown",
   "id": "5143e30d-f791-4596-b1f2-3c64cf8d2243",
   "metadata": {
    "id": "5143e30d-f791-4596-b1f2-3c64cf8d2243"
   },
   "source": [
    "Repeat this process for each dataset to understand the structure, including the types of columns and rows they contain. Add additional code cells as needed for your analysis."
   ]
  },
  {
   "cell_type": "code",
   "execution_count": 5,
   "id": "d8370c05",
   "metadata": {
    "id": "d8370c05"
   },
   "outputs": [
    {
     "name": "stdout",
     "output_type": "stream",
     "text": [
      "<class 'pandas.core.frame.DataFrame'>\n",
      "RangeIndex: 478967 entries, 0 to 478966\n",
      "Data columns (total 6 columns):\n",
      " #   Column                  Non-Null Count   Dtype  \n",
      "---  ------                  --------------   -----  \n",
      " 0   order_id                478967 non-null  int64  \n",
      " 1   user_id                 478967 non-null  int64  \n",
      " 2   order_number            478967 non-null  int64  \n",
      " 3   order_dow               478967 non-null  int64  \n",
      " 4   order_hour_of_day       478967 non-null  int64  \n",
      " 5   days_since_prior_order  450148 non-null  float64\n",
      "dtypes: float64(1), int64(5)\n",
      "memory usage: 21.9 MB\n",
      "None\n"
     ]
    },
    {
     "data": {
      "text/html": [
       "<div>\n",
       "<style scoped>\n",
       "    .dataframe tbody tr th:only-of-type {\n",
       "        vertical-align: middle;\n",
       "    }\n",
       "\n",
       "    .dataframe tbody tr th {\n",
       "        vertical-align: top;\n",
       "    }\n",
       "\n",
       "    .dataframe thead th {\n",
       "        text-align: right;\n",
       "    }\n",
       "</style>\n",
       "<table border=\"1\" class=\"dataframe\">\n",
       "  <thead>\n",
       "    <tr style=\"text-align: right;\">\n",
       "      <th></th>\n",
       "      <th>order_id</th>\n",
       "      <th>user_id</th>\n",
       "      <th>order_number</th>\n",
       "      <th>order_dow</th>\n",
       "      <th>order_hour_of_day</th>\n",
       "      <th>days_since_prior_order</th>\n",
       "    </tr>\n",
       "  </thead>\n",
       "  <tbody>\n",
       "    <tr>\n",
       "      <th>0</th>\n",
       "      <td>1515936</td>\n",
       "      <td>183418</td>\n",
       "      <td>11</td>\n",
       "      <td>6</td>\n",
       "      <td>13</td>\n",
       "      <td>30.0</td>\n",
       "    </tr>\n",
       "    <tr>\n",
       "      <th>1</th>\n",
       "      <td>1690866</td>\n",
       "      <td>163593</td>\n",
       "      <td>5</td>\n",
       "      <td>5</td>\n",
       "      <td>12</td>\n",
       "      <td>9.0</td>\n",
       "    </tr>\n",
       "    <tr>\n",
       "      <th>2</th>\n",
       "      <td>1454967</td>\n",
       "      <td>39980</td>\n",
       "      <td>4</td>\n",
       "      <td>5</td>\n",
       "      <td>19</td>\n",
       "      <td>2.0</td>\n",
       "    </tr>\n",
       "    <tr>\n",
       "      <th>3</th>\n",
       "      <td>1768857</td>\n",
       "      <td>82516</td>\n",
       "      <td>56</td>\n",
       "      <td>0</td>\n",
       "      <td>20</td>\n",
       "      <td>10.0</td>\n",
       "    </tr>\n",
       "    <tr>\n",
       "      <th>4</th>\n",
       "      <td>3007858</td>\n",
       "      <td>196724</td>\n",
       "      <td>2</td>\n",
       "      <td>4</td>\n",
       "      <td>12</td>\n",
       "      <td>17.0</td>\n",
       "    </tr>\n",
       "  </tbody>\n",
       "</table>\n",
       "</div>"
      ],
      "text/plain": [
       "   order_id  user_id  order_number  order_dow  order_hour_of_day  \\\n",
       "0   1515936   183418            11          6                 13   \n",
       "1   1690866   163593             5          5                 12   \n",
       "2   1454967    39980             4          5                 19   \n",
       "3   1768857    82516            56          0                 20   \n",
       "4   3007858   196724             2          4                 12   \n",
       "\n",
       "   days_since_prior_order  \n",
       "0                    30.0  \n",
       "1                     9.0  \n",
       "2                     2.0  \n",
       "3                    10.0  \n",
       "4                    17.0  "
      ]
     },
     "execution_count": 5,
     "metadata": {},
     "output_type": "execute_result"
    }
   ],
   "source": [
    "print(orders.info())# In this cell, type \"orders.info() below this line and execute the cell\n",
    "orders.head()"
   ]
  },
  {
   "cell_type": "markdown",
   "id": "73bc6c88-e73f-4d53-b887-5ee6b5e6c570",
   "metadata": {
    "id": "73bc6c88-e73f-4d53-b887-5ee6b5e6c570"
   },
   "source": [
    "The \"Non-Null Count\" column provides information about any missing values in each column of the dataset. With a total of 478,952 entries, observe any columns where the non-null count is less than this number to identify missing values."
   ]
  },
  {
   "cell_type": "code",
   "execution_count": 6,
   "id": "59e2090f",
   "metadata": {
    "id": "59e2090f"
   },
   "outputs": [
    {
     "name": "stdout",
     "output_type": "stream",
     "text": [
      "<class 'pandas.core.frame.DataFrame'>\n",
      "RangeIndex: 4545007 entries, 0 to 4545006\n",
      "Data columns (total 4 columns):\n",
      " #   Column             Non-Null Count    Dtype  \n",
      "---  ------             --------------    -----  \n",
      " 0   order_id           4545007 non-null  int64  \n",
      " 1   product_id         4545007 non-null  int64  \n",
      " 2   add_to_cart_order  4544171 non-null  float64\n",
      " 3   reordered          4545007 non-null  int64  \n",
      "dtypes: float64(1), int64(3)\n",
      "memory usage: 138.7 MB\n",
      "None\n"
     ]
    }
   ],
   "source": [
    "print(order_products.info(show_counts= True)) # In this cell, run orders_products.info() below, but include the argument show_counts=True since this is a large file.\n"
   ]
  },
  {
   "cell_type": "markdown",
   "id": "3360e4ce-723c-45bd-8998-ca2f1db53349",
   "metadata": {
    "id": "3360e4ce-723c-45bd-8998-ca2f1db53349"
   },
   "source": [
    "Repeat the use of .info() on the remaining datasets to identify missing values and understand their structure. Check the \"Non-Null Count\" for each dataset to spot any columns with missing values."
   ]
  },
  {
   "cell_type": "markdown",
   "id": "e51319fe-edcc-44b3-bbab-6b78a5f5ca19",
   "metadata": {},
   "source": [
    "\n",
    "<div class=\"alert alert-warning\"; style=\"border-left: 7px solid gold\">  \n",
    "<b>⚠️ Reviewer’s comment, v. 1</b>  \n",
    "\n",
    "Please note that you need to use the `head()` and `info()` methods for each dataframe.\n",
    "\n"
   ]
  },
  {
   "cell_type": "markdown",
   "id": "1e46de76",
   "metadata": {
    "id": "1e46de76"
   },
   "source": [
    "## Find and Remove Missing Values\n",
    "\n",
    "We noticed that some columns contain missing values.\n",
    "\n",
    "Here are some useful code snippets:\n",
    "\n",
    "```python\n",
    "# Identify missing values in each column\n",
    "print(dataset.isnull().sum())\n",
    "\n",
    "# Display rows where a specific column has missing values\n",
    "print(dataset[dataset['column_name'].isna()])\n",
    "\n",
    "# Confirm no missing values remain\n",
    "print(dataset.isnull().sum())\n",
    "```"
   ]
  },
  {
   "cell_type": "markdown",
   "id": "c0aebd78",
   "metadata": {
    "id": "c0aebd78"
   },
   "source": [
    "### `products` Data Frame\n",
    "\n",
    "We will begin by addressing the missing values in the `products` data frame."
   ]
  },
  {
   "cell_type": "code",
   "execution_count": 7,
   "id": "fe4a8b0f",
   "metadata": {
    "id": "fe4a8b0f"
   },
   "outputs": [
    {
     "name": "stdout",
     "output_type": "stream",
     "text": [
      "       product_id product_name  aisle_id  department_id\n",
      "37             38          NaN       100             21\n",
      "71             72          NaN       100             21\n",
      "109           110          NaN       100             21\n",
      "296           297          NaN       100             21\n",
      "416           417          NaN       100             21\n",
      "...           ...          ...       ...            ...\n",
      "49552       49553          NaN       100             21\n",
      "49574       49575          NaN       100             21\n",
      "49640       49641          NaN       100             21\n",
      "49663       49664          NaN       100             21\n",
      "49668       49669          NaN       100             21\n",
      "\n",
      "[1258 rows x 4 columns]\n"
     ]
    }
   ],
   "source": [
    "print(products[products['product_name'].isna()])# Display rows where the product_name column has missing values\n"
   ]
  },
  {
   "cell_type": "markdown",
   "id": "b077fb59-f1f2-4390-a2bd-cdccadd5a747",
   "metadata": {
    "id": "b077fb59-f1f2-4390-a2bd-cdccadd5a747"
   },
   "source": [
    "It seems suspicious that all rows with missing `product_name` might be associated with `aisle_id` 100 and `department_id` 21. Let’s verify this by checking if any rows with missing `product_name` have an `aisle_id` different from 100 and 21. This will help us confirm if the issue is isolated to this aisle or spread across others."
   ]
  },
  {
   "cell_type": "code",
   "execution_count": 8,
   "id": "4e506d61-8d61-44d1-9005-b0bafe80cfb0",
   "metadata": {},
   "outputs": [
    {
     "data": {
      "text/html": [
       "<div>\n",
       "<style scoped>\n",
       "    .dataframe tbody tr th:only-of-type {\n",
       "        vertical-align: middle;\n",
       "    }\n",
       "\n",
       "    .dataframe tbody tr th {\n",
       "        vertical-align: top;\n",
       "    }\n",
       "\n",
       "    .dataframe thead th {\n",
       "        text-align: right;\n",
       "    }\n",
       "</style>\n",
       "<table border=\"1\" class=\"dataframe\">\n",
       "  <thead>\n",
       "    <tr style=\"text-align: right;\">\n",
       "      <th></th>\n",
       "      <th>product_id</th>\n",
       "      <th>product_name</th>\n",
       "      <th>aisle_id</th>\n",
       "      <th>department_id</th>\n",
       "    </tr>\n",
       "  </thead>\n",
       "  <tbody>\n",
       "  </tbody>\n",
       "</table>\n",
       "</div>"
      ],
      "text/plain": [
       "Empty DataFrame\n",
       "Columns: [product_id, product_name, aisle_id, department_id]\n",
       "Index: []"
      ]
     },
     "execution_count": 8,
     "metadata": {},
     "output_type": "execute_result"
    }
   ],
   "source": [
    "products[(products[\"product_name\"].isnull())& (products['department_id']!=21)]"
   ]
  },
  {
   "cell_type": "code",
   "execution_count": 9,
   "id": "85616c99-6594-4b61-b6c1-34ab8b9a186a",
   "metadata": {},
   "outputs": [
    {
     "data": {
      "text/html": [
       "<div>\n",
       "<style scoped>\n",
       "    .dataframe tbody tr th:only-of-type {\n",
       "        vertical-align: middle;\n",
       "    }\n",
       "\n",
       "    .dataframe tbody tr th {\n",
       "        vertical-align: top;\n",
       "    }\n",
       "\n",
       "    .dataframe thead th {\n",
       "        text-align: right;\n",
       "    }\n",
       "</style>\n",
       "<table border=\"1\" class=\"dataframe\">\n",
       "  <thead>\n",
       "    <tr style=\"text-align: right;\">\n",
       "      <th></th>\n",
       "      <th>product_id</th>\n",
       "      <th>product_name</th>\n",
       "      <th>aisle_id</th>\n",
       "      <th>department_id</th>\n",
       "    </tr>\n",
       "  </thead>\n",
       "  <tbody>\n",
       "  </tbody>\n",
       "</table>\n",
       "</div>"
      ],
      "text/plain": [
       "Empty DataFrame\n",
       "Columns: [product_id, product_name, aisle_id, department_id]\n",
       "Index: []"
      ]
     },
     "execution_count": 9,
     "metadata": {},
     "output_type": "execute_result"
    }
   ],
   "source": [
    "products[(products[\"product_name\"].isnull())& (products['aisle_id']!= 100)]"
   ]
  },
  {
   "attachments": {},
   "cell_type": "markdown",
   "id": "fc840f06-92cd-4681-9af3-0fd9b21551d3",
   "metadata": {},
   "source": [
    "<div class=\"alert alert-success\"; style=\"border-left: 7px solid green\">\n",
    "<b>✅ Reviewer’s Comment, v. 2</b>  \n",
    "\n",
    "✔️ Great job — you’ve correctly identified that there are missing values in `product_name`, and none of them are associated with any department other than `21` or any aisle other than `100`.\n",
    "\n",
    "\n",
    "\n",
    "\n",
    "<div class=\"alert alert-danger\"; style=\"border-left: 7px solid red\"> <b>⛔️ Reviewer’s comment, v. 1</b>\n",
    "You need to show the rows where the product name is null and the department is 21 (or department is not 21). The aim is to confirm that **all** the missing product names are attributed to department 21. </div>\n",
    "\n",
    "<div class=\"alert alert-danger\"; style=\"border-left: 7px solid red\">  \n",
    "<b>⛔️ Reviewer’s comment, v. 1</b>  \n",
    "\n",
    "Similarly here, you need to confirm that **all** missing product names are attributed to aisle 100.\n",
    "\n"
   ]
  },
  {
   "cell_type": "markdown",
   "id": "2c74c53f-a139-4d83-9be9-628fca74ce7c",
   "metadata": {
    "id": "2c74c53f-a139-4d83-9be9-628fca74ce7c"
   },
   "source": [
    "To better understand the missing product_name values, let’s determine what department_id 21 and aisle_id 100 represent by referencing the departments and aisles tables."
   ]
  },
  {
   "cell_type": "code",
   "execution_count": 10,
   "id": "76f8bf86-f0ae-49cb-84c1-20c1fc45a583",
   "metadata": {
    "id": "8fd0a541"
   },
   "outputs": [
    {
     "data": {
      "text/plain": [
       "20    missing\n",
       "Name: department, dtype: object"
      ]
     },
     "execution_count": 10,
     "metadata": {},
     "output_type": "execute_result"
    }
   ],
   "source": [
    "departments[departments[\"department_id\"]== 21][\"department\"]# Combine conditions to check for missing product names in aisles other than 21\n"
   ]
  },
  {
   "cell_type": "code",
   "execution_count": 11,
   "id": "e96167bc",
   "metadata": {
    "id": "e96167bc"
   },
   "outputs": [
    {
     "data": {
      "text/plain": [
       "99    missing\n",
       "Name: aisle, dtype: object"
      ]
     },
     "execution_count": 11,
     "metadata": {},
     "output_type": "execute_result"
    }
   ],
   "source": [
    "aisles[aisles[\"aisle_id\"]== 100][\"aisle\"]# Combine conditions to check for missing product names in aisles other than 100\n"
   ]
  },
  {
   "cell_type": "markdown",
   "id": "1812cafa-f6c4-4322-8bf3-1616ad7648ad",
   "metadata": {},
   "source": [
    "<div class=\"alert alert-success\"; style=\"border-left: 7px solid green\">\n",
    "<b>✅ Reviewer's comment, v. 2</b> \n",
    "    \n",
    "✔️ \n",
    "    \n",
    "\n",
    "\n",
    "<div class=\"alert alert-danger\"; style=\"border-left: 7px solid red\">  \n",
    "<b>⛔️ Reviewer’s comment, v. 1</b>  \n",
    "\n",
    "And now you need to show the name of aisle 100 and department 21.\n",
    "\n"
   ]
  },
  {
   "cell_type": "code",
   "execution_count": 12,
   "id": "ef4c06c3-ba8f-4b2d-951d-20ad92eddfd8",
   "metadata": {},
   "outputs": [
    {
     "data": {
      "text/html": [
       "<div>\n",
       "<style scoped>\n",
       "    .dataframe tbody tr th:only-of-type {\n",
       "        vertical-align: middle;\n",
       "    }\n",
       "\n",
       "    .dataframe tbody tr th {\n",
       "        vertical-align: top;\n",
       "    }\n",
       "\n",
       "    .dataframe thead th {\n",
       "        text-align: right;\n",
       "    }\n",
       "</style>\n",
       "<table border=\"1\" class=\"dataframe\">\n",
       "  <thead>\n",
       "    <tr style=\"text-align: right;\">\n",
       "      <th></th>\n",
       "      <th>product_id</th>\n",
       "      <th>product_name</th>\n",
       "      <th>aisle_id</th>\n",
       "      <th>department_id</th>\n",
       "      <th>aisle</th>\n",
       "    </tr>\n",
       "  </thead>\n",
       "  <tbody>\n",
       "    <tr>\n",
       "      <th>16958</th>\n",
       "      <td>38</td>\n",
       "      <td>NaN</td>\n",
       "      <td>100</td>\n",
       "      <td>21</td>\n",
       "      <td>missing</td>\n",
       "    </tr>\n",
       "    <tr>\n",
       "      <th>16959</th>\n",
       "      <td>72</td>\n",
       "      <td>NaN</td>\n",
       "      <td>100</td>\n",
       "      <td>21</td>\n",
       "      <td>missing</td>\n",
       "    </tr>\n",
       "    <tr>\n",
       "      <th>16960</th>\n",
       "      <td>110</td>\n",
       "      <td>NaN</td>\n",
       "      <td>100</td>\n",
       "      <td>21</td>\n",
       "      <td>missing</td>\n",
       "    </tr>\n",
       "    <tr>\n",
       "      <th>16961</th>\n",
       "      <td>297</td>\n",
       "      <td>NaN</td>\n",
       "      <td>100</td>\n",
       "      <td>21</td>\n",
       "      <td>missing</td>\n",
       "    </tr>\n",
       "    <tr>\n",
       "      <th>16962</th>\n",
       "      <td>417</td>\n",
       "      <td>NaN</td>\n",
       "      <td>100</td>\n",
       "      <td>21</td>\n",
       "      <td>missing</td>\n",
       "    </tr>\n",
       "    <tr>\n",
       "      <th>...</th>\n",
       "      <td>...</td>\n",
       "      <td>...</td>\n",
       "      <td>...</td>\n",
       "      <td>...</td>\n",
       "      <td>...</td>\n",
       "    </tr>\n",
       "    <tr>\n",
       "      <th>18211</th>\n",
       "      <td>49553</td>\n",
       "      <td>NaN</td>\n",
       "      <td>100</td>\n",
       "      <td>21</td>\n",
       "      <td>missing</td>\n",
       "    </tr>\n",
       "    <tr>\n",
       "      <th>18212</th>\n",
       "      <td>49575</td>\n",
       "      <td>NaN</td>\n",
       "      <td>100</td>\n",
       "      <td>21</td>\n",
       "      <td>missing</td>\n",
       "    </tr>\n",
       "    <tr>\n",
       "      <th>18213</th>\n",
       "      <td>49641</td>\n",
       "      <td>NaN</td>\n",
       "      <td>100</td>\n",
       "      <td>21</td>\n",
       "      <td>missing</td>\n",
       "    </tr>\n",
       "    <tr>\n",
       "      <th>18214</th>\n",
       "      <td>49664</td>\n",
       "      <td>NaN</td>\n",
       "      <td>100</td>\n",
       "      <td>21</td>\n",
       "      <td>missing</td>\n",
       "    </tr>\n",
       "    <tr>\n",
       "      <th>18215</th>\n",
       "      <td>49669</td>\n",
       "      <td>NaN</td>\n",
       "      <td>100</td>\n",
       "      <td>21</td>\n",
       "      <td>missing</td>\n",
       "    </tr>\n",
       "  </tbody>\n",
       "</table>\n",
       "<p>1258 rows × 5 columns</p>\n",
       "</div>"
      ],
      "text/plain": [
       "       product_id product_name  aisle_id  department_id    aisle\n",
       "16958          38          NaN       100             21  missing\n",
       "16959          72          NaN       100             21  missing\n",
       "16960         110          NaN       100             21  missing\n",
       "16961         297          NaN       100             21  missing\n",
       "16962         417          NaN       100             21  missing\n",
       "...           ...          ...       ...            ...      ...\n",
       "18211       49553          NaN       100             21  missing\n",
       "18212       49575          NaN       100             21  missing\n",
       "18213       49641          NaN       100             21  missing\n",
       "18214       49664          NaN       100             21  missing\n",
       "18215       49669          NaN       100             21  missing\n",
       "\n",
       "[1258 rows x 5 columns]"
      ]
     },
     "execution_count": 12,
     "metadata": {},
     "output_type": "execute_result"
    }
   ],
   "source": [
    "products_aisle = products.merge(aisles, how = 'outer',on = 'aisle_id')\n",
    "products_aisle.loc[products_aisle['aisle_id']==100]"
   ]
  },
  {
   "cell_type": "code",
   "execution_count": 13,
   "id": "424d516f-50ab-47b2-8b02-a35960438583",
   "metadata": {
    "id": "325c3464"
   },
   "outputs": [
    {
     "data": {
      "text/html": [
       "<div>\n",
       "<style scoped>\n",
       "    .dataframe tbody tr th:only-of-type {\n",
       "        vertical-align: middle;\n",
       "    }\n",
       "\n",
       "    .dataframe tbody tr th {\n",
       "        vertical-align: top;\n",
       "    }\n",
       "\n",
       "    .dataframe thead th {\n",
       "        text-align: right;\n",
       "    }\n",
       "</style>\n",
       "<table border=\"1\" class=\"dataframe\">\n",
       "  <thead>\n",
       "    <tr style=\"text-align: right;\">\n",
       "      <th></th>\n",
       "      <th>product_id</th>\n",
       "      <th>product_name</th>\n",
       "      <th>aisle_id</th>\n",
       "      <th>department_id</th>\n",
       "      <th>aisle</th>\n",
       "      <th>department</th>\n",
       "    </tr>\n",
       "  </thead>\n",
       "  <tbody>\n",
       "    <tr>\n",
       "      <th>42819</th>\n",
       "      <td>38</td>\n",
       "      <td>NaN</td>\n",
       "      <td>100</td>\n",
       "      <td>21</td>\n",
       "      <td>missing</td>\n",
       "      <td>missing</td>\n",
       "    </tr>\n",
       "    <tr>\n",
       "      <th>42820</th>\n",
       "      <td>72</td>\n",
       "      <td>NaN</td>\n",
       "      <td>100</td>\n",
       "      <td>21</td>\n",
       "      <td>missing</td>\n",
       "      <td>missing</td>\n",
       "    </tr>\n",
       "    <tr>\n",
       "      <th>42821</th>\n",
       "      <td>110</td>\n",
       "      <td>NaN</td>\n",
       "      <td>100</td>\n",
       "      <td>21</td>\n",
       "      <td>missing</td>\n",
       "      <td>missing</td>\n",
       "    </tr>\n",
       "    <tr>\n",
       "      <th>42822</th>\n",
       "      <td>297</td>\n",
       "      <td>NaN</td>\n",
       "      <td>100</td>\n",
       "      <td>21</td>\n",
       "      <td>missing</td>\n",
       "      <td>missing</td>\n",
       "    </tr>\n",
       "    <tr>\n",
       "      <th>42823</th>\n",
       "      <td>417</td>\n",
       "      <td>NaN</td>\n",
       "      <td>100</td>\n",
       "      <td>21</td>\n",
       "      <td>missing</td>\n",
       "      <td>missing</td>\n",
       "    </tr>\n",
       "    <tr>\n",
       "      <th>...</th>\n",
       "      <td>...</td>\n",
       "      <td>...</td>\n",
       "      <td>...</td>\n",
       "      <td>...</td>\n",
       "      <td>...</td>\n",
       "      <td>...</td>\n",
       "    </tr>\n",
       "    <tr>\n",
       "      <th>44072</th>\n",
       "      <td>49553</td>\n",
       "      <td>NaN</td>\n",
       "      <td>100</td>\n",
       "      <td>21</td>\n",
       "      <td>missing</td>\n",
       "      <td>missing</td>\n",
       "    </tr>\n",
       "    <tr>\n",
       "      <th>44073</th>\n",
       "      <td>49575</td>\n",
       "      <td>NaN</td>\n",
       "      <td>100</td>\n",
       "      <td>21</td>\n",
       "      <td>missing</td>\n",
       "      <td>missing</td>\n",
       "    </tr>\n",
       "    <tr>\n",
       "      <th>44074</th>\n",
       "      <td>49641</td>\n",
       "      <td>NaN</td>\n",
       "      <td>100</td>\n",
       "      <td>21</td>\n",
       "      <td>missing</td>\n",
       "      <td>missing</td>\n",
       "    </tr>\n",
       "    <tr>\n",
       "      <th>44075</th>\n",
       "      <td>49664</td>\n",
       "      <td>NaN</td>\n",
       "      <td>100</td>\n",
       "      <td>21</td>\n",
       "      <td>missing</td>\n",
       "      <td>missing</td>\n",
       "    </tr>\n",
       "    <tr>\n",
       "      <th>44076</th>\n",
       "      <td>49669</td>\n",
       "      <td>NaN</td>\n",
       "      <td>100</td>\n",
       "      <td>21</td>\n",
       "      <td>missing</td>\n",
       "      <td>missing</td>\n",
       "    </tr>\n",
       "  </tbody>\n",
       "</table>\n",
       "<p>1258 rows × 6 columns</p>\n",
       "</div>"
      ],
      "text/plain": [
       "       product_id product_name  aisle_id  department_id    aisle department\n",
       "42819          38          NaN       100             21  missing    missing\n",
       "42820          72          NaN       100             21  missing    missing\n",
       "42821         110          NaN       100             21  missing    missing\n",
       "42822         297          NaN       100             21  missing    missing\n",
       "42823         417          NaN       100             21  missing    missing\n",
       "...           ...          ...       ...            ...      ...        ...\n",
       "44072       49553          NaN       100             21  missing    missing\n",
       "44073       49575          NaN       100             21  missing    missing\n",
       "44074       49641          NaN       100             21  missing    missing\n",
       "44075       49664          NaN       100             21  missing    missing\n",
       "44076       49669          NaN       100             21  missing    missing\n",
       "\n",
       "[1258 rows x 6 columns]"
      ]
     },
     "execution_count": 13,
     "metadata": {},
     "output_type": "execute_result"
    }
   ],
   "source": [
    "products_department = products_aisle.merge(departments, how = 'outer',on = 'department_id')\n",
    "products_department.loc[products_department['department_id']==21]\n"
   ]
  },
  {
   "cell_type": "code",
   "execution_count": 14,
   "id": "6b295120",
   "metadata": {
    "id": "6b295120"
   },
   "outputs": [
    {
     "data": {
      "text/html": [
       "<div>\n",
       "<style scoped>\n",
       "    .dataframe tbody tr th:only-of-type {\n",
       "        vertical-align: middle;\n",
       "    }\n",
       "\n",
       "    .dataframe tbody tr th {\n",
       "        vertical-align: top;\n",
       "    }\n",
       "\n",
       "    .dataframe thead th {\n",
       "        text-align: right;\n",
       "    }\n",
       "</style>\n",
       "<table border=\"1\" class=\"dataframe\">\n",
       "  <thead>\n",
       "    <tr style=\"text-align: right;\">\n",
       "      <th></th>\n",
       "      <th>product_id</th>\n",
       "      <th>product_name</th>\n",
       "      <th>aisle_id</th>\n",
       "      <th>department_id</th>\n",
       "    </tr>\n",
       "  </thead>\n",
       "  <tbody>\n",
       "    <tr>\n",
       "      <th>0</th>\n",
       "      <td>1</td>\n",
       "      <td>Chocolate Sandwich Cookies</td>\n",
       "      <td>61</td>\n",
       "      <td>19</td>\n",
       "    </tr>\n",
       "    <tr>\n",
       "      <th>1</th>\n",
       "      <td>2</td>\n",
       "      <td>All-Seasons Salt</td>\n",
       "      <td>104</td>\n",
       "      <td>13</td>\n",
       "    </tr>\n",
       "    <tr>\n",
       "      <th>2</th>\n",
       "      <td>3</td>\n",
       "      <td>Robust Golden Unsweetened Oolong Tea</td>\n",
       "      <td>94</td>\n",
       "      <td>7</td>\n",
       "    </tr>\n",
       "    <tr>\n",
       "      <th>3</th>\n",
       "      <td>4</td>\n",
       "      <td>Smart Ones Classic Favorites Mini Rigatoni Wit...</td>\n",
       "      <td>38</td>\n",
       "      <td>1</td>\n",
       "    </tr>\n",
       "    <tr>\n",
       "      <th>4</th>\n",
       "      <td>5</td>\n",
       "      <td>Green Chile Anytime Sauce</td>\n",
       "      <td>5</td>\n",
       "      <td>13</td>\n",
       "    </tr>\n",
       "    <tr>\n",
       "      <th>...</th>\n",
       "      <td>...</td>\n",
       "      <td>...</td>\n",
       "      <td>...</td>\n",
       "      <td>...</td>\n",
       "    </tr>\n",
       "    <tr>\n",
       "      <th>49689</th>\n",
       "      <td>49690</td>\n",
       "      <td>HIGH PERFORMANCE ENERGY DRINK</td>\n",
       "      <td>64</td>\n",
       "      <td>7</td>\n",
       "    </tr>\n",
       "    <tr>\n",
       "      <th>49690</th>\n",
       "      <td>49691</td>\n",
       "      <td>ORIGINAL PANCAKE &amp; WAFFLE MIX</td>\n",
       "      <td>130</td>\n",
       "      <td>14</td>\n",
       "    </tr>\n",
       "    <tr>\n",
       "      <th>49691</th>\n",
       "      <td>49692</td>\n",
       "      <td>ORGANIC INSTANT OATMEAL LIGHT MAPLE BROWN SUGAR</td>\n",
       "      <td>130</td>\n",
       "      <td>14</td>\n",
       "    </tr>\n",
       "    <tr>\n",
       "      <th>49692</th>\n",
       "      <td>49693</td>\n",
       "      <td>SPRING WATER BODY WASH</td>\n",
       "      <td>127</td>\n",
       "      <td>11</td>\n",
       "    </tr>\n",
       "    <tr>\n",
       "      <th>49693</th>\n",
       "      <td>49694</td>\n",
       "      <td>BURRITO- STEAK &amp; CHEESE</td>\n",
       "      <td>38</td>\n",
       "      <td>1</td>\n",
       "    </tr>\n",
       "  </tbody>\n",
       "</table>\n",
       "<p>49694 rows × 4 columns</p>\n",
       "</div>"
      ],
      "text/plain": [
       "       product_id                                       product_name  \\\n",
       "0               1                         Chocolate Sandwich Cookies   \n",
       "1               2                                   All-Seasons Salt   \n",
       "2               3               Robust Golden Unsweetened Oolong Tea   \n",
       "3               4  Smart Ones Classic Favorites Mini Rigatoni Wit...   \n",
       "4               5                          Green Chile Anytime Sauce   \n",
       "...           ...                                                ...   \n",
       "49689       49690                      HIGH PERFORMANCE ENERGY DRINK   \n",
       "49690       49691                      ORIGINAL PANCAKE & WAFFLE MIX   \n",
       "49691       49692    ORGANIC INSTANT OATMEAL LIGHT MAPLE BROWN SUGAR   \n",
       "49692       49693                             SPRING WATER BODY WASH   \n",
       "49693       49694                            BURRITO- STEAK & CHEESE   \n",
       "\n",
       "       aisle_id  department_id  \n",
       "0            61             19  \n",
       "1           104             13  \n",
       "2            94              7  \n",
       "3            38              1  \n",
       "4             5             13  \n",
       "...         ...            ...  \n",
       "49689        64              7  \n",
       "49690       130             14  \n",
       "49691       130             14  \n",
       "49692       127             11  \n",
       "49693        38              1  \n",
       "\n",
       "[49694 rows x 4 columns]"
      ]
     },
     "execution_count": 14,
     "metadata": {},
     "output_type": "execute_result"
    }
   ],
   "source": [
    "products.fillna({'product_name': 'Unknown'})# Fill missing product names with 'Unknown'\n"
   ]
  },
  {
   "cell_type": "markdown",
   "id": "7eb45c86",
   "metadata": {
    "id": "7eb45c86"
   },
   "source": [
    "### `orders` data frame\n",
    "\n",
    "Now let's fill in missing values from the `orders` table."
   ]
  },
  {
   "cell_type": "code",
   "execution_count": 15,
   "id": "93e41d96",
   "metadata": {
    "id": "93e41d96",
    "scrolled": true
   },
   "outputs": [
    {
     "name": "stdout",
     "output_type": "stream",
     "text": [
      "        order_id  user_id  order_number  order_dow  order_hour_of_day  \\\n",
      "28        133707   182261             1          3                 10   \n",
      "96        787445    25685             1          6                 18   \n",
      "100       294410   111449             1          0                 19   \n",
      "103      2869915   123958             1          4                 16   \n",
      "104      2521921    42286             1          3                 18   \n",
      "...          ...      ...           ...        ...                ...   \n",
      "478895   2589657   205028             1          0                 16   \n",
      "478896   2222353   141211             1          2                 13   \n",
      "478922   2272807   204154             1          1                 15   \n",
      "478926   2499542    68810             1          4                 19   \n",
      "478945   1387033    22496             1          5                 14   \n",
      "\n",
      "        days_since_prior_order  \n",
      "28                         NaN  \n",
      "96                         NaN  \n",
      "100                        NaN  \n",
      "103                        NaN  \n",
      "104                        NaN  \n",
      "...                        ...  \n",
      "478895                     NaN  \n",
      "478896                     NaN  \n",
      "478922                     NaN  \n",
      "478926                     NaN  \n",
      "478945                     NaN  \n",
      "\n",
      "[28819 rows x 6 columns]\n"
     ]
    }
   ],
   "source": [
    "print(orders[orders['days_since_prior_order'].isna()])# Display rows where the days_since_prior_order column has missing values\n"
   ]
  },
  {
   "cell_type": "code",
   "execution_count": 16,
   "id": "166e5a86",
   "metadata": {
    "id": "166e5a86"
   },
   "outputs": [
    {
     "data": {
      "text/html": [
       "<div>\n",
       "<style scoped>\n",
       "    .dataframe tbody tr th:only-of-type {\n",
       "        vertical-align: middle;\n",
       "    }\n",
       "\n",
       "    .dataframe tbody tr th {\n",
       "        vertical-align: top;\n",
       "    }\n",
       "\n",
       "    .dataframe thead th {\n",
       "        text-align: right;\n",
       "    }\n",
       "</style>\n",
       "<table border=\"1\" class=\"dataframe\">\n",
       "  <thead>\n",
       "    <tr style=\"text-align: right;\">\n",
       "      <th></th>\n",
       "      <th>order_id</th>\n",
       "      <th>user_id</th>\n",
       "      <th>order_number</th>\n",
       "      <th>order_dow</th>\n",
       "      <th>order_hour_of_day</th>\n",
       "      <th>days_since_prior_order</th>\n",
       "    </tr>\n",
       "  </thead>\n",
       "  <tbody>\n",
       "  </tbody>\n",
       "</table>\n",
       "</div>"
      ],
      "text/plain": [
       "Empty DataFrame\n",
       "Columns: [order_id, user_id, order_number, order_dow, order_hour_of_day, days_since_prior_order]\n",
       "Index: []"
      ]
     },
     "execution_count": 16,
     "metadata": {},
     "output_type": "execute_result"
    }
   ],
   "source": [
    "orders[(orders['days_since_prior_order'].isnull()) & (orders['order_number'] >1)]\n",
    "\n",
    "# Are there any missing values where it's not a customer's first order?\n"
   ]
  },
  {
   "cell_type": "markdown",
   "id": "5ceef716-b791-493f-b7e4-edfa02d90c94",
   "metadata": {},
   "source": [
    "<div class=\"alert alert-success\"; style=\"border-left: 7px solid green\">\n",
    "<b>✅ Reviewer's comment, v. 2</b> \n",
    "    \n",
    "✔️ \n",
    "    \n",
    "\n",
    "\n",
    "<div class=\"alert alert-danger\"; style=\"border-left: 7px solid red\">  \n",
    "<b>⛔️ Reviewer’s comment, v. 1</b>  \n",
    "\n",
    "You cannot be sure that there are no `True` values in the 470K+ rows that are not visible. Please try to display the rows where `days_since_prior_order` is `null` while the `order_number` is not 1. Show the actual rows, not just `True`/`False` values.\n",
    "\n"
   ]
  },
  {
   "cell_type": "markdown",
   "id": "4e23d089",
   "metadata": {
    "id": "4e23d089"
   },
   "source": [
    "All of the missing `'days_since_prior_order'` values correspond to a customer's first ever order. This makes sense because there is no prior order! We'll leave the values as `NaN` so the column can remain numeric. Also, the `NaN` values shouldn't interfere with any calculations we might do using this column."
   ]
  },
  {
   "cell_type": "markdown",
   "id": "69dc9ca4",
   "metadata": {
    "id": "69dc9ca4"
   },
   "source": [
    "### `order_products` data frame\n",
    "\n",
    "Now let's fill in missing values from the order_products table."
   ]
  },
  {
   "cell_type": "code",
   "execution_count": 17,
   "id": "b8240253",
   "metadata": {
    "id": "b8240253"
   },
   "outputs": [
    {
     "name": "stdout",
     "output_type": "stream",
     "text": [
      "         order_id  product_id  add_to_cart_order  reordered\n",
      "737       2449164        5068                NaN          0\n",
      "9926      1968313       43867                NaN          0\n",
      "14394     2926893       11688                NaN          0\n",
      "16418     1717990        4142                NaN          0\n",
      "30114     1959075       42828                NaN          1\n",
      "...           ...         ...                ...        ...\n",
      "4505662   1800005        7411                NaN          0\n",
      "4511400   1633337         260                NaN          0\n",
      "4517562    404157        9517                NaN          0\n",
      "4534112   1673227       17835                NaN          0\n",
      "4535739   1832957       17949                NaN          1\n",
      "\n",
      "[836 rows x 4 columns]\n"
     ]
    }
   ],
   "source": [
    "print(order_products[order_products['add_to_cart_order'].isna()])# Display rows where the add_to_cart_order column has missing values\n"
   ]
  },
  {
   "cell_type": "code",
   "execution_count": 18,
   "id": "ab9d0c2b",
   "metadata": {
    "id": "ab9d0c2b"
   },
   "outputs": [
    {
     "name": "stdout",
     "output_type": "stream",
     "text": [
      "[2449164 1968313 2926893 1717990 1959075  844733   61355  936852  264710\n",
      " 1564093  129627  293169 2849370 1386261 3308010  903110 2136777 3347453\n",
      " 1888628  165801 2094761 1038146 2997021  813364 2256933  171934 2409109\n",
      " 1730767 1169835  733526  404157 3125735  747668 1800005 1961723  871281\n",
      "  388234 1648217 1477139  102236 1021563 1832957 2721963  678116 1220886\n",
      " 1673227 2999801 1633337 2470674 2625444 1677118 2479011 3383594 1183255\n",
      " 1713430 2652650 1598369 1916118  854647 1302315  888470  180546 2621907\n",
      " 1308785 2729254    9310 2170451 2979697 1625713 1529171]\n"
     ]
    }
   ],
   "source": [
    "\n",
    "missing_add_to_cart = order_products[order_products['add_to_cart_order'].isna()]\n",
    "order_id_with_missing = missing_add_to_cart['order_id'].unique()\n",
    "print(order_id_with_missing)# Save all order IDs with at least one missing value in 'add_to_cart_order'\n"
   ]
  },
  {
   "cell_type": "code",
   "execution_count": 19,
   "id": "54c31695",
   "metadata": {
    "id": "54c31695",
    "scrolled": true
   },
   "outputs": [
    {
     "data": {
      "text/plain": [
       "order_id\n",
       "9310        65\n",
       "747668      65\n",
       "1598369     65\n",
       "1677118     65\n",
       "2170451     65\n",
       "          ... \n",
       "1959075     98\n",
       "171934     104\n",
       "2136777    108\n",
       "3308010    115\n",
       "61355      127\n",
       "Length: 70, dtype: int64"
      ]
     },
     "execution_count": 19,
     "metadata": {},
     "output_type": "execute_result"
    }
   ],
   "source": [
    "# Do all orders with missing values have more than 64 products?\n",
    "\n",
    "order_products[order_products['order_id'].isin(order_id_with_missing)].groupby('order_id').size().sort_values()"
   ]
  },
  {
   "cell_type": "markdown",
   "id": "47fe3122-e119-4730-a8cd-fc34a736f3ae",
   "metadata": {},
   "source": [
    "YES,  all orders with missing values have more than 64 products?"
   ]
  },
  {
   "cell_type": "markdown",
   "id": "02297d35-c0ce-4297-b710-30454bde32ab",
   "metadata": {},
   "source": [
    "<div class=\"alert alert-success\"; style=\"border-left: 7px solid green\">  \n",
    "<b>✅ Reviewer’s comment, v. 1</b>  \n",
    "\n",
    "Yes, your check confirms that all the orders with missing values have at least 65 items in them.\n",
    "\n"
   ]
  },
  {
   "cell_type": "code",
   "execution_count": 20,
   "id": "7a987d08",
   "metadata": {
    "id": "7a987d08"
   },
   "outputs": [],
   "source": [
    "order_products['add_to_cart_order']=order_products['add_to_cart_order'].fillna(999).astype('int')# Replace missing values with 999 and convert column to integer type\n"
   ]
  },
  {
   "cell_type": "markdown",
   "id": "fea4bcc7",
   "metadata": {
    "id": "fea4bcc7"
   },
   "source": [
    "For some reason, any item placed in the cart 65th or later has a missing value in the `'add_to_cart_order'` column. Maybe the data type of that column in the database could only hold integer values from 1 to 64. We've decided to replace the missing values with a code value, 999, that represents an unknown placed in cart order above 64. We also converted the column to integer data type. We just need to be careful to remember this if we perform calculations using this column during our analysis.\n",
    "\n",
    "Other sensible code values we could've used are 0 or -1 because they don't show up elsewhere in the dataset and they don't have any real physical meaning for this variable.\n",
    "\n",
    "Also note that, for orders with exactly 65 items, we could replace the missing value with 65. But we're going to neglect that for now since we can't determine the 65th item for all orders with 66 items or more."
   ]
  },
  {
   "cell_type": "markdown",
   "id": "07357848-dc64-4156-9cc3-01ff4365226d",
   "metadata": {
    "id": "07357848-dc64-4156-9cc3-01ff4365226d"
   },
   "source": [
    "## Find and Remove Duplicate Values from All the Datasets\n",
    "\n",
    "Each dataset may contain duplicate rows, which can lead to redundancy and affect the accuracy of our analysis. To handle this:\n",
    "\n",
    "1. Use the `.duplicated()` method to identify duplicate rows. This method returns a Boolean series where `True` indicates a duplicate row.\n",
    "2. Apply the `.drop_duplicates()` method to remove these duplicate rows, ensuring a cleaner dataset.\n",
    "3. Optionally, you can set the `keep` parameter in `.drop_duplicates()` to specify which duplicate to retain (`'first'` or `'last'`).\n",
    "\n",
    "Here is some example code for reference:\n",
    "```python\n",
    "# Check for duplicates\n",
    "print(dataset.duplicated().sum())  # Number of duplicate rows\n",
    "\n",
    "# View duplicate rows\n",
    "print(dataset[dataset.duplicated()]\n",
    "\n",
    "# Remove duplicates\n",
    "dataset = dataset.drop_duplicates().reset_index(drop=True)\n",
    "\n",
    "# Confirm removal\n",
    "print(dataset.duplicated().sum())  # Should return 0\n",
    "```\n",
    "\n",
    "Repeat this process for all datasets to ensure they are free of duplicate rows."
   ]
  },
  {
   "cell_type": "markdown",
   "id": "f179f0a9",
   "metadata": {
    "id": "f179f0a9"
   },
   "source": [
    "### `orders` data frame"
   ]
  },
  {
   "cell_type": "code",
   "execution_count": 21,
   "id": "bb1a8c31-0a95-487a-98fc-c040228245f6",
   "metadata": {
    "id": "bb1a8c31-0a95-487a-98fc-c040228245f6"
   },
   "outputs": [
    {
     "name": "stdout",
     "output_type": "stream",
     "text": [
      "15\n"
     ]
    }
   ],
   "source": [
    "print(orders.duplicated().sum())# Find the number of duplicate rows in the orders dataframe\n"
   ]
  },
  {
   "cell_type": "code",
   "execution_count": 22,
   "id": "b99297a5-405a-463d-8535-9adc3da4ad74",
   "metadata": {
    "id": "b99297a5-405a-463d-8535-9adc3da4ad74"
   },
   "outputs": [
    {
     "data": {
      "text/html": [
       "<div>\n",
       "<style scoped>\n",
       "    .dataframe tbody tr th:only-of-type {\n",
       "        vertical-align: middle;\n",
       "    }\n",
       "\n",
       "    .dataframe tbody tr th {\n",
       "        vertical-align: top;\n",
       "    }\n",
       "\n",
       "    .dataframe thead th {\n",
       "        text-align: right;\n",
       "    }\n",
       "</style>\n",
       "<table border=\"1\" class=\"dataframe\">\n",
       "  <thead>\n",
       "    <tr style=\"text-align: right;\">\n",
       "      <th></th>\n",
       "      <th>order_id</th>\n",
       "      <th>user_id</th>\n",
       "      <th>order_number</th>\n",
       "      <th>order_dow</th>\n",
       "      <th>order_hour_of_day</th>\n",
       "      <th>days_since_prior_order</th>\n",
       "    </tr>\n",
       "  </thead>\n",
       "  <tbody>\n",
       "    <tr>\n",
       "      <th>145574</th>\n",
       "      <td>794638</td>\n",
       "      <td>50898</td>\n",
       "      <td>24</td>\n",
       "      <td>3</td>\n",
       "      <td>2</td>\n",
       "      <td>2.0</td>\n",
       "    </tr>\n",
       "    <tr>\n",
       "      <th>223105</th>\n",
       "      <td>2160484</td>\n",
       "      <td>107525</td>\n",
       "      <td>16</td>\n",
       "      <td>3</td>\n",
       "      <td>2</td>\n",
       "      <td>30.0</td>\n",
       "    </tr>\n",
       "    <tr>\n",
       "      <th>230807</th>\n",
       "      <td>1918001</td>\n",
       "      <td>188546</td>\n",
       "      <td>14</td>\n",
       "      <td>3</td>\n",
       "      <td>2</td>\n",
       "      <td>16.0</td>\n",
       "    </tr>\n",
       "    <tr>\n",
       "      <th>266232</th>\n",
       "      <td>1782114</td>\n",
       "      <td>106752</td>\n",
       "      <td>1</td>\n",
       "      <td>3</td>\n",
       "      <td>2</td>\n",
       "      <td>NaN</td>\n",
       "    </tr>\n",
       "    <tr>\n",
       "      <th>273805</th>\n",
       "      <td>1112182</td>\n",
       "      <td>202304</td>\n",
       "      <td>84</td>\n",
       "      <td>3</td>\n",
       "      <td>2</td>\n",
       "      <td>6.0</td>\n",
       "    </tr>\n",
       "    <tr>\n",
       "      <th>284038</th>\n",
       "      <td>2845099</td>\n",
       "      <td>31189</td>\n",
       "      <td>11</td>\n",
       "      <td>3</td>\n",
       "      <td>2</td>\n",
       "      <td>7.0</td>\n",
       "    </tr>\n",
       "    <tr>\n",
       "      <th>311713</th>\n",
       "      <td>1021560</td>\n",
       "      <td>53767</td>\n",
       "      <td>3</td>\n",
       "      <td>3</td>\n",
       "      <td>2</td>\n",
       "      <td>9.0</td>\n",
       "    </tr>\n",
       "    <tr>\n",
       "      <th>321100</th>\n",
       "      <td>408114</td>\n",
       "      <td>68324</td>\n",
       "      <td>4</td>\n",
       "      <td>3</td>\n",
       "      <td>2</td>\n",
       "      <td>18.0</td>\n",
       "    </tr>\n",
       "    <tr>\n",
       "      <th>323900</th>\n",
       "      <td>1919531</td>\n",
       "      <td>191501</td>\n",
       "      <td>32</td>\n",
       "      <td>3</td>\n",
       "      <td>2</td>\n",
       "      <td>7.0</td>\n",
       "    </tr>\n",
       "    <tr>\n",
       "      <th>345917</th>\n",
       "      <td>2232988</td>\n",
       "      <td>82565</td>\n",
       "      <td>1</td>\n",
       "      <td>3</td>\n",
       "      <td>2</td>\n",
       "      <td>NaN</td>\n",
       "    </tr>\n",
       "    <tr>\n",
       "      <th>371905</th>\n",
       "      <td>391768</td>\n",
       "      <td>57671</td>\n",
       "      <td>19</td>\n",
       "      <td>3</td>\n",
       "      <td>2</td>\n",
       "      <td>10.0</td>\n",
       "    </tr>\n",
       "    <tr>\n",
       "      <th>394347</th>\n",
       "      <td>467134</td>\n",
       "      <td>63189</td>\n",
       "      <td>21</td>\n",
       "      <td>3</td>\n",
       "      <td>2</td>\n",
       "      <td>2.0</td>\n",
       "    </tr>\n",
       "    <tr>\n",
       "      <th>411408</th>\n",
       "      <td>1286742</td>\n",
       "      <td>183220</td>\n",
       "      <td>48</td>\n",
       "      <td>3</td>\n",
       "      <td>2</td>\n",
       "      <td>4.0</td>\n",
       "    </tr>\n",
       "    <tr>\n",
       "      <th>415163</th>\n",
       "      <td>2282673</td>\n",
       "      <td>86751</td>\n",
       "      <td>49</td>\n",
       "      <td>3</td>\n",
       "      <td>2</td>\n",
       "      <td>2.0</td>\n",
       "    </tr>\n",
       "    <tr>\n",
       "      <th>441599</th>\n",
       "      <td>2125197</td>\n",
       "      <td>14050</td>\n",
       "      <td>48</td>\n",
       "      <td>3</td>\n",
       "      <td>2</td>\n",
       "      <td>3.0</td>\n",
       "    </tr>\n",
       "  </tbody>\n",
       "</table>\n",
       "</div>"
      ],
      "text/plain": [
       "        order_id  user_id  order_number  order_dow  order_hour_of_day  \\\n",
       "145574    794638    50898            24          3                  2   \n",
       "223105   2160484   107525            16          3                  2   \n",
       "230807   1918001   188546            14          3                  2   \n",
       "266232   1782114   106752             1          3                  2   \n",
       "273805   1112182   202304            84          3                  2   \n",
       "284038   2845099    31189            11          3                  2   \n",
       "311713   1021560    53767             3          3                  2   \n",
       "321100    408114    68324             4          3                  2   \n",
       "323900   1919531   191501            32          3                  2   \n",
       "345917   2232988    82565             1          3                  2   \n",
       "371905    391768    57671            19          3                  2   \n",
       "394347    467134    63189            21          3                  2   \n",
       "411408   1286742   183220            48          3                  2   \n",
       "415163   2282673    86751            49          3                  2   \n",
       "441599   2125197    14050            48          3                  2   \n",
       "\n",
       "        days_since_prior_order  \n",
       "145574                     2.0  \n",
       "223105                    30.0  \n",
       "230807                    16.0  \n",
       "266232                     NaN  \n",
       "273805                     6.0  \n",
       "284038                     7.0  \n",
       "311713                     9.0  \n",
       "321100                    18.0  \n",
       "323900                     7.0  \n",
       "345917                     NaN  \n",
       "371905                    10.0  \n",
       "394347                     2.0  \n",
       "411408                     4.0  \n",
       "415163                     2.0  \n",
       "441599                     3.0  "
      ]
     },
     "metadata": {},
     "output_type": "display_data"
    }
   ],
   "source": [
    "display(orders[orders.duplicated()])# View the duplicate rows\n"
   ]
  },
  {
   "cell_type": "code",
   "execution_count": 23,
   "id": "480563c7",
   "metadata": {
    "id": "480563c7"
   },
   "outputs": [],
   "source": [
    "orders = orders.drop_duplicates().reset_index(drop=True)# Remove duplicate orders\n"
   ]
  },
  {
   "cell_type": "code",
   "execution_count": 24,
   "id": "0b2396a2",
   "metadata": {
    "id": "0b2396a2"
   },
   "outputs": [
    {
     "name": "stdout",
     "output_type": "stream",
     "text": [
      "0\n"
     ]
    }
   ],
   "source": [
    "print(orders.duplicated().sum())# Double check for duplicate rows\n"
   ]
  },
  {
   "cell_type": "markdown",
   "id": "45e6bc46",
   "metadata": {
    "id": "45e6bc46"
   },
   "source": [
    "### `products` data frame"
   ]
  },
  {
   "cell_type": "code",
   "execution_count": 25,
   "id": "5f526b5b-8175-46fa-a0fd-441767d50e64",
   "metadata": {
    "id": "5f526b5b-8175-46fa-a0fd-441767d50e64"
   },
   "outputs": [
    {
     "name": "stdout",
     "output_type": "stream",
     "text": [
      "0\n"
     ]
    }
   ],
   "source": [
    "print(products.duplicated().sum())# Check for fully duplicate rows\n"
   ]
  },
  {
   "cell_type": "code",
   "execution_count": 26,
   "id": "88daa4f4",
   "metadata": {
    "id": "88daa4f4"
   },
   "outputs": [
    {
     "name": "stdout",
     "output_type": "stream",
     "text": [
      "0\n"
     ]
    }
   ],
   "source": [
    "print(products.duplicated('product_id').sum())# Check for just duplicate product IDs using subset='product_id' in duplicated()\n"
   ]
  },
  {
   "cell_type": "markdown",
   "id": "03c82be5-3463-4adb-a5eb-1755f011faa0",
   "metadata": {
    "id": "03c82be5-3463-4adb-a5eb-1755f011faa0"
   },
   "source": [
    "Hint: To identify duplicate product names more effectively, convert the names to lowercase for consistent comparison. Use the .str.lower() method on the product_name column to standardize the text before checking for duplicates."
   ]
  },
  {
   "cell_type": "code",
   "execution_count": 27,
   "id": "21652596-2a3e-4a41-a063-aca47231a2b5",
   "metadata": {},
   "outputs": [
    {
     "data": {
      "text/html": [
       "<div>\n",
       "<style scoped>\n",
       "    .dataframe tbody tr th:only-of-type {\n",
       "        vertical-align: middle;\n",
       "    }\n",
       "\n",
       "    .dataframe tbody tr th {\n",
       "        vertical-align: top;\n",
       "    }\n",
       "\n",
       "    .dataframe thead th {\n",
       "        text-align: right;\n",
       "    }\n",
       "</style>\n",
       "<table border=\"1\" class=\"dataframe\">\n",
       "  <thead>\n",
       "    <tr style=\"text-align: right;\">\n",
       "      <th></th>\n",
       "      <th>product_id</th>\n",
       "      <th>product_name</th>\n",
       "      <th>aisle_id</th>\n",
       "      <th>department_id</th>\n",
       "    </tr>\n",
       "  </thead>\n",
       "  <tbody>\n",
       "    <tr>\n",
       "      <th>71</th>\n",
       "      <td>72</td>\n",
       "      <td>NaN</td>\n",
       "      <td>100</td>\n",
       "      <td>21</td>\n",
       "    </tr>\n",
       "    <tr>\n",
       "      <th>109</th>\n",
       "      <td>110</td>\n",
       "      <td>NaN</td>\n",
       "      <td>100</td>\n",
       "      <td>21</td>\n",
       "    </tr>\n",
       "    <tr>\n",
       "      <th>296</th>\n",
       "      <td>297</td>\n",
       "      <td>NaN</td>\n",
       "      <td>100</td>\n",
       "      <td>21</td>\n",
       "    </tr>\n",
       "    <tr>\n",
       "      <th>416</th>\n",
       "      <td>417</td>\n",
       "      <td>NaN</td>\n",
       "      <td>100</td>\n",
       "      <td>21</td>\n",
       "    </tr>\n",
       "    <tr>\n",
       "      <th>436</th>\n",
       "      <td>437</td>\n",
       "      <td>NaN</td>\n",
       "      <td>100</td>\n",
       "      <td>21</td>\n",
       "    </tr>\n",
       "    <tr>\n",
       "      <th>...</th>\n",
       "      <td>...</td>\n",
       "      <td>...</td>\n",
       "      <td>...</td>\n",
       "      <td>...</td>\n",
       "    </tr>\n",
       "    <tr>\n",
       "      <th>49689</th>\n",
       "      <td>49690</td>\n",
       "      <td>HIGH PERFORMANCE ENERGY DRINK</td>\n",
       "      <td>64</td>\n",
       "      <td>7</td>\n",
       "    </tr>\n",
       "    <tr>\n",
       "      <th>49690</th>\n",
       "      <td>49691</td>\n",
       "      <td>ORIGINAL PANCAKE &amp; WAFFLE MIX</td>\n",
       "      <td>130</td>\n",
       "      <td>14</td>\n",
       "    </tr>\n",
       "    <tr>\n",
       "      <th>49691</th>\n",
       "      <td>49692</td>\n",
       "      <td>ORGANIC INSTANT OATMEAL LIGHT MAPLE BROWN SUGAR</td>\n",
       "      <td>130</td>\n",
       "      <td>14</td>\n",
       "    </tr>\n",
       "    <tr>\n",
       "      <th>49692</th>\n",
       "      <td>49693</td>\n",
       "      <td>SPRING WATER BODY WASH</td>\n",
       "      <td>127</td>\n",
       "      <td>11</td>\n",
       "    </tr>\n",
       "    <tr>\n",
       "      <th>49693</th>\n",
       "      <td>49694</td>\n",
       "      <td>BURRITO- STEAK &amp; CHEESE</td>\n",
       "      <td>38</td>\n",
       "      <td>1</td>\n",
       "    </tr>\n",
       "  </tbody>\n",
       "</table>\n",
       "<p>1361 rows × 4 columns</p>\n",
       "</div>"
      ],
      "text/plain": [
       "       product_id                                     product_name  aisle_id  \\\n",
       "71             72                                              NaN       100   \n",
       "109           110                                              NaN       100   \n",
       "296           297                                              NaN       100   \n",
       "416           417                                              NaN       100   \n",
       "436           437                                              NaN       100   \n",
       "...           ...                                              ...       ...   \n",
       "49689       49690                    HIGH PERFORMANCE ENERGY DRINK        64   \n",
       "49690       49691                    ORIGINAL PANCAKE & WAFFLE MIX       130   \n",
       "49691       49692  ORGANIC INSTANT OATMEAL LIGHT MAPLE BROWN SUGAR       130   \n",
       "49692       49693                           SPRING WATER BODY WASH       127   \n",
       "49693       49694                          BURRITO- STEAK & CHEESE        38   \n",
       "\n",
       "       department_id  \n",
       "71                21  \n",
       "109               21  \n",
       "296               21  \n",
       "416               21  \n",
       "436               21  \n",
       "...              ...  \n",
       "49689              7  \n",
       "49690             14  \n",
       "49691             14  \n",
       "49692             11  \n",
       "49693              1  \n",
       "\n",
       "[1361 rows x 4 columns]"
      ]
     },
     "execution_count": 27,
     "metadata": {},
     "output_type": "execute_result"
    }
   ],
   "source": [
    "products[products['product_name'].str.lower().duplicated()]"
   ]
  },
  {
   "cell_type": "code",
   "execution_count": 28,
   "id": "c773f0bf",
   "metadata": {
    "id": "c773f0bf"
   },
   "outputs": [
    {
     "data": {
      "text/html": [
       "<div>\n",
       "<style scoped>\n",
       "    .dataframe tbody tr th:only-of-type {\n",
       "        vertical-align: middle;\n",
       "    }\n",
       "\n",
       "    .dataframe tbody tr th {\n",
       "        vertical-align: top;\n",
       "    }\n",
       "\n",
       "    .dataframe thead th {\n",
       "        text-align: right;\n",
       "    }\n",
       "</style>\n",
       "<table border=\"1\" class=\"dataframe\">\n",
       "  <thead>\n",
       "    <tr style=\"text-align: right;\">\n",
       "      <th></th>\n",
       "      <th>product_id</th>\n",
       "      <th>product_name</th>\n",
       "      <th>aisle_id</th>\n",
       "      <th>department_id</th>\n",
       "    </tr>\n",
       "  </thead>\n",
       "  <tbody>\n",
       "    <tr>\n",
       "      <th>71</th>\n",
       "      <td>72</td>\n",
       "      <td>NaN</td>\n",
       "      <td>100</td>\n",
       "      <td>21</td>\n",
       "    </tr>\n",
       "    <tr>\n",
       "      <th>109</th>\n",
       "      <td>110</td>\n",
       "      <td>NaN</td>\n",
       "      <td>100</td>\n",
       "      <td>21</td>\n",
       "    </tr>\n",
       "    <tr>\n",
       "      <th>296</th>\n",
       "      <td>297</td>\n",
       "      <td>NaN</td>\n",
       "      <td>100</td>\n",
       "      <td>21</td>\n",
       "    </tr>\n",
       "    <tr>\n",
       "      <th>416</th>\n",
       "      <td>417</td>\n",
       "      <td>NaN</td>\n",
       "      <td>100</td>\n",
       "      <td>21</td>\n",
       "    </tr>\n",
       "    <tr>\n",
       "      <th>436</th>\n",
       "      <td>437</td>\n",
       "      <td>NaN</td>\n",
       "      <td>100</td>\n",
       "      <td>21</td>\n",
       "    </tr>\n",
       "    <tr>\n",
       "      <th>...</th>\n",
       "      <td>...</td>\n",
       "      <td>...</td>\n",
       "      <td>...</td>\n",
       "      <td>...</td>\n",
       "    </tr>\n",
       "    <tr>\n",
       "      <th>49689</th>\n",
       "      <td>49690</td>\n",
       "      <td>HIGH PERFORMANCE ENERGY DRINK</td>\n",
       "      <td>64</td>\n",
       "      <td>7</td>\n",
       "    </tr>\n",
       "    <tr>\n",
       "      <th>49690</th>\n",
       "      <td>49691</td>\n",
       "      <td>ORIGINAL PANCAKE &amp; WAFFLE MIX</td>\n",
       "      <td>130</td>\n",
       "      <td>14</td>\n",
       "    </tr>\n",
       "    <tr>\n",
       "      <th>49691</th>\n",
       "      <td>49692</td>\n",
       "      <td>ORGANIC INSTANT OATMEAL LIGHT MAPLE BROWN SUGAR</td>\n",
       "      <td>130</td>\n",
       "      <td>14</td>\n",
       "    </tr>\n",
       "    <tr>\n",
       "      <th>49692</th>\n",
       "      <td>49693</td>\n",
       "      <td>SPRING WATER BODY WASH</td>\n",
       "      <td>127</td>\n",
       "      <td>11</td>\n",
       "    </tr>\n",
       "    <tr>\n",
       "      <th>49693</th>\n",
       "      <td>49694</td>\n",
       "      <td>BURRITO- STEAK &amp; CHEESE</td>\n",
       "      <td>38</td>\n",
       "      <td>1</td>\n",
       "    </tr>\n",
       "  </tbody>\n",
       "</table>\n",
       "<p>1361 rows × 4 columns</p>\n",
       "</div>"
      ],
      "text/plain": [
       "       product_id                                     product_name  aisle_id  \\\n",
       "71             72                                              NaN       100   \n",
       "109           110                                              NaN       100   \n",
       "296           297                                              NaN       100   \n",
       "416           417                                              NaN       100   \n",
       "436           437                                              NaN       100   \n",
       "...           ...                                              ...       ...   \n",
       "49689       49690                    HIGH PERFORMANCE ENERGY DRINK        64   \n",
       "49690       49691                    ORIGINAL PANCAKE & WAFFLE MIX       130   \n",
       "49691       49692  ORGANIC INSTANT OATMEAL LIGHT MAPLE BROWN SUGAR       130   \n",
       "49692       49693                           SPRING WATER BODY WASH       127   \n",
       "49693       49694                          BURRITO- STEAK & CHEESE        38   \n",
       "\n",
       "       department_id  \n",
       "71                21  \n",
       "109               21  \n",
       "296               21  \n",
       "416               21  \n",
       "436               21  \n",
       "...              ...  \n",
       "49689              7  \n",
       "49690             14  \n",
       "49691             14  \n",
       "49692             11  \n",
       "49693              1  \n",
       "\n",
       "[1361 rows x 4 columns]"
      ]
     },
     "execution_count": 28,
     "metadata": {},
     "output_type": "execute_result"
    }
   ],
   "source": [
    "products[products['product_name'].str.lower().duplicated()]# Check for just duplicate product names (convert names to lowercase to compare better)\n"
   ]
  },
  {
   "cell_type": "markdown",
   "id": "c502f00b-979b-4f6a-9457-569f412e1183",
   "metadata": {
    "id": "c502f00b-979b-4f6a-9457-569f412e1183"
   },
   "source": [
    "Let's see what that looks like in our dataset :"
   ]
  },
  {
   "cell_type": "code",
   "execution_count": 29,
   "id": "515b21b1-f458-4428-ba10-2820fef6158d",
   "metadata": {
    "id": "515b21b1-f458-4428-ba10-2820fef6158d"
   },
   "outputs": [
    {
     "data": {
      "text/html": [
       "<div>\n",
       "<style scoped>\n",
       "    .dataframe tbody tr th:only-of-type {\n",
       "        vertical-align: middle;\n",
       "    }\n",
       "\n",
       "    .dataframe tbody tr th {\n",
       "        vertical-align: top;\n",
       "    }\n",
       "\n",
       "    .dataframe thead th {\n",
       "        text-align: right;\n",
       "    }\n",
       "</style>\n",
       "<table border=\"1\" class=\"dataframe\">\n",
       "  <thead>\n",
       "    <tr style=\"text-align: right;\">\n",
       "      <th></th>\n",
       "      <th>product_id</th>\n",
       "      <th>product_name</th>\n",
       "      <th>aisle_id</th>\n",
       "      <th>department_id</th>\n",
       "    </tr>\n",
       "  </thead>\n",
       "  <tbody>\n",
       "    <tr>\n",
       "      <th>22540</th>\n",
       "      <td>22541</td>\n",
       "      <td>High Performance Energy Drink</td>\n",
       "      <td>64</td>\n",
       "      <td>7</td>\n",
       "    </tr>\n",
       "    <tr>\n",
       "      <th>49689</th>\n",
       "      <td>49690</td>\n",
       "      <td>HIGH PERFORMANCE ENERGY DRINK</td>\n",
       "      <td>64</td>\n",
       "      <td>7</td>\n",
       "    </tr>\n",
       "  </tbody>\n",
       "</table>\n",
       "</div>"
      ],
      "text/plain": [
       "       product_id                   product_name  aisle_id  department_id\n",
       "22540       22541  High Performance Energy Drink        64              7\n",
       "49689       49690  HIGH PERFORMANCE ENERGY DRINK        64              7"
      ]
     },
     "execution_count": 29,
     "metadata": {},
     "output_type": "execute_result"
    }
   ],
   "source": [
    "products[products['product_name'].str.lower() == 'high performance energy drink']"
   ]
  },
  {
   "cell_type": "code",
   "execution_count": 30,
   "id": "51a0e65f-2c0d-42f7-98d6-fd962a599a18",
   "metadata": {
    "id": "51a0e65f-2c0d-42f7-98d6-fd962a599a18",
    "scrolled": true
   },
   "outputs": [],
   "source": [
    "products['product_name'] =  products['product_name'].str.lower()\n",
    "product = products.drop_duplicates(subset = ['product_name'],inplace = True)# Drop duplicate product names (case insensitive)\n"
   ]
  },
  {
   "cell_type": "markdown",
   "id": "60f30db1",
   "metadata": {
    "id": "60f30db1"
   },
   "source": [
    "### `departments` data frame"
   ]
  },
  {
   "cell_type": "code",
   "execution_count": 31,
   "id": "fb410ad4-0fbf-4b80-bb09-23fdea79afe3",
   "metadata": {
    "id": "fb410ad4-0fbf-4b80-bb09-23fdea79afe3"
   },
   "outputs": [
    {
     "data": {
      "text/html": [
       "<div>\n",
       "<style scoped>\n",
       "    .dataframe tbody tr th:only-of-type {\n",
       "        vertical-align: middle;\n",
       "    }\n",
       "\n",
       "    .dataframe tbody tr th {\n",
       "        vertical-align: top;\n",
       "    }\n",
       "\n",
       "    .dataframe thead th {\n",
       "        text-align: right;\n",
       "    }\n",
       "</style>\n",
       "<table border=\"1\" class=\"dataframe\">\n",
       "  <thead>\n",
       "    <tr style=\"text-align: right;\">\n",
       "      <th></th>\n",
       "      <th>department_id</th>\n",
       "      <th>department</th>\n",
       "    </tr>\n",
       "  </thead>\n",
       "  <tbody>\n",
       "  </tbody>\n",
       "</table>\n",
       "</div>"
      ],
      "text/plain": [
       "Empty DataFrame\n",
       "Columns: [department_id, department]\n",
       "Index: []"
      ]
     },
     "execution_count": 31,
     "metadata": {},
     "output_type": "execute_result"
    }
   ],
   "source": [
    "# Check for duplicate entries in the departments dataframe\n",
    "departments[departments.duplicated()]"
   ]
  },
  {
   "cell_type": "code",
   "execution_count": 32,
   "id": "54483628-b8b6-4ee3-a5bf-acc64b5546fa",
   "metadata": {},
   "outputs": [
    {
     "data": {
      "text/plain": [
       "0"
      ]
     },
     "execution_count": 32,
     "metadata": {},
     "output_type": "execute_result"
    }
   ],
   "source": [
    "departments.duplicated().sum()"
   ]
  },
  {
   "cell_type": "markdown",
   "id": "889349c1",
   "metadata": {
    "id": "889349c1"
   },
   "source": [
    "### `aisles` data frame"
   ]
  },
  {
   "cell_type": "code",
   "execution_count": 33,
   "id": "9da89fb9-4679-40f5-ad0d-c34df753a3f8",
   "metadata": {
    "id": "9da89fb9-4679-40f5-ad0d-c34df753a3f8"
   },
   "outputs": [],
   "source": [
    "# Check for aisles entries in the departments dataframe\n"
   ]
  },
  {
   "cell_type": "markdown",
   "id": "274cd06a",
   "metadata": {
    "id": "274cd06a"
   },
   "source": [
    "### `order_products` data frame"
   ]
  },
  {
   "cell_type": "code",
   "execution_count": 34,
   "id": "52326689-84a8-4b8f-a881-7c68780f62c9",
   "metadata": {
    "id": "52326689-84a8-4b8f-a881-7c68780f62c9"
   },
   "outputs": [
    {
     "name": "stdout",
     "output_type": "stream",
     "text": [
      "0\n"
     ]
    }
   ],
   "source": [
    "print(order_products.duplicated().sum())# Check for duplicate entries in the order_products dataframe\n"
   ]
  },
  {
   "cell_type": "markdown",
   "id": "e5952f1b-3a4a-4144-a58e-77d72e1ed599",
   "metadata": {
    "id": "e5952f1b-3a4a-4144-a58e-77d72e1ed599"
   },
   "source": [
    "We have now successfully cleaned our data. Let's begin our exploratory data analysis."
   ]
  },
  {
   "cell_type": "markdown",
   "id": "34bd3ea4-2541-46f9-b328-79bf56db1ac5",
   "metadata": {},
   "source": [
    "<div class=\"alert alert-success\" style=\"border-left: 7px solid green\">\n",
    "<b>✅ Reviewer's Comment, v. 1</b>\n",
    "\n",
    "Overall you've done great job on this section - you've studeid the missing values and duplciates carefully and applied necessary cleaning which is necessary for accurate analsysi at the following steps\n",
    "\n",
    "Well done! You have completed all the necessary checks and data pre-processing.\n",
    "</div>\n"
   ]
  },
  {
   "cell_type": "markdown",
   "id": "turkish-kidney",
   "metadata": {
    "id": "turkish-kidney"
   },
   "source": [
    "# [A] Easy (must complete all to pass)"
   ]
  },
  {
   "cell_type": "markdown",
   "id": "short-capability",
   "metadata": {
    "id": "short-capability"
   },
   "source": [
    "### [A1] Verify that the `'order_hour_of_day'` and `'order_dow'` values in the `orders` tables are sensible (i.e. `'order_hour_of_day'` ranges from 0 to 23 and `'order_dow'` ranges from 0 to 6)\n",
    "\n",
    "To verify that the values in the `order_hour_of_day` and `order_dow` columns are sensible:\n",
    "\n",
    "1. **Check unique values**: Use `.unique()` on each column to extract all distinct values present.\n",
    "2. **Sort the results**: Use `sorted()` to arrange the unique values in ascending order for easier verification.\n",
    "3. **Validate ranges**:\n",
    "   - Ensure `order_hour_of_day` values range from 0 to 23 (representing hours of the day).\n",
    "   - Ensure `order_dow` values range from 0 to 6 (representing days of the week).\n",
    "\n",
    "This process confirms that the data aligns with expected ranges and there are no out-of-bound or invalid entries."
   ]
  },
  {
   "cell_type": "code",
   "execution_count": 35,
   "id": "growing-fruit",
   "metadata": {
    "id": "growing-fruit"
   },
   "outputs": [],
   "source": [
    "unique_value_day = sorted(orders['order_hour_of_day'].unique())\n",
    "\n",
    "unique_value_dow = sorted(orders['order_dow'].unique())\n"
   ]
  },
  {
   "cell_type": "code",
   "execution_count": 36,
   "id": "accessory-malaysia",
   "metadata": {
    "id": "accessory-malaysia"
   },
   "outputs": [
    {
     "name": "stdout",
     "output_type": "stream",
     "text": [
      "[0, 1, 2, 3, 4, 5, 6, 7, 8, 9, 10, 11, 12, 13, 14, 15, 16, 17, 18, 19, 20, 21, 22, 23]\n",
      "[0, 1, 2, 3, 4, 5, 6]\n"
     ]
    }
   ],
   "source": [
    "print(unique_value_day)\n",
    "print(unique_value_dow)\n"
   ]
  },
  {
   "cell_type": "markdown",
   "id": "a6743a70",
   "metadata": {
    "id": "a6743a70"
   },
   "source": [
    "### [A2] What time of day do people shop for groceries?\n",
    "\n",
    "To determine the time of day people shop for groceries, analyze the order_hour_of_day column in the orders dataset. Use .value_counts() to count the number of orders placed at each hour, and then sort the results by the hour for a clear chronological order.\n",
    "\n",
    "Finally, visualize the data with a bar plot to easily observe the shopping trends across different times of the day."
   ]
  },
  {
   "cell_type": "code",
   "execution_count": 37,
   "id": "a36cca27",
   "metadata": {
    "id": "a36cca27"
   },
   "outputs": [
    {
     "data": {
      "image/png": "[encoded data removed]",
      "text/plain": [
       "<Figure size 640x480 with 1 Axes>"
      ]
     },
     "metadata": {},
     "output_type": "display_data"
    }
   ],
   "source": [
    "order_count = orders['order_hour_of_day'].value_counts().sort_index(ascending=True)\n",
    "order_count.plot(x='hour',\n",
    "kind='bar',\n",
    "title= 'Order Tracker',\n",
    "xlabel= 'time',\n",
    "ylabel= 'number of orders')\n",
    "\n",
    "plt.show()"
   ]
  },
  {
   "cell_type": "markdown",
   "id": "11270eed",
   "metadata": {
    "id": "11270eed"
   },
   "source": [
    "Most orders occur between 9:00 AM and 5:00 PM, with peaks at 10:00 AM and 3:00 PM"
   ]
  },
  {
   "cell_type": "markdown",
   "id": "documented-command",
   "metadata": {
    "id": "documented-command"
   },
   "source": [
    "### [A3] What day of the week do people shop for groceries?\n",
    "\n",
    "To figure out what day of the week people shop for groceries, analyze the order_dow column in the orders dataset. Use .value_counts() to count the number of orders for each day of the week, and then sort the results by the day index to maintain the correct order.\n",
    "\n",
    "Visualize the data with a bar plot to clearly observe shopping patterns across the days of the week."
   ]
  },
  {
   "cell_type": "code",
   "execution_count": 38,
   "id": "chief-digit",
   "metadata": {
    "id": "chief-digit"
   },
   "outputs": [
    {
     "data": {
      "image/png": "[encoded data removed]",
      "text/plain": [
       "<Figure size 640x480 with 1 Axes>"
      ]
     },
     "metadata": {},
     "output_type": "display_data"
    }
   ],
   "source": [
    "days_count = orders['order_dow'].value_counts().sort_index()\n",
    "days_count.plot(x='day',\n",
    "kind='bar',\n",
    "title= 'Busy Days',\n",
    "xlabel= 'day',\n",
    "ylabel= 'number of orders')\n",
    "\n",
    "plt.show()"
   ]
  },
  {
   "cell_type": "markdown",
   "id": "dominant-lightning",
   "metadata": {
    "id": "dominant-lightning"
   },
   "source": [
    "The data dictionary does not state which integer corresponds to which day of the week. Assuming Sunday = 0, then people place more orders at the beginning of the week (Sunday and Monday)."
   ]
  },
  {
   "cell_type": "markdown",
   "id": "cutting-concert",
   "metadata": {
    "id": "cutting-concert"
   },
   "source": [
    "### [A4] How long do people wait until placing another order?\n",
    "\n",
    "To understand how long people wait before placing another order, analyze the days_since_prior_order column in the orders dataset. Use .value_counts() to count how many orders were placed for each interval of days, then sort the results by the number of days for clarity.\n",
    "\n",
    "Visualize the data using a bar plot to observe patterns in ordering frequency over time."
   ]
  },
  {
   "cell_type": "code",
   "execution_count": 39,
   "id": "c231f523",
   "metadata": {
    "id": "c231f523"
   },
   "outputs": [
    {
     "data": {
      "image/png": "[encoded data removed]",
      "text/plain": [
       "<Figure size 640x480 with 1 Axes>"
      ]
     },
     "metadata": {},
     "output_type": "display_data"
    }
   ],
   "source": [
    "order_frequency = orders['days_since_prior_order'].value_counts()\n",
    "order_frequency.sort_index()\n",
    "order_frequency.plot(x='days',\n",
    "kind='bar',\n",
    "title= 'Repeat Orders',\n",
    "xlabel= 'days',\n",
    "ylabel= 'number of orders')\n",
    "\n",
    "plt.show()\n"
   ]
  },
  {
   "cell_type": "markdown",
   "id": "discrete-vertex",
   "metadata": {
    "id": "discrete-vertex"
   },
   "source": [
    "The 0 values probably correspond to customers who placed more than one order on the same day.\n",
    "\n",
    "The max value of 30 days and the high spike at that value is puzzling though. The spike might be explained by people who set up recurring subscriptions to automatically order once a month. But that doesn't explain why there are no values above 30 days. I would expect many customers to place orders less often than once a month. Maybe those customers were intentionally excluded from the dataset."
   ]
  },
  {
   "cell_type": "markdown",
   "id": "8d926614",
   "metadata": {
    "id": "8d926614"
   },
   "source": [
    "Disregarding the spike at 30 days, most people wait between 2 to 10 days in between orders. The most common wait time is 7 days. In other words, it's common for people to place weekly grocery orders. Interestingly, in the tail of the distribution we also see small spikes at 14, 21, and 28 days. These would correspond to orders every 2, 3, or 4 weeks."
   ]
  },
  {
   "cell_type": "markdown",
   "id": "dec31fa6-7f07-47a0-8719-a0747145d6e2",
   "metadata": {},
   "source": [
    "\n",
    "<div class=\"alert alert-success\"; style=\"border-left: 7px solid green\">  \n",
    "<b>✅ Reviewer’s comment, v. 1</b>  \n",
    "\n",
    "In this section, you plotted excellent charts that clearly answered the questions. You prepared the data accurately, and the charts had clear titles and labeled axes.\n",
    "\n"
   ]
  },
  {
   "cell_type": "markdown",
   "id": "tight-staff",
   "metadata": {
    "id": "tight-staff"
   },
   "source": [
    "# [B] Medium (must complete all to pass)"
   ]
  },
  {
   "cell_type": "markdown",
   "id": "packed-classic",
   "metadata": {
    "id": "packed-classic"
   },
   "source": [
    "### [B1] Is there a difference in `'order_hour_of_day'` distributions on Wednesdays and Saturdays? Plot the histograms for both days and describe the differences that you see.\n",
    "\n",
    "To determine if there’s a difference in the `order_hour_of_day` distributions on Wednesdays and Saturdays, follow these steps:\n",
    "\n",
    "1. **Create masks** for Wednesday (`order_dow == 3`) and Saturday (`order_dow == 6`) to filter the orders data.\n",
    "2. **Count the order hours** for each day using `.value_counts()` and sort them by hour with `.sort_index()` for clarity.\n",
    "3. **Combine the counts** for both days into a single DataFrame using `pd.concat()`, and label the columns for easier interpretation.\n",
    "\n",
    "After preparing the data, plot histograms for both days to visually compare the distribution of order times. Look for patterns such as peaks or differences in the busiest times."
   ]
  },
  {
   "cell_type": "code",
   "execution_count": 40,
   "id": "d89b8403",
   "metadata": {
    "id": "d89b8403"
   },
   "outputs": [],
   "source": [
    "order_hour_of_wed = orders['order_hour_of_day'].mask(orders['order_dow']==3).value_counts()"
   ]
  },
  {
   "cell_type": "code",
   "execution_count": 41,
   "id": "94e54e8a",
   "metadata": {
    "id": "94e54e8a"
   },
   "outputs": [],
   "source": [
    "order_hour_of_sat = orders['order_hour_of_day'].mask(orders['order_dow']==6).value_counts()"
   ]
  },
  {
   "cell_type": "code",
   "execution_count": 42,
   "id": "797c90a8",
   "metadata": {
    "id": "797c90a8"
   },
   "outputs": [
    {
     "data": {
      "image/png": "[encoded data removed]",
      "text/plain": [
       "<Figure size 1200x600 with 1 Axes>"
      ]
     },
     "metadata": {},
     "output_type": "display_data"
    }
   ],
   "source": [
    "plt.figure(figsize=(12, 6))\n",
    "plt.hist(order_hour_of_wed.index, weights=order_hour_of_wed.values, alpha=0.5, label='Wednesday', bins=24, color= 'orange')\n",
    "plt.hist(order_hour_of_sat.index, weights=order_hour_of_sat.values, alpha=0.5, label='Saturday', bins=24, color= 'black', histtype='step',linewidth=2)\n",
    "plt.xlabel('Hour of Day')\n",
    "plt.ylabel('Number of orders')\n",
    "plt.title('Wednesday vs Saturday')\n",
    "plt.legend()\n",
    "plt.show()"
   ]
  },
  {
   "cell_type": "markdown",
   "id": "b6dd1db1-3c08-4fc1-b86c-b8419c8f7f21",
   "metadata": {
    "id": "35bcea30"
   },
   "source": [
    "<div class=\"alert alert-success\"; style=\"border-left: 7px solid green\">\n",
    "<b>✅ Reviewer's comment, v. 2</b> \n",
    "    \n",
    "✔️ \n",
    "    \n",
    "\n",
    "\n",
    "<div class=\"alert alert-danger\"; style=\"border-left: 7px solid red\">  \n",
    "<b>⛔️ Reviewer’s comment, v. 1</b>  \n",
    "\n",
    "To better understand the time periods where consumer behavior is consistent and where it varies, it would be helpful to split the data into the same number of bins as there are unique values in the series (i.e., 24) for both histograms. Could you please update this accordingly?\n",
    "\n",
    "</div>\n"
   ]
  },
  {
   "cell_type": "markdown",
   "id": "charitable-congo",
   "metadata": {
    "id": "charitable-congo"
   },
   "source": [
    "There's a small dip from 11h to 13h on Wednesdays. This dip is absent on Saturdays. Maybe this dip can be attributed to people who don't use Instacart because they have lunch somewhere between 11h and 13h."
   ]
  },
  {
   "cell_type": "markdown",
   "id": "e3891143",
   "metadata": {
    "id": "e3891143"
   },
   "source": [
    "### [B2] What's the distribution for the number of orders per customer?\n",
    "\n",
    "To explore the distribution of the number of orders per customer:\n",
    "\n",
    "1. **Group the data** by `user_id` to calculate the total number of orders for each customer. Use `.groupby('user_id')` and count the `order_id` for each group.\n",
    "2. **Sort the results** using `.sort_values()` for better readability.\n",
    "3. **Visualize the distribution** using a histogram to observe how many orders most customers typically place.\n",
    "\n",
    "Adjust the number of bins in the histogram to refine the visualization and better capture the pattern."
   ]
  },
  {
   "cell_type": "code",
   "execution_count": 43,
   "id": "d8c26c23",
   "metadata": {
    "id": "d8c26c23"
   },
   "outputs": [
    {
     "data": {
      "text/plain": [
       "user_id\n",
       "152331     1\n",
       "139876     1\n",
       "60408      1\n",
       "139873     1\n",
       "139871     1\n",
       "          ..\n",
       "66664     24\n",
       "148162    24\n",
       "78375     25\n",
       "193164    26\n",
       "149605    28\n",
       "Name: order_id, Length: 157437, dtype: int64"
      ]
     },
     "execution_count": 43,
     "metadata": {},
     "output_type": "execute_result"
    }
   ],
   "source": [
    "num_of_orders = orders.groupby(['user_id'])['order_id'].count()\n",
    "num_of_orders.sort_values()\n"
   ]
  },
  {
   "cell_type": "code",
   "execution_count": 44,
   "id": "c1e7905d-f846-4134-b841-eece50fa1155",
   "metadata": {
    "id": "00e69a66"
   },
   "outputs": [
    {
     "data": {
      "text/plain": [
       "<function matplotlib.pyplot.show(close=None, block=None)>"
      ]
     },
     "execution_count": 44,
     "metadata": {},
     "output_type": "execute_result"
    },
    {
     "data": {
      "image/png": "[encoded data removed]",
      "text/plain": [
       "<Figure size 1200x600 with 1 Axes>"
      ]
     },
     "metadata": {},
     "output_type": "display_data"
    }
   ],
   "source": [
    "plt.figure(figsize=(12, 6))\n",
    "plt.hist(num_of_orders, alpha=0.7, label='Average Orders Per Customer', bins=28)\n",
    "plt.xlabel('numer oforders')\n",
    "plt.ylabel('Number of customres who had that order')\n",
    "plt.title('AOPC')\n",
    "plt.legend()\n",
    "plt.show"
   ]
  },
  {
   "cell_type": "markdown",
   "id": "8bf9e24f-4fb2-4d33-93a7-f3775392f073",
   "metadata": {},
   "source": [
    "<div class=\"alert alert-success\"; style=\"border-left: 7px solid green\">\n",
    "<b>✅ Reviewer's comment, v. 2</b> \n",
    "    \n",
    "✔️  Great job!\n",
    "    \n",
    "\n",
    "\n",
    "<div class=\"alert alert-danger\"; style=\"border-left: 7px solid red\">  \n",
    "<b>⛔️ Reviewer’s comment, v. 1</b>  \n",
    "\n",
    "The number of orders is now shown in the values of the series you’ve got. And you need to show the distribution of these values. The index is just the user ID number — you don’t need it for visualization.\n",
    "\n"
   ]
  },
  {
   "cell_type": "markdown",
   "id": "d2eff7d5",
   "metadata": {
    "id": "d2eff7d5"
   },
   "source": [
    "Most customers in the dataset have placed between 1 and 10 orders, with number of orders per customer sharply decreasing after just 1 order."
   ]
  },
  {
   "cell_type": "markdown",
   "id": "54a0319c",
   "metadata": {
    "id": "54a0319c"
   },
   "source": [
    "### [B3] What are the top 20 popular products (display their id and name)?\n",
    "\n",
    "To identify the top 20 most popular products:\n",
    "\n",
    "1. **Merge the datasets**: Combine `order_products` and `products` on `product_id` to access both the product IDs and names in a single DataFrame.\n",
    "2. **Group the data**: Group by both `product_id` and `product_name` to aggregate the order counts for each product using `.size()`.\n",
    "3. **Sort the results**: Use `.sort_values(ascending=False)` to rank products by their popularity.\n",
    "4. **Display the top 20**: Use `.head(20)` to focus on the most frequently ordered products.\n",
    "5. **Visualize the results**: Create a bar chart to highlight the top products and their order counts.\n",
    "\n",
    "This will give you a clear view of the most popular products and their ranking.\n"
   ]
  },
  {
   "cell_type": "code",
   "execution_count": 45,
   "id": "exterior-arizona",
   "metadata": {
    "id": "exterior-arizona",
    "scrolled": true
   },
   "outputs": [],
   "source": [
    " top_tier = pd.merge(order_products, products, on='product_id')"
   ]
  },
  {
   "cell_type": "code",
   "execution_count": 46,
   "id": "universal-facial",
   "metadata": {
    "id": "universal-facial"
   },
   "outputs": [
    {
     "data": {
      "text/html": [
       "<div>\n",
       "<style scoped>\n",
       "    .dataframe tbody tr th:only-of-type {\n",
       "        vertical-align: middle;\n",
       "    }\n",
       "\n",
       "    .dataframe tbody tr th {\n",
       "        vertical-align: top;\n",
       "    }\n",
       "\n",
       "    .dataframe thead th {\n",
       "        text-align: right;\n",
       "    }\n",
       "</style>\n",
       "<table border=\"1\" class=\"dataframe\">\n",
       "  <thead>\n",
       "    <tr style=\"text-align: right;\">\n",
       "      <th></th>\n",
       "      <th>product_id</th>\n",
       "      <th>total_sales</th>\n",
       "      <th>product_name</th>\n",
       "      <th>aisle_id</th>\n",
       "      <th>department_id</th>\n",
       "    </tr>\n",
       "  </thead>\n",
       "  <tbody>\n",
       "    <tr>\n",
       "      <th>0</th>\n",
       "      <td>24852</td>\n",
       "      <td>66050</td>\n",
       "      <td>banana</td>\n",
       "      <td>24</td>\n",
       "      <td>4</td>\n",
       "    </tr>\n",
       "    <tr>\n",
       "      <th>1</th>\n",
       "      <td>13176</td>\n",
       "      <td>53297</td>\n",
       "      <td>bag of organic bananas</td>\n",
       "      <td>24</td>\n",
       "      <td>4</td>\n",
       "    </tr>\n",
       "    <tr>\n",
       "      <th>2</th>\n",
       "      <td>21137</td>\n",
       "      <td>37039</td>\n",
       "      <td>organic strawberries</td>\n",
       "      <td>24</td>\n",
       "      <td>4</td>\n",
       "    </tr>\n",
       "    <tr>\n",
       "      <th>3</th>\n",
       "      <td>21903</td>\n",
       "      <td>33971</td>\n",
       "      <td>organic baby spinach</td>\n",
       "      <td>123</td>\n",
       "      <td>4</td>\n",
       "    </tr>\n",
       "    <tr>\n",
       "      <th>4</th>\n",
       "      <td>47209</td>\n",
       "      <td>29773</td>\n",
       "      <td>organic hass avocado</td>\n",
       "      <td>24</td>\n",
       "      <td>4</td>\n",
       "    </tr>\n",
       "    <tr>\n",
       "      <th>5</th>\n",
       "      <td>47766</td>\n",
       "      <td>24689</td>\n",
       "      <td>organic avocado</td>\n",
       "      <td>24</td>\n",
       "      <td>4</td>\n",
       "    </tr>\n",
       "    <tr>\n",
       "      <th>6</th>\n",
       "      <td>47626</td>\n",
       "      <td>21495</td>\n",
       "      <td>large lemon</td>\n",
       "      <td>24</td>\n",
       "      <td>4</td>\n",
       "    </tr>\n",
       "    <tr>\n",
       "      <th>7</th>\n",
       "      <td>16797</td>\n",
       "      <td>20018</td>\n",
       "      <td>strawberries</td>\n",
       "      <td>24</td>\n",
       "      <td>4</td>\n",
       "    </tr>\n",
       "    <tr>\n",
       "      <th>8</th>\n",
       "      <td>26209</td>\n",
       "      <td>19690</td>\n",
       "      <td>limes</td>\n",
       "      <td>24</td>\n",
       "      <td>4</td>\n",
       "    </tr>\n",
       "    <tr>\n",
       "      <th>9</th>\n",
       "      <td>27845</td>\n",
       "      <td>19600</td>\n",
       "      <td>organic whole milk</td>\n",
       "      <td>84</td>\n",
       "      <td>16</td>\n",
       "    </tr>\n",
       "    <tr>\n",
       "      <th>10</th>\n",
       "      <td>27966</td>\n",
       "      <td>19197</td>\n",
       "      <td>organic raspberries</td>\n",
       "      <td>123</td>\n",
       "      <td>4</td>\n",
       "    </tr>\n",
       "    <tr>\n",
       "      <th>11</th>\n",
       "      <td>22935</td>\n",
       "      <td>15898</td>\n",
       "      <td>organic yellow onion</td>\n",
       "      <td>83</td>\n",
       "      <td>4</td>\n",
       "    </tr>\n",
       "    <tr>\n",
       "      <th>12</th>\n",
       "      <td>24964</td>\n",
       "      <td>15292</td>\n",
       "      <td>organic garlic</td>\n",
       "      <td>83</td>\n",
       "      <td>4</td>\n",
       "    </tr>\n",
       "    <tr>\n",
       "      <th>13</th>\n",
       "      <td>45007</td>\n",
       "      <td>14584</td>\n",
       "      <td>organic zucchini</td>\n",
       "      <td>83</td>\n",
       "      <td>4</td>\n",
       "    </tr>\n",
       "    <tr>\n",
       "      <th>14</th>\n",
       "      <td>39275</td>\n",
       "      <td>13879</td>\n",
       "      <td>organic blueberries</td>\n",
       "      <td>123</td>\n",
       "      <td>4</td>\n",
       "    </tr>\n",
       "    <tr>\n",
       "      <th>15</th>\n",
       "      <td>49683</td>\n",
       "      <td>13675</td>\n",
       "      <td>cucumber kirby</td>\n",
       "      <td>83</td>\n",
       "      <td>4</td>\n",
       "    </tr>\n",
       "    <tr>\n",
       "      <th>16</th>\n",
       "      <td>28204</td>\n",
       "      <td>12544</td>\n",
       "      <td>organic fuji apple</td>\n",
       "      <td>24</td>\n",
       "      <td>4</td>\n",
       "    </tr>\n",
       "    <tr>\n",
       "      <th>17</th>\n",
       "      <td>5876</td>\n",
       "      <td>12232</td>\n",
       "      <td>organic lemon</td>\n",
       "      <td>24</td>\n",
       "      <td>4</td>\n",
       "    </tr>\n",
       "    <tr>\n",
       "      <th>18</th>\n",
       "      <td>8277</td>\n",
       "      <td>11993</td>\n",
       "      <td>apple honeycrisp organic</td>\n",
       "      <td>24</td>\n",
       "      <td>4</td>\n",
       "    </tr>\n",
       "    <tr>\n",
       "      <th>19</th>\n",
       "      <td>40706</td>\n",
       "      <td>11781</td>\n",
       "      <td>organic grape tomatoes</td>\n",
       "      <td>123</td>\n",
       "      <td>4</td>\n",
       "    </tr>\n",
       "  </tbody>\n",
       "</table>\n",
       "</div>"
      ],
      "text/plain": [
       "    product_id  total_sales              product_name  aisle_id  department_id\n",
       "0        24852        66050                    banana        24              4\n",
       "1        13176        53297    bag of organic bananas        24              4\n",
       "2        21137        37039      organic strawberries        24              4\n",
       "3        21903        33971      organic baby spinach       123              4\n",
       "4        47209        29773      organic hass avocado        24              4\n",
       "5        47766        24689           organic avocado        24              4\n",
       "6        47626        21495               large lemon        24              4\n",
       "7        16797        20018              strawberries        24              4\n",
       "8        26209        19690                     limes        24              4\n",
       "9        27845        19600        organic whole milk        84             16\n",
       "10       27966        19197       organic raspberries       123              4\n",
       "11       22935        15898      organic yellow onion        83              4\n",
       "12       24964        15292            organic garlic        83              4\n",
       "13       45007        14584          organic zucchini        83              4\n",
       "14       39275        13879       organic blueberries       123              4\n",
       "15       49683        13675            cucumber kirby        83              4\n",
       "16       28204        12544        organic fuji apple        24              4\n",
       "17        5876        12232             organic lemon        24              4\n",
       "18        8277        11993  apple honeycrisp organic        24              4\n",
       "19       40706        11781    organic grape tomatoes       123              4"
      ]
     },
     "execution_count": 46,
     "metadata": {},
     "output_type": "execute_result"
    }
   ],
   "source": [
    "top_sellers = top_tier.groupby(['product_id'])['product_name'].size()\n",
    "top_sellers = top_sellers.sort_values(ascending=False)\n",
    "top_sellers = top_sellers.head(20).reset_index().rename(columns = {'product_name':'total_sales'})\n",
    "best_sellers = pd.merge(top_sellers, products, on='product_id',how = 'left')\n",
    "best_sellers"
   ]
  },
  {
   "cell_type": "code",
   "execution_count": 47,
   "id": "bbcdd20b",
   "metadata": {
    "id": "bbcdd20b"
   },
   "outputs": [
    {
     "data": {
      "image/png": "[encoded data removed]",
      "text/plain": [
       "<Figure size 640x480 with 1 Axes>"
      ]
     },
     "metadata": {},
     "output_type": "display_data"
    }
   ],
   "source": [
    "best_sellers.plot(x='product_name',\n",
    "y= 'total_sales',\n",
    "kind='bar',\n",
    "title= 'Top 20',\n",
    "xlabel= 'products',\n",
    "ylabel= 'number of orders')\n",
    "\n",
    "plt.show()"
   ]
  },
  {
   "cell_type": "markdown",
   "id": "7df00f47",
   "metadata": {
    "id": "7df00f47"
   },
   "source": [
    "The top 20 items are all produce, except for the milk. Looks like people want delicious and nutritious!"
   ]
  },
  {
   "cell_type": "markdown",
   "id": "d1a8a4fd-45e5-41d2-a2f7-b5140585aecc",
   "metadata": {},
   "source": [
    "<div class=\"alert alert-success\"; style=\"border-left: 7px solid green\">\n",
    "<b>✅ Reviewer's comment, v. 1</b> \n",
    "    \n",
    "This is correct list."
   ]
  },
  {
   "cell_type": "markdown",
   "id": "gross-theme",
   "metadata": {
    "id": "gross-theme"
   },
   "source": [
    "# [C] Hard (must complete at least two to pass)"
   ]
  },
  {
   "cell_type": "markdown",
   "id": "romantic-deposit",
   "metadata": {
    "id": "romantic-deposit"
   },
   "source": [
    "### [C1] How many items do people typically buy in one order? What does the distribution look like?\n",
    "To analyze how many items people typically buy in one order:\n",
    "\n",
    "1. **Group the data** by `order_id` and count the number of products (`product_id`) in each order using `.count()`. This gives the number of items in each order.\n",
    "2. **Aggregate the counts**: Use `.value_counts()` to determine how frequently different order sizes occur, and then sort the results with `.sort_index()` to organize by the number of items.\n",
    "3. **Visualize the distribution**: Use a bar plot to show the frequency of orders for each size, with the x-axis representing the number of items and the y-axis representing the number of orders.\n",
    "\n",
    "This will help you understand the typical size of a grocery order and identify any trends in purchasing behavior."
   ]
  },
  {
   "cell_type": "code",
   "execution_count": 48,
   "id": "virtual-punch",
   "metadata": {
    "id": "virtual-punch"
   },
   "outputs": [],
   "source": [
    "cart = pd.merge(orders,order_products, on='order_id')\n",
    "items = cart.groupby(['order_id'])['product_id'].count()\n",
    "items_count = items.value_counts().sort_index()"
   ]
  },
  {
   "cell_type": "code",
   "execution_count": 49,
   "id": "994157f5-70ed-485a-8552-ebb9e457e254",
   "metadata": {},
   "outputs": [],
   "source": [
    "items_counts_filter = items_count[items_count <= 35]"
   ]
  },
  {
   "cell_type": "code",
   "execution_count": 50,
   "id": "425f6586-cc64-4a00-835f-207e7a6cb815",
   "metadata": {},
   "outputs": [
    {
     "data": {
      "image/png": "[encoded data removed]",
      "text/plain": [
       "<Figure size 640x480 with 1 Axes>"
      ]
     },
     "metadata": {},
     "output_type": "display_data"
    }
   ],
   "source": [
    " items_count[items_count >= 35].plot(kind=\"bar\", title=\"Itemes Per Order\",\n",
    "                        xlabel=\"number of items\",\n",
    "                         ylabel=\"number of orders\")\n",
    "plt.show()"
   ]
  },
  {
   "cell_type": "code",
   "execution_count": 51,
   "id": "sensitive-breathing",
   "metadata": {
    "id": "sensitive-breathing"
   },
   "outputs": [
    {
     "data": {
      "image/png": "[encoded data removed]",
      "text/plain": [
       "<Figure size 640x480 with 1 Axes>"
      ]
     },
     "metadata": {},
     "output_type": "display_data"
    }
   ],
   "source": [
    "items_counts_filter.plot(kind=\"bar\", title=\"Itemes Per Order\",\n",
    "                        xlabel=\"number of items\",\n",
    "                         ylabel=\"number of orders\")\n",
    "plt.show()"
   ]
  },
  {
   "cell_type": "markdown",
   "id": "bd4ed530",
   "metadata": {
    "id": "bd4ed530"
   },
   "source": [
    "Most of the order numbers are in the tail of the distribution. To get a better look at the non-tail part, let's choose a value in the tail as a cutoff and just plot order with fewer than that many items. An order size of 35 items is far enough into the tail for this."
   ]
  },
  {
   "cell_type": "markdown",
   "id": "05f2102f-ce8d-4afa-8c88-f5afdfd4ddd6",
   "metadata": {
    "id": "completed-frank"
   },
   "source": [
    "\n",
    "<div class=\"alert alert-success\"; style=\"border-left: 7px solid green\">\n",
    "<b>✅ Reviewer's comment, v. 2</b> \n",
    "    \n",
    "✔️ \n",
    "    \n",
    "\n",
    "\n",
    "\n",
    "<div class=\"alert alert-danger\"; style=\"border-left: 7px solid red\">  \n",
    "<b>⛔️ Reviewer’s comment, v. 1</b>  \n",
    "\n",
    "It’s not clear why you are removing the number of items below 35 from the chart. Please first show the full distribution, sorted. Then remove the number of items that are rare.\n",
    "\n",
    "</div>\n",
    "\n"
   ]
  },
  {
   "cell_type": "markdown",
   "id": "designed-mortality",
   "metadata": {
    "id": "designed-mortality"
   },
   "source": [
    "The typical order contains 5 or 6 items, with most orders having between 1 and 20 items."
   ]
  },
  {
   "cell_type": "markdown",
   "id": "5e6b5537",
   "metadata": {
    "id": "5e6b5537"
   },
   "source": [
    "### [C2] What are the top 20 items that are reordered most frequently (display their names and product IDs)?\n",
    "\n",
    "To find the top 20 most frequently reordered items:\n",
    "\n",
    "1. **Filter the data**: Use `order_products['reordered'] == 1` to isolate only the products that have been reordered.\n",
    "2. **Merge the datasets**: Combine the filtered `order_products` with the `products` dataset on `product_id` to get both the product names and IDs.\n",
    "3. **Group the data**: Group by both `product_id` and `product_name` to calculate how many times each product was reordered, using `.size()`.\n",
    "4. **Sort the results**: Use `.sort_values(ascending=False)` to rank the products by reorder frequency.\n",
    "5. **Display the top 20**: Use `.head(20)` to focus on the most frequently reordered products.\n",
    "6. **Visualize the data**: Create a bar chart to showcase the top reordered items and their frequencies.\n",
    "\n",
    "This process highlights the products that customers consistently return to and reorder."
   ]
  },
  {
   "cell_type": "code",
   "execution_count": 52,
   "id": "9374e55a",
   "metadata": {
    "id": "9374e55a"
   },
   "outputs": [
    {
     "data": {
      "text/html": [
       "<div>\n",
       "<style scoped>\n",
       "    .dataframe tbody tr th:only-of-type {\n",
       "        vertical-align: middle;\n",
       "    }\n",
       "\n",
       "    .dataframe tbody tr th {\n",
       "        vertical-align: top;\n",
       "    }\n",
       "\n",
       "    .dataframe thead th {\n",
       "        text-align: right;\n",
       "    }\n",
       "</style>\n",
       "<table border=\"1\" class=\"dataframe\">\n",
       "  <thead>\n",
       "    <tr style=\"text-align: right;\">\n",
       "      <th></th>\n",
       "      <th>order_id</th>\n",
       "      <th>product_id</th>\n",
       "      <th>add_to_cart_order</th>\n",
       "      <th>reordered</th>\n",
       "    </tr>\n",
       "  </thead>\n",
       "  <tbody>\n",
       "    <tr>\n",
       "      <th>1</th>\n",
       "      <td>567889</td>\n",
       "      <td>1560</td>\n",
       "      <td>1</td>\n",
       "      <td>1</td>\n",
       "    </tr>\n",
       "    <tr>\n",
       "      <th>2</th>\n",
       "      <td>2261212</td>\n",
       "      <td>26683</td>\n",
       "      <td>1</td>\n",
       "      <td>1</td>\n",
       "    </tr>\n",
       "    <tr>\n",
       "      <th>3</th>\n",
       "      <td>491251</td>\n",
       "      <td>8670</td>\n",
       "      <td>35</td>\n",
       "      <td>1</td>\n",
       "    </tr>\n",
       "    <tr>\n",
       "      <th>4</th>\n",
       "      <td>2571142</td>\n",
       "      <td>1940</td>\n",
       "      <td>5</td>\n",
       "      <td>1</td>\n",
       "    </tr>\n",
       "    <tr>\n",
       "      <th>5</th>\n",
       "      <td>2456893</td>\n",
       "      <td>21616</td>\n",
       "      <td>4</td>\n",
       "      <td>1</td>\n",
       "    </tr>\n",
       "  </tbody>\n",
       "</table>\n",
       "</div>"
      ],
      "text/plain": [
       "   order_id  product_id  add_to_cart_order  reordered\n",
       "1    567889        1560                  1          1\n",
       "2   2261212       26683                  1          1\n",
       "3    491251        8670                 35          1\n",
       "4   2571142        1940                  5          1\n",
       "5   2456893       21616                  4          1"
      ]
     },
     "execution_count": 52,
     "metadata": {},
     "output_type": "execute_result"
    }
   ],
   "source": [
    "reordered_products = order_products[order_products['reordered']==1]\n",
    "reordered_products.head(5)"
   ]
  },
  {
   "cell_type": "code",
   "execution_count": 53,
   "id": "794f7bab-d22f-4920-8dc2-732e956a78e8",
   "metadata": {},
   "outputs": [
    {
     "data": {
      "text/html": [
       "<div>\n",
       "<style scoped>\n",
       "    .dataframe tbody tr th:only-of-type {\n",
       "        vertical-align: middle;\n",
       "    }\n",
       "\n",
       "    .dataframe tbody tr th {\n",
       "        vertical-align: top;\n",
       "    }\n",
       "\n",
       "    .dataframe thead th {\n",
       "        text-align: right;\n",
       "    }\n",
       "</style>\n",
       "<table border=\"1\" class=\"dataframe\">\n",
       "  <thead>\n",
       "    <tr style=\"text-align: right;\">\n",
       "      <th></th>\n",
       "      <th>order_id</th>\n",
       "      <th>product_id</th>\n",
       "      <th>add_to_cart_order</th>\n",
       "      <th>reordered</th>\n",
       "      <th>product_name</th>\n",
       "      <th>aisle_id</th>\n",
       "      <th>department_id</th>\n",
       "    </tr>\n",
       "  </thead>\n",
       "  <tbody>\n",
       "    <tr>\n",
       "      <th>0</th>\n",
       "      <td>567889</td>\n",
       "      <td>1560</td>\n",
       "      <td>1</td>\n",
       "      <td>1</td>\n",
       "      <td>bag of ice</td>\n",
       "      <td>37</td>\n",
       "      <td>1</td>\n",
       "    </tr>\n",
       "    <tr>\n",
       "      <th>1</th>\n",
       "      <td>761899</td>\n",
       "      <td>1560</td>\n",
       "      <td>2</td>\n",
       "      <td>1</td>\n",
       "      <td>bag of ice</td>\n",
       "      <td>37</td>\n",
       "      <td>1</td>\n",
       "    </tr>\n",
       "    <tr>\n",
       "      <th>2</th>\n",
       "      <td>1388514</td>\n",
       "      <td>1560</td>\n",
       "      <td>8</td>\n",
       "      <td>1</td>\n",
       "      <td>bag of ice</td>\n",
       "      <td>37</td>\n",
       "      <td>1</td>\n",
       "    </tr>\n",
       "    <tr>\n",
       "      <th>3</th>\n",
       "      <td>2629631</td>\n",
       "      <td>1560</td>\n",
       "      <td>1</td>\n",
       "      <td>1</td>\n",
       "      <td>bag of ice</td>\n",
       "      <td>37</td>\n",
       "      <td>1</td>\n",
       "    </tr>\n",
       "    <tr>\n",
       "      <th>4</th>\n",
       "      <td>866921</td>\n",
       "      <td>1560</td>\n",
       "      <td>6</td>\n",
       "      <td>1</td>\n",
       "      <td>bag of ice</td>\n",
       "      <td>37</td>\n",
       "      <td>1</td>\n",
       "    </tr>\n",
       "  </tbody>\n",
       "</table>\n",
       "</div>"
      ],
      "text/plain": [
       "   order_id  product_id  add_to_cart_order  reordered product_name  aisle_id  \\\n",
       "0    567889        1560                  1          1   bag of ice        37   \n",
       "1    761899        1560                  2          1   bag of ice        37   \n",
       "2   1388514        1560                  8          1   bag of ice        37   \n",
       "3   2629631        1560                  1          1   bag of ice        37   \n",
       "4    866921        1560                  6          1   bag of ice        37   \n",
       "\n",
       "   department_id  \n",
       "0              1  \n",
       "1              1  \n",
       "2              1  \n",
       "3              1  \n",
       "4              1  "
      ]
     },
     "execution_count": 53,
     "metadata": {},
     "output_type": "execute_result"
    }
   ],
   "source": [
    "product_info = pd.merge(reordered_products, products, on= 'product_id')\n",
    "product_info.head(5)"
   ]
  },
  {
   "cell_type": "code",
   "execution_count": 54,
   "id": "possible-change",
   "metadata": {
    "id": "possible-change",
    "scrolled": true
   },
   "outputs": [],
   "source": [
    "product_info_top20 = product_info.groupby(['product_name'])['product_name'].size().sort_values(ascending=False).head(20)"
   ]
  },
  {
   "cell_type": "code",
   "execution_count": 55,
   "id": "professional-surfing",
   "metadata": {
    "id": "professional-surfing",
    "scrolled": true
   },
   "outputs": [
    {
     "data": {
      "text/plain": [
       "product_name\n",
       "banana                      55763\n",
       "bag of organic bananas      44450\n",
       "organic strawberries        28639\n",
       "organic baby spinach        26233\n",
       "organic hass avocado        23629\n",
       "organic avocado             18743\n",
       "organic whole milk          16251\n",
       "large lemon                 15044\n",
       "organic raspberries         14748\n",
       "strawberries                13945\n",
       "limes                       13327\n",
       "organic yellow onion        11145\n",
       "organic garlic              10411\n",
       "organic zucchini            10076\n",
       "cucumber kirby               9538\n",
       "organic fuji apple           8989\n",
       "apple honeycrisp organic     8836\n",
       "organic blueberries          8799\n",
       "organic lemon                8412\n",
       "organic half & half          8389\n",
       "Name: product_name, dtype: int64"
      ]
     },
     "execution_count": 55,
     "metadata": {},
     "output_type": "execute_result"
    }
   ],
   "source": [
    "product_info_top20"
   ]
  },
  {
   "cell_type": "code",
   "execution_count": 56,
   "id": "48dd3658",
   "metadata": {
    "id": "48dd3658"
   },
   "outputs": [
    {
     "data": {
      "image/png": "[encoded data removed]",
      "text/plain": [
       "<Figure size 640x480 with 1 Axes>"
      ]
     },
     "metadata": {},
     "output_type": "display_data"
    }
   ],
   "source": [
    "product_info_top20.plot(kind=\"bar\",title = 'Top 20 reodered items',\n",
    "                        xlabel= 'Product_names',\n",
    "                        ylabel= 'Frequency'\n",
    "                       )\n",
    "plt.show()"
   ]
  },
  {
   "cell_type": "markdown",
   "id": "80e70c74",
   "metadata": {
    "id": "80e70c74"
   },
   "source": [
    "It looks like produce and dairy comprise the most reordered products as well. It makes sense that perishables would be the most reordered items."
   ]
  },
  {
   "cell_type": "markdown",
   "id": "9d312b14",
   "metadata": {
    "id": "9d312b14"
   },
   "source": [
    "### [C3] For each product, what proportion of its orders are reorders?\n",
    "\n",
    "To calculate the proportion of orders for each product that are reorders:\n",
    "\n",
    "1. **Merge the datasets**: Combine `order_products` with the `products` dataset to access product names and IDs in the same DataFrame.\n",
    "2. **Group the data**: Group by `product_id` and `product_name` to isolate each product's order history.\n",
    "3. **Calculate the mean of `reordered`**: Use `.mean()` on the `reordered` column to compute the proportion of orders for each product that were reorders. The value represents the reorder rate.\n",
    "4. **Sort the results**: Use `.sort_values(ascending=False)` to rank products by their reorder rates.\n",
    "5. **Convert to a DataFrame**: Use `.reset_index()` to organize the grouped data into a readable DataFrame.\n",
    "6. **Optional Sorting**: Sort the results by `product_id` or another column for better clarity.\n",
    "\n",
    "This approach provides insights into how frequently each product is reordered, helping identify customer favorites or staples.\n"
   ]
  },
  {
   "cell_type": "code",
   "execution_count": null,
   "id": "103e7fe1",
   "metadata": {
    "id": "103e7fe1"
   },
   "outputs": [],
   "source": []
  },
  {
   "cell_type": "code",
   "execution_count": 57,
   "id": "8ae9f4b1",
   "metadata": {
    "id": "8ae9f4b1"
   },
   "outputs": [
    {
     "data": {
      "text/html": [
       "<div>\n",
       "<style scoped>\n",
       "    .dataframe tbody tr th:only-of-type {\n",
       "        vertical-align: middle;\n",
       "    }\n",
       "\n",
       "    .dataframe tbody tr th {\n",
       "        vertical-align: top;\n",
       "    }\n",
       "\n",
       "    .dataframe thead th {\n",
       "        text-align: right;\n",
       "    }\n",
       "</style>\n",
       "<table border=\"1\" class=\"dataframe\">\n",
       "  <thead>\n",
       "    <tr style=\"text-align: right;\">\n",
       "      <th></th>\n",
       "      <th>product_id</th>\n",
       "      <th>product_name</th>\n",
       "      <th>reordered</th>\n",
       "    </tr>\n",
       "  </thead>\n",
       "  <tbody>\n",
       "    <tr>\n",
       "      <th>0</th>\n",
       "      <td>46775</td>\n",
       "      <td>friskies pull 'n play tender strings - salmon ...</td>\n",
       "      <td>1.0</td>\n",
       "    </tr>\n",
       "    <tr>\n",
       "      <th>1</th>\n",
       "      <td>10486</td>\n",
       "      <td>nut brown ale</td>\n",
       "      <td>1.0</td>\n",
       "    </tr>\n",
       "    <tr>\n",
       "      <th>2</th>\n",
       "      <td>32600</td>\n",
       "      <td>pure rooibos red tea</td>\n",
       "      <td>1.0</td>\n",
       "    </tr>\n",
       "    <tr>\n",
       "      <th>3</th>\n",
       "      <td>44440</td>\n",
       "      <td>purrfect delicacies multi-pack</td>\n",
       "      <td>1.0</td>\n",
       "    </tr>\n",
       "    <tr>\n",
       "      <th>4</th>\n",
       "      <td>32584</td>\n",
       "      <td>honey ham &amp; smoked white turkey sub sandwich kit</td>\n",
       "      <td>1.0</td>\n",
       "    </tr>\n",
       "    <tr>\n",
       "      <th>...</th>\n",
       "      <td>...</td>\n",
       "      <td>...</td>\n",
       "      <td>...</td>\n",
       "    </tr>\n",
       "    <tr>\n",
       "      <th>44510</th>\n",
       "      <td>25053</td>\n",
       "      <td>frost arctic blitz sports drink</td>\n",
       "      <td>0.0</td>\n",
       "    </tr>\n",
       "    <tr>\n",
       "      <th>44511</th>\n",
       "      <td>25051</td>\n",
       "      <td>herb for beef gravy mix</td>\n",
       "      <td>0.0</td>\n",
       "    </tr>\n",
       "    <tr>\n",
       "      <th>44512</th>\n",
       "      <td>25045</td>\n",
       "      <td>bandages- waterproof</td>\n",
       "      <td>0.0</td>\n",
       "    </tr>\n",
       "    <tr>\n",
       "      <th>44513</th>\n",
       "      <td>42675</td>\n",
       "      <td>megaflora probiotic</td>\n",
       "      <td>0.0</td>\n",
       "    </tr>\n",
       "    <tr>\n",
       "      <th>44514</th>\n",
       "      <td>24793</td>\n",
       "      <td>sea salt- course</td>\n",
       "      <td>0.0</td>\n",
       "    </tr>\n",
       "  </tbody>\n",
       "</table>\n",
       "<p>44515 rows × 3 columns</p>\n",
       "</div>"
      ],
      "text/plain": [
       "       product_id                                       product_name  \\\n",
       "0           46775  friskies pull 'n play tender strings - salmon ...   \n",
       "1           10486                                      nut brown ale   \n",
       "2           32600                               pure rooibos red tea   \n",
       "3           44440                     purrfect delicacies multi-pack   \n",
       "4           32584   honey ham & smoked white turkey sub sandwich kit   \n",
       "...           ...                                                ...   \n",
       "44510       25053                    frost arctic blitz sports drink   \n",
       "44511       25051                            herb for beef gravy mix   \n",
       "44512       25045                               bandages- waterproof   \n",
       "44513       42675                                megaflora probiotic   \n",
       "44514       24793                                   sea salt- course   \n",
       "\n",
       "       reordered  \n",
       "0            1.0  \n",
       "1            1.0  \n",
       "2            1.0  \n",
       "3            1.0  \n",
       "4            1.0  \n",
       "...          ...  \n",
       "44510        0.0  \n",
       "44511        0.0  \n",
       "44512        0.0  \n",
       "44513        0.0  \n",
       "44514        0.0  \n",
       "\n",
       "[44515 rows x 3 columns]"
      ]
     },
     "execution_count": 57,
     "metadata": {},
     "output_type": "execute_result"
    }
   ],
   "source": [
    "order_specs = pd.merge(order_products, products, on= 'product_id')\n",
    "order_specs = order_specs.groupby(['product_id','product_name'])['reordered'].mean().sort_values(ascending= False).reset_index()\n",
    "order_specs"
   ]
  },
  {
   "cell_type": "code",
   "execution_count": null,
   "id": "social-individual",
   "metadata": {
    "id": "social-individual"
   },
   "outputs": [],
   "source": []
  },
  {
   "cell_type": "markdown",
   "id": "subject-boxing",
   "metadata": {
    "id": "subject-boxing"
   },
   "source": [
    "### [C4] For each customer, what proportion of their products ordered are reorders?\n",
    "\n",
    "To calculate the proportion of products reordered by each customer:\n",
    "\n",
    "1. **Merge the datasets**: Combine `order_products` with `orders` to link order and customer information.\n",
    "2. **Group the data**: Group by `user_id` to focus on each customer's ordering behavior.\n",
    "3. **Calculate the mean of `reordered`**: Use `.mean()` on the `reordered` column to determine the proportion of products reordered by each customer.\n",
    "4. **Sort the results**: Use `.sort_values(ascending=False)` to identify customers with the highest reorder rates.\n",
    "5. **Convert to a DataFrame**: Use `.reset_index()` to format the grouped data into a structured DataFrame for further analysis.\n",
    "\n",
    "This analysis reveals the extent to which individual customers reorder products, providing insights into customer loyalty and preferences.\n"
   ]
  },
  {
   "cell_type": "code",
   "execution_count": 58,
   "id": "medical-couple",
   "metadata": {
    "id": "medical-couple",
    "scrolled": true
   },
   "outputs": [
    {
     "data": {
      "text/html": [
       "<div>\n",
       "<style scoped>\n",
       "    .dataframe tbody tr th:only-of-type {\n",
       "        vertical-align: middle;\n",
       "    }\n",
       "\n",
       "    .dataframe tbody tr th {\n",
       "        vertical-align: top;\n",
       "    }\n",
       "\n",
       "    .dataframe thead th {\n",
       "        text-align: right;\n",
       "    }\n",
       "</style>\n",
       "<table border=\"1\" class=\"dataframe\">\n",
       "  <thead>\n",
       "    <tr style=\"text-align: right;\">\n",
       "      <th></th>\n",
       "      <th>user_id</th>\n",
       "      <th>reordered</th>\n",
       "    </tr>\n",
       "  </thead>\n",
       "  <tbody>\n",
       "    <tr>\n",
       "      <th>0</th>\n",
       "      <td>137587</td>\n",
       "      <td>1.0</td>\n",
       "    </tr>\n",
       "    <tr>\n",
       "      <th>1</th>\n",
       "      <td>173474</td>\n",
       "      <td>1.0</td>\n",
       "    </tr>\n",
       "    <tr>\n",
       "      <th>2</th>\n",
       "      <td>13918</td>\n",
       "      <td>1.0</td>\n",
       "    </tr>\n",
       "    <tr>\n",
       "      <th>3</th>\n",
       "      <td>62300</td>\n",
       "      <td>1.0</td>\n",
       "    </tr>\n",
       "    <tr>\n",
       "      <th>4</th>\n",
       "      <td>62307</td>\n",
       "      <td>1.0</td>\n",
       "    </tr>\n",
       "    <tr>\n",
       "      <th>...</th>\n",
       "      <td>...</td>\n",
       "      <td>...</td>\n",
       "    </tr>\n",
       "    <tr>\n",
       "      <th>149621</th>\n",
       "      <td>190953</td>\n",
       "      <td>0.0</td>\n",
       "    </tr>\n",
       "    <tr>\n",
       "      <th>149622</th>\n",
       "      <td>119371</td>\n",
       "      <td>0.0</td>\n",
       "    </tr>\n",
       "    <tr>\n",
       "      <th>149623</th>\n",
       "      <td>63173</td>\n",
       "      <td>0.0</td>\n",
       "    </tr>\n",
       "    <tr>\n",
       "      <th>149624</th>\n",
       "      <td>63163</td>\n",
       "      <td>0.0</td>\n",
       "    </tr>\n",
       "    <tr>\n",
       "      <th>149625</th>\n",
       "      <td>165726</td>\n",
       "      <td>0.0</td>\n",
       "    </tr>\n",
       "  </tbody>\n",
       "</table>\n",
       "<p>149626 rows × 2 columns</p>\n",
       "</div>"
      ],
      "text/plain": [
       "        user_id  reordered\n",
       "0        137587        1.0\n",
       "1        173474        1.0\n",
       "2         13918        1.0\n",
       "3         62300        1.0\n",
       "4         62307        1.0\n",
       "...         ...        ...\n",
       "149621   190953        0.0\n",
       "149622   119371        0.0\n",
       "149623    63173        0.0\n",
       "149624    63163        0.0\n",
       "149625   165726        0.0\n",
       "\n",
       "[149626 rows x 2 columns]"
      ]
     },
     "execution_count": 58,
     "metadata": {},
     "output_type": "execute_result"
    }
   ],
   "source": [
    "proportion =pd.merge(order_products, orders)\n",
    "proportion = proportion.groupby('user_id')['reordered'].mean().sort_values(ascending= False).reset_index()\n",
    "proportion"
   ]
  },
  {
   "cell_type": "code",
   "execution_count": null,
   "id": "8892e4b4",
   "metadata": {
    "id": "8892e4b4"
   },
   "outputs": [],
   "source": []
  },
  {
   "cell_type": "markdown",
   "id": "92d35137",
   "metadata": {
    "id": "92d35137"
   },
   "source": [
    "### [C5] What are the top 20 items that people put in their carts first?\n",
    "\n",
    "To identify the top 20 items that people most frequently add to their carts first:\n",
    "\n",
    "1. **Merge the datasets**: Combine `order_products` with `products` to link product names and IDs.\n",
    "2. **Filter the data**: Focus on rows where `add_to_cart_order` equals 1, indicating the first item added to the cart.\n",
    "3. **Group the data**: Group by `product_id` and `product_name` to aggregate the count of how often each product was the first in a cart.\n",
    "4. **Count occurrences**: Use `.count()` to calculate the total number of times each product was the first added.\n",
    "5. **Sort the results**: Use `.sort_values(ascending=False)` to rank products by their first-in-cart frequency.\n",
    "6. **Display the top 20**: Use `.head(20)` to extract the most popular first-in-cart items.\n",
    "\n",
    "This provides insights into which products customers prioritize in their shopping process.\n"
   ]
  },
  {
   "cell_type": "code",
   "execution_count": 59,
   "id": "0ae57274",
   "metadata": {
    "id": "0ae57274",
    "scrolled": true
   },
   "outputs": [
    {
     "data": {
      "text/html": [
       "<div>\n",
       "<style scoped>\n",
       "    .dataframe tbody tr th:only-of-type {\n",
       "        vertical-align: middle;\n",
       "    }\n",
       "\n",
       "    .dataframe tbody tr th {\n",
       "        vertical-align: top;\n",
       "    }\n",
       "\n",
       "    .dataframe thead th {\n",
       "        text-align: right;\n",
       "    }\n",
       "</style>\n",
       "<table border=\"1\" class=\"dataframe\">\n",
       "  <thead>\n",
       "    <tr style=\"text-align: right;\">\n",
       "      <th></th>\n",
       "      <th>product_id</th>\n",
       "      <th>product_name_x</th>\n",
       "      <th>product_name_y</th>\n",
       "      <th>aisle_id</th>\n",
       "      <th>department_id</th>\n",
       "    </tr>\n",
       "  </thead>\n",
       "  <tbody>\n",
       "    <tr>\n",
       "      <th>0</th>\n",
       "      <td>24852</td>\n",
       "      <td>15562</td>\n",
       "      <td>banana</td>\n",
       "      <td>24</td>\n",
       "      <td>4</td>\n",
       "    </tr>\n",
       "    <tr>\n",
       "      <th>1</th>\n",
       "      <td>13176</td>\n",
       "      <td>11026</td>\n",
       "      <td>bag of organic bananas</td>\n",
       "      <td>24</td>\n",
       "      <td>4</td>\n",
       "    </tr>\n",
       "    <tr>\n",
       "      <th>2</th>\n",
       "      <td>27845</td>\n",
       "      <td>4363</td>\n",
       "      <td>organic whole milk</td>\n",
       "      <td>84</td>\n",
       "      <td>16</td>\n",
       "    </tr>\n",
       "    <tr>\n",
       "      <th>3</th>\n",
       "      <td>21137</td>\n",
       "      <td>3946</td>\n",
       "      <td>organic strawberries</td>\n",
       "      <td>24</td>\n",
       "      <td>4</td>\n",
       "    </tr>\n",
       "    <tr>\n",
       "      <th>4</th>\n",
       "      <td>47209</td>\n",
       "      <td>3390</td>\n",
       "      <td>organic hass avocado</td>\n",
       "      <td>24</td>\n",
       "      <td>4</td>\n",
       "    </tr>\n",
       "    <tr>\n",
       "      <th>5</th>\n",
       "      <td>21903</td>\n",
       "      <td>3336</td>\n",
       "      <td>organic baby spinach</td>\n",
       "      <td>123</td>\n",
       "      <td>4</td>\n",
       "    </tr>\n",
       "    <tr>\n",
       "      <th>6</th>\n",
       "      <td>47766</td>\n",
       "      <td>3044</td>\n",
       "      <td>organic avocado</td>\n",
       "      <td>24</td>\n",
       "      <td>4</td>\n",
       "    </tr>\n",
       "    <tr>\n",
       "      <th>7</th>\n",
       "      <td>19660</td>\n",
       "      <td>2336</td>\n",
       "      <td>spring water</td>\n",
       "      <td>115</td>\n",
       "      <td>7</td>\n",
       "    </tr>\n",
       "    <tr>\n",
       "      <th>8</th>\n",
       "      <td>16797</td>\n",
       "      <td>2308</td>\n",
       "      <td>strawberries</td>\n",
       "      <td>24</td>\n",
       "      <td>4</td>\n",
       "    </tr>\n",
       "    <tr>\n",
       "      <th>9</th>\n",
       "      <td>27966</td>\n",
       "      <td>2024</td>\n",
       "      <td>organic raspberries</td>\n",
       "      <td>123</td>\n",
       "      <td>4</td>\n",
       "    </tr>\n",
       "    <tr>\n",
       "      <th>10</th>\n",
       "      <td>44632</td>\n",
       "      <td>1914</td>\n",
       "      <td>sparkling water grapefruit</td>\n",
       "      <td>115</td>\n",
       "      <td>7</td>\n",
       "    </tr>\n",
       "    <tr>\n",
       "      <th>11</th>\n",
       "      <td>49235</td>\n",
       "      <td>1797</td>\n",
       "      <td>organic half &amp; half</td>\n",
       "      <td>53</td>\n",
       "      <td>16</td>\n",
       "    </tr>\n",
       "    <tr>\n",
       "      <th>12</th>\n",
       "      <td>47626</td>\n",
       "      <td>1737</td>\n",
       "      <td>large lemon</td>\n",
       "      <td>24</td>\n",
       "      <td>4</td>\n",
       "    </tr>\n",
       "    <tr>\n",
       "      <th>13</th>\n",
       "      <td>196</td>\n",
       "      <td>1733</td>\n",
       "      <td>soda</td>\n",
       "      <td>77</td>\n",
       "      <td>7</td>\n",
       "    </tr>\n",
       "    <tr>\n",
       "      <th>14</th>\n",
       "      <td>38689</td>\n",
       "      <td>1397</td>\n",
       "      <td>organic reduced fat milk</td>\n",
       "      <td>84</td>\n",
       "      <td>16</td>\n",
       "    </tr>\n",
       "    <tr>\n",
       "      <th>15</th>\n",
       "      <td>26209</td>\n",
       "      <td>1370</td>\n",
       "      <td>limes</td>\n",
       "      <td>24</td>\n",
       "      <td>4</td>\n",
       "    </tr>\n",
       "    <tr>\n",
       "      <th>16</th>\n",
       "      <td>12341</td>\n",
       "      <td>1340</td>\n",
       "      <td>hass avocados</td>\n",
       "      <td>32</td>\n",
       "      <td>4</td>\n",
       "    </tr>\n",
       "    <tr>\n",
       "      <th>17</th>\n",
       "      <td>5785</td>\n",
       "      <td>1310</td>\n",
       "      <td>organic reduced fat 2% milk</td>\n",
       "      <td>84</td>\n",
       "      <td>16</td>\n",
       "    </tr>\n",
       "    <tr>\n",
       "      <th>18</th>\n",
       "      <td>27086</td>\n",
       "      <td>1309</td>\n",
       "      <td>half &amp; half</td>\n",
       "      <td>53</td>\n",
       "      <td>16</td>\n",
       "    </tr>\n",
       "    <tr>\n",
       "      <th>19</th>\n",
       "      <td>43352</td>\n",
       "      <td>1246</td>\n",
       "      <td>raspberries</td>\n",
       "      <td>32</td>\n",
       "      <td>4</td>\n",
       "    </tr>\n",
       "  </tbody>\n",
       "</table>\n",
       "</div>"
      ],
      "text/plain": [
       "    product_id  product_name_x               product_name_y  aisle_id  \\\n",
       "0        24852           15562                       banana        24   \n",
       "1        13176           11026       bag of organic bananas        24   \n",
       "2        27845            4363           organic whole milk        84   \n",
       "3        21137            3946         organic strawberries        24   \n",
       "4        47209            3390         organic hass avocado        24   \n",
       "5        21903            3336         organic baby spinach       123   \n",
       "6        47766            3044              organic avocado        24   \n",
       "7        19660            2336                 spring water       115   \n",
       "8        16797            2308                 strawberries        24   \n",
       "9        27966            2024          organic raspberries       123   \n",
       "10       44632            1914   sparkling water grapefruit       115   \n",
       "11       49235            1797          organic half & half        53   \n",
       "12       47626            1737                  large lemon        24   \n",
       "13         196            1733                         soda        77   \n",
       "14       38689            1397     organic reduced fat milk        84   \n",
       "15       26209            1370                        limes        24   \n",
       "16       12341            1340                hass avocados        32   \n",
       "17        5785            1310  organic reduced fat 2% milk        84   \n",
       "18       27086            1309                  half & half        53   \n",
       "19       43352            1246                  raspberries        32   \n",
       "\n",
       "    department_id  \n",
       "0               4  \n",
       "1               4  \n",
       "2              16  \n",
       "3               4  \n",
       "4               4  \n",
       "5               4  \n",
       "6               4  \n",
       "7               7  \n",
       "8               4  \n",
       "9               4  \n",
       "10              7  \n",
       "11             16  \n",
       "12              4  \n",
       "13              7  \n",
       "14             16  \n",
       "15              4  \n",
       "16              4  \n",
       "17             16  \n",
       "18             16  \n",
       "19              4  "
      ]
     },
     "execution_count": 59,
     "metadata": {},
     "output_type": "execute_result"
    }
   ],
   "source": [
    "first = pd.merge(order_products, products)\n",
    "first = first[first['add_to_cart_order']==1]\n",
    "first = first.groupby(['product_id'])['product_name'].count().sort_values(ascending= False)\n",
    "first = pd.merge(first, products, on= 'product_id')\n",
    "first.head(20)"
   ]
  },
  {
   "cell_type": "markdown",
   "id": "bc20085a-61d5-4596-9c30-709b0f6dc48c",
   "metadata": {
    "id": "forty-netherlands",
    "scrolled": true
   },
   "source": [
    "<div class=\"alert alert-success\"; style=\"border-left: 7px solid green\">\n",
    "<b>✅ Reviewer's comment, v. 1</b> \n",
    "    \n",
    "Overall great job on this part."
   ]
  },
  {
   "cell_type": "code",
   "execution_count": null,
   "id": "08e41ec2",
   "metadata": {
    "id": "08e41ec2"
   },
   "outputs": [],
   "source": []
  },
  {
   "cell_type": "markdown",
   "id": "28ce9872",
   "metadata": {
    "id": "28ce9872"
   },
   "source": [
    "The products that are most often placed into the cart first are produce, dairy, and beverages such as soda or water. I couldn't really say why that is without experience using Instacart because this could have more to do with app design than properties of the products. I do notice that there is considerable overlap between this result and the previous result for most popular and most reordered item types. It could simply be that the app prioritizes popular items as the first suggested purchases, so it happens to be more convenient for customers to place these items in their cart first."
   ]
  },
  {
   "cell_type": "code",
   "execution_count": null,
   "id": "f4a2af09",
   "metadata": {
    "id": "f4a2af09"
   },
   "outputs": [],
   "source": []
  }
 ],
 "metadata": {
  "colab": {
   "provenance": []
  },
  "kernelspec": {
   "display_name": "Python 3 (ipykernel)",
   "language": "python",
   "name": "python3"
  },
  "language_info": {
   "codemirror_mode": {
    "name": "ipython",
    "version": 3
   },
   "file_extension": ".py",
   "mimetype": "text/x-python",
   "name": "python",
   "nbconvert_exporter": "python",
   "pygments_lexer": "ipython3",
   "version": "3.9.22"
  }
 },
 "nbformat": 4,
 "nbformat_minor": 5
}
